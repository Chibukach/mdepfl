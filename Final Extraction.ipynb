{
 "cells": [
  {
   "cell_type": "markdown",
   "metadata": {},
   "source": [
    "# Music Information Retrieval Based On The Free Music Archive Dataset\n"
   ]
  },
  {
   "cell_type": "code",
   "execution_count": 1,
   "metadata": {
    "collapsed": true
   },
   "outputs": [],
   "source": [
    "%matplotlib inline\n",
    "\n",
    "import os,IPython\n",
    "from os.path import join\n",
    "import numpy as np\n",
    "import matplotlib.pyplot as plt\n",
    "import pandas as pd\n",
    "from librosa.display import waveplot,specshow\n",
    "from librosa.onset import onset_strength, onset_detect\n",
    "from librosa.feature import melspectrogram, mfcc\n",
    "from librosa.core import zero_crossings\n",
    "from librosa import load\n",
    "\n",
    "\n",
    "from collections import OrderedDict\n",
    "from librosa import load\n",
    "from sklearn.preprocessing import LabelEncoder\n"
   ]
  },
  {
   "cell_type": "markdown",
   "metadata": {},
   "source": [
    "# Song Extraction from fma_small\n",
    "\n",
    "1. Find the song folder path relative to the current computer\n",
    "2. Identify each song via its full path to song using index, to guarantee one-to-one mapping and Retrieve the different genre classifications.\n",
    "3. Retrieve each song via its path and display the waveform\n",
    "3. Split the song into different segments\n",
    "4. Retrieve time domain features\n",
    "5. Retrieve frequency domain features"
   ]
  },
  {
   "cell_type": "markdown",
   "metadata": {},
   "source": [
    "### 1. This uses the Python Operating System (OS) library to access the file system that is unique to each OS .This enables to the code to be reused without modifying for individual computers"
   ]
  },
  {
   "cell_type": "code",
   "execution_count": 2,
   "metadata": {
    "collapsed": false
   },
   "outputs": [
    {
     "name": "stdout",
     "output_type": "stream",
     "text": [
      "/Users/chibmac/Documents/fma_small\n",
      "/Users/chibmac/Documents/fma_small/fma_small.json\n"
     ]
    }
   ],
   "source": [
    "#retrieving path to the fma_small directory and the corresponding meta data\n",
    "HOME_DIR = IPython.utils.path.get_home_dir()\n",
    "temp = join(HOME_DIR, 'Documents')\n",
    "path_to_small_fma = join(temp, 'fma_small')\n",
    "\n",
    "#locate meta_data\n",
    "json_file = join(path_to_small_fma,'fma_small.json')\n",
    "print(path_to_small_fma)\n",
    "df = pd.read_json(json_file)\n",
    "print(json_file)\n"
   ]
  },
  {
   "cell_type": "markdown",
   "metadata": {},
   "source": [
    "### 2. The genres and the train/test split are stored in the the json meta data associated with the cleaned FMA dataset from the LTS2 lab"
   ]
  },
  {
   "cell_type": "code",
   "execution_count": 3,
   "metadata": {
    "collapsed": false
   },
   "outputs": [
    {
     "data": {
      "text/plain": [
       "(4000, 30)"
      ]
     },
     "execution_count": 3,
     "metadata": {},
     "output_type": "execute_result"
    }
   ],
   "source": [
    "df.shape"
   ]
  },
  {
   "cell_type": "code",
   "execution_count": 4,
   "metadata": {
    "collapsed": false
   },
   "outputs": [
    {
     "data": {
      "text/html": [
       "<div>\n",
       "<table border=\"1\" class=\"dataframe\">\n",
       "  <thead>\n",
       "    <tr style=\"text-align: right;\">\n",
       "      <th></th>\n",
       "      <th>top_genre</th>\n",
       "      <th>train</th>\n",
       "      <th>full_path_to_song</th>\n",
       "    </tr>\n",
       "  </thead>\n",
       "  <tbody>\n",
       "    <tr>\n",
       "      <th>100538</th>\n",
       "      <td>Electronic</td>\n",
       "      <td>True</td>\n",
       "      <td>/Users/chibmac/Documents/fma_small/Electronic/...</td>\n",
       "    </tr>\n",
       "    <tr>\n",
       "      <th>43206</th>\n",
       "      <td>Electronic</td>\n",
       "      <td>True</td>\n",
       "      <td>/Users/chibmac/Documents/fma_small/Electronic/...</td>\n",
       "    </tr>\n",
       "    <tr>\n",
       "      <th>43199</th>\n",
       "      <td>Electronic</td>\n",
       "      <td>True</td>\n",
       "      <td>/Users/chibmac/Documents/fma_small/Electronic/...</td>\n",
       "    </tr>\n",
       "    <tr>\n",
       "      <th>43153</th>\n",
       "      <td>Electronic</td>\n",
       "      <td>True</td>\n",
       "      <td>/Users/chibmac/Documents/fma_small/Electronic/...</td>\n",
       "    </tr>\n",
       "    <tr>\n",
       "      <th>43124</th>\n",
       "      <td>Electronic</td>\n",
       "      <td>True</td>\n",
       "      <td>/Users/chibmac/Documents/fma_small/Electronic/...</td>\n",
       "    </tr>\n",
       "  </tbody>\n",
       "</table>\n",
       "</div>"
      ],
      "text/plain": [
       "         top_genre train                                  full_path_to_song\n",
       "100538  Electronic  True  /Users/chibmac/Documents/fma_small/Electronic/...\n",
       "43206   Electronic  True  /Users/chibmac/Documents/fma_small/Electronic/...\n",
       "43199   Electronic  True  /Users/chibmac/Documents/fma_small/Electronic/...\n",
       "43153   Electronic  True  /Users/chibmac/Documents/fma_small/Electronic/...\n",
       "43124   Electronic  True  /Users/chibmac/Documents/fma_small/Electronic/..."
      ]
     },
     "execution_count": 4,
     "metadata": {},
     "output_type": "execute_result"
    }
   ],
   "source": [
    "#only choose top genre as the label\n",
    "df = df.loc[:,['top_genre','train']]\n",
    "\n",
    "#ensure that the genre name matches file name in fma_small, \n",
    "#i.e Oldtime / Historian conflict issue\n",
    "df['top_genre']=df['top_genre'].apply(lambda y: y.split(os.sep)[0].strip())\n",
    "#locate each individual song by its full path\n",
    "df['temp'] = path_to_small_fma\n",
    "str_index = [\"%.2d\" % x for x in df.index]\n",
    "\n",
    "complete_genre_list_df = pd.DataFrame(df['top_genre'].unique(), columns = ['Genre'])\n",
    "\n",
    "#create full path to file and store as a single array\n",
    "df['full_path_to_song'] = df.temp.map(str)+ \"/\"+ df['top_genre'].values+ \"/\"+ str_index+ \".mp3\"\n",
    "del df['temp']\n",
    "#keep songs according to alphabetical order of songs \n",
    "df.sort_values(by = 'top_genre', inplace = True)\n",
    "df.head()\n"
   ]
  },
  {
   "cell_type": "code",
   "execution_count": 5,
   "metadata": {
    "collapsed": false
   },
   "outputs": [
    {
     "data": {
      "text/plain": [
       "array(['/Users/chibmac/Documents/fma_small/Electronic/100538.mp3'], dtype=object)"
      ]
     },
     "execution_count": 5,
     "metadata": {},
     "output_type": "execute_result"
    }
   ],
   "source": [
    "df['full_path_to_song'][:1].values"
   ]
  },
  {
   "cell_type": "code",
   "execution_count": 6,
   "metadata": {
    "collapsed": false
   },
   "outputs": [
    {
     "data": {
      "text/html": [
       "<div>\n",
       "<table border=\"1\" class=\"dataframe\">\n",
       "  <thead>\n",
       "    <tr style=\"text-align: right;\">\n",
       "      <th></th>\n",
       "      <th>Genre</th>\n",
       "    </tr>\n",
       "  </thead>\n",
       "  <tbody>\n",
       "    <tr>\n",
       "      <th>0</th>\n",
       "      <td>Electronic</td>\n",
       "    </tr>\n",
       "    <tr>\n",
       "      <th>1</th>\n",
       "      <td>Rock</td>\n",
       "    </tr>\n",
       "    <tr>\n",
       "      <th>2</th>\n",
       "      <td>Old-Time</td>\n",
       "    </tr>\n",
       "    <tr>\n",
       "      <th>3</th>\n",
       "      <td>Indie-Rock</td>\n",
       "    </tr>\n",
       "    <tr>\n",
       "      <th>4</th>\n",
       "      <td>Jazz</td>\n",
       "    </tr>\n",
       "    <tr>\n",
       "      <th>5</th>\n",
       "      <td>Folk</td>\n",
       "    </tr>\n",
       "    <tr>\n",
       "      <th>6</th>\n",
       "      <td>Pop</td>\n",
       "    </tr>\n",
       "    <tr>\n",
       "      <th>7</th>\n",
       "      <td>Psych-Rock</td>\n",
       "    </tr>\n",
       "    <tr>\n",
       "      <th>8</th>\n",
       "      <td>Punk</td>\n",
       "    </tr>\n",
       "    <tr>\n",
       "      <th>9</th>\n",
       "      <td>Hip-Hop</td>\n",
       "    </tr>\n",
       "  </tbody>\n",
       "</table>\n",
       "</div>"
      ],
      "text/plain": [
       "        Genre\n",
       "0  Electronic\n",
       "1        Rock\n",
       "2    Old-Time\n",
       "3  Indie-Rock\n",
       "4        Jazz\n",
       "5        Folk\n",
       "6         Pop\n",
       "7  Psych-Rock\n",
       "8        Punk\n",
       "9     Hip-Hop"
      ]
     },
     "execution_count": 6,
     "metadata": {},
     "output_type": "execute_result"
    }
   ],
   "source": [
    "complete_genre_list_df"
   ]
  },
  {
   "cell_type": "markdown",
   "metadata": {},
   "source": [
    "### 3. To split the song into different segments\n",
    "- Take the shortest length song possible in the dataset and reduce all songs to that length\n",
    "- Select two songs as demos\n",
    "- Plot graphs of the signals"
   ]
  },
  {
   "cell_type": "code",
   "execution_count": 7,
   "metadata": {
    "collapsed": false
   },
   "outputs": [
    {
     "data": {
      "text/plain": [
       "4000"
      ]
     },
     "execution_count": 7,
     "metadata": {},
     "output_type": "execute_result"
    }
   ],
   "source": [
    "#%%time\n",
    "num_of_songs = 3\n",
    "num_of_mfcc = 12\n",
    "sampling_rate = 44100\n",
    "min_song_length = 1322496\n",
    "num_of_songs = df.values.shape[0]\n",
    "num_of_songs"
   ]
  },
  {
   "cell_type": "code",
   "execution_count": 8,
   "metadata": {
    "collapsed": false
   },
   "outputs": [
    {
     "data": {
      "text/plain": [
       "'/Users/chibmac/Documents/fma_small/'"
      ]
     },
     "execution_count": 8,
     "metadata": {},
     "output_type": "execute_result"
    }
   ],
   "source": [
    "base_path = df['full_path_to_song'].values[0][:35]\n",
    "base_path"
   ]
  },
  {
   "cell_type": "code",
   "execution_count": 9,
   "metadata": {
    "collapsed": false
   },
   "outputs": [
    {
     "data": {
      "text/plain": [
       "'/Users/chibmac/Documents/fma_small/Electronic/108431.mp3'"
      ]
     },
     "execution_count": 9,
     "metadata": {},
     "output_type": "execute_result"
    }
   ],
   "source": [
    "elec_song_genre = df.iloc[399:400,0].values[0]\n",
    "elec_song_num = df.iloc[399:400,0].index[0]\n",
    "elec_path = base_path+elec_song_genre+\"/\"+str(elec_song_num)+\".mp3\"\n",
    "example_elec = load(elec_path, sr = sampling_rate)[0]\n",
    "elec_path"
   ]
  },
  {
   "cell_type": "code",
   "execution_count": 10,
   "metadata": {
    "collapsed": false
   },
   "outputs": [
    {
     "data": {
      "text/plain": [
       "'/Users/chibmac/Documents/fma_small/Folk/3631.mp3'"
      ]
     },
     "execution_count": 10,
     "metadata": {},
     "output_type": "execute_result"
    }
   ],
   "source": [
    "folk_song_genre = df.iloc[799:800,0].values[0]\n",
    "folk_song_num = df.iloc[799:800,0].index[0]\n",
    "folk_path = base_path+folk_song_genre+\"/\"+str(folk_song_num)+\".mp3\"\n",
    "example_folk = load(folk_path, sr = sampling_rate)[0]\n",
    "folk_path"
   ]
  },
  {
   "cell_type": "code",
   "execution_count": 11,
   "metadata": {
    "collapsed": false
   },
   "outputs": [
    {
     "data": {
      "text/plain": [
       "['/Users/chibmac/Documents/fma_small/Electronic/108431.mp3',\n",
       " '/Users/chibmac/Documents/fma_small/Folk/3631.mp3']"
      ]
     },
     "execution_count": 11,
     "metadata": {},
     "output_type": "execute_result"
    }
   ],
   "source": [
    "demo_paths = [elec_path,folk_path]\n",
    "demo_paths"
   ]
  },
  {
   "cell_type": "code",
   "execution_count": 12,
   "metadata": {
    "collapsed": false
   },
   "outputs": [
    {
     "data": {
      "text/plain": [
       "<matplotlib.text.Text at 0x11be48208>"
      ]
     },
     "execution_count": 12,
     "metadata": {},
     "output_type": "execute_result"
    },
    {
     "data": {
      "image/png": "[encoded data removed]",
      "text/plain": [
       "<matplotlib.figure.Figure at 0x11c702358>"
      ]
     },
     "metadata": {},
     "output_type": "display_data"
    }
   ],
   "source": [
    "plt.subplot(1,2,1)\n",
    "waveplot(example_elec)\n",
    "plt.title(elec_song_genre)\n",
    "\n",
    "plt.subplot(1,2,2)\n",
    "waveplot(example_folk)\n",
    "plt.title(folk_song_genre)"
   ]
  },
  {
   "cell_type": "markdown",
   "metadata": {},
   "source": [
    "### 3. To split the song into different segments\n",
    "- We take the shortest length song possible in the dataset and reduce all songs to that length\n",
    "- Break the song into a specified number of segments "
   ]
  },
  {
   "cell_type": "code",
   "execution_count": 13,
   "metadata": {
    "collapsed": false
   },
   "outputs": [
    {
     "data": {
      "text/plain": [
       "1320960"
      ]
     },
     "execution_count": 13,
     "metadata": {},
     "output_type": "execute_result"
    }
   ],
   "source": [
    "default_fft = 2048\n",
    "#this ensures that the \n",
    "demo_length = min_song_length-(min_song_length%default_fft)\n",
    "demo_elec_song_f = example_elec[:demo_length-1]\n",
    "demo_elec_song_t = example_elec[:demo_length]\n",
    "\n",
    "demo_length"
   ]
  },
  {
   "cell_type": "code",
   "execution_count": 14,
   "metadata": {
    "collapsed": false
   },
   "outputs": [
    {
     "data": {
      "text/plain": [
       "640"
      ]
     },
     "execution_count": 14,
     "metadata": {},
     "output_type": "execute_result"
    }
   ],
   "source": [
    "num_of_frames  = int(demo_length/default_fft) - int(demo_length/default_fft)%10\n",
    "num_of_frames"
   ]
  },
  {
   "cell_type": "code",
   "execution_count": 15,
   "metadata": {
    "collapsed": false
   },
   "outputs": [
    {
     "data": {
      "text/plain": [
       "10"
      ]
     },
     "execution_count": 15,
     "metadata": {},
     "output_type": "execute_result"
    }
   ],
   "source": [
    "#the number of frames will always be a factor of 2048 and in addition 5,10 since it ends is rounded to nearest 10\n",
    "segments_list = [1,2,4,5,8,10]\n",
    "#setting the number of segments to 10\n",
    "num_of_segments = segments_list[-1]\n",
    "num_of_segments"
   ]
  },
  {
   "cell_type": "code",
   "execution_count": 16,
   "metadata": {
    "collapsed": false
   },
   "outputs": [
    {
     "data": {
      "text/plain": [
       "64"
      ]
     },
     "execution_count": 16,
     "metadata": {},
     "output_type": "execute_result"
    }
   ],
   "source": [
    "num_of_frames_per_segment = int(num_of_frames/num_of_segments)\n",
    "num_of_frames_per_segment"
   ]
  },
  {
   "cell_type": "code",
   "execution_count": 17,
   "metadata": {
    "collapsed": false
   },
   "outputs": [
    {
     "data": {
      "text/plain": [
       "258"
      ]
     },
     "execution_count": 17,
     "metadata": {},
     "output_type": "execute_result"
    }
   ],
   "source": [
    "num_of_subframes = int(np.floor((min_song_length*4)/default_fft))\n",
    "#num_of_frames = num_of_frames-(num_of_frames%10)\n",
    "num_of_subframes_per_segment = int(num_of_subframes/num_of_segments)\n",
    "num_of_subframes_per_segment\n"
   ]
  },
  {
   "cell_type": "code",
   "execution_count": 18,
   "metadata": {
    "collapsed": false
   },
   "outputs": [
    {
     "ename": "NameError",
     "evalue": "name 'ind_song_into_segment' is not defined",
     "output_type": "error",
     "traceback": [
      "\u001b[0;31m---------------------------------------------------------------------------\u001b[0m",
      "\u001b[0;31mNameError\u001b[0m                                 Traceback (most recent call last)",
      "\u001b[0;32m<ipython-input-18-1220c018d3a0>\u001b[0m in \u001b[0;36m<module>\u001b[0;34m()\u001b[0m\n\u001b[0;32m----> 1\u001b[0;31m \u001b[0msong_into_segments\u001b[0m \u001b[0;34m=\u001b[0m \u001b[0mnp\u001b[0m\u001b[0;34m.\u001b[0m\u001b[0mreshape\u001b[0m\u001b[0;34m(\u001b[0m\u001b[0mdemo_elec_song_t\u001b[0m\u001b[0;34m,\u001b[0m\u001b[0;34m(\u001b[0m\u001b[0mnum_of_segments\u001b[0m\u001b[0;34m,\u001b[0m\u001b[0mind_song_into_segment\u001b[0m\u001b[0;34m)\u001b[0m\u001b[0;34m)\u001b[0m\u001b[0;34m\u001b[0m\u001b[0m\n\u001b[0m\u001b[1;32m      2\u001b[0m \u001b[0msong_into_segments\u001b[0m\u001b[0;34m.\u001b[0m\u001b[0mshape\u001b[0m\u001b[0;34m\u001b[0m\u001b[0m\n",
      "\u001b[0;31mNameError\u001b[0m: name 'ind_song_into_segment' is not defined"
     ]
    }
   ],
   "source": [
    "song_into_segments = np.reshape(demo_elec_song_t,(num_of_segments,ind_song_into_segment))\n",
    "song_into_segments.shape"
   ]
  },
  {
   "cell_type": "markdown",
   "metadata": {},
   "source": [
    "# Computing  Time Domain Features\n",
    "\n",
    "### The Time Domain Features that are in this project the Zero Crossings and the Onsets"
   ]
  },
  {
   "cell_type": "code",
   "execution_count": null,
   "metadata": {
    "collapsed": true
   },
   "outputs": [],
   "source": []
  },
  {
   "cell_type": "markdown",
   "metadata": {},
   "source": [
    "## Zero Crossings is the number of times that the song signals crosses the axis. \n",
    "- The librosa zero crossings function returns binary values, showing whether or not the song signal crossed the axis\n",
    "- The summation is across binary values to used to count the number of zero crossings\n",
    "- Reshape dependent on the number of segments"
   ]
  },
  {
   "cell_type": "code",
   "execution_count": null,
   "metadata": {
    "collapsed": false
   },
   "outputs": [],
   "source": [
    "zcr_features_per_segment = np.sum(zero_crossings(song_into_segments),axis = 1) #zero crossings returns boolean values\n",
    "zcr_features_per_segment = np.reshape(zcr_features_per_segment,(zcr_features_per_segment.shape[0],1))\n",
    "for i in range (num_of_segments):\n",
    "    print(\"Segment number %d: has %d zero crossings\"%(i+1,zcr_features_per_segment[i]))\n",
    "\n",
    "zcr_features_per_segment.shape"
   ]
  },
  {
   "cell_type": "code",
   "execution_count": null,
   "metadata": {
    "collapsed": true
   },
   "outputs": [],
   "source": []
  },
  {
   "cell_type": "markdown",
   "metadata": {},
   "source": [
    "## Onsets \n",
    "### 1 . "
   ]
  },
  {
   "cell_type": "code",
   "execution_count": null,
   "metadata": {
    "collapsed": false
   },
   "outputs": [],
   "source": [
    "onset_frames = onset_detect(y=demo_elec_song_t, sr=sampling_rate, units='samples')\n",
    "onset_length = len(onset_frames)\n",
    "onset_frames"
   ]
  },
  {
   "cell_type": "code",
   "execution_count": null,
   "metadata": {
    "collapsed": false
   },
   "outputs": [],
   "source": [
    "song_splitter = np.arange(0,len(demo_elec_song_t)+1, ind_song_into_segment,dtype=int)\n",
    "split_length = len(song_splitter)\n",
    "song_splitter"
   ]
  },
  {
   "cell_type": "code",
   "execution_count": null,
   "metadata": {
    "collapsed": false
   },
   "outputs": [],
   "source": [
    "total_onsets = [0]\n",
    "for i in range(1,len(song_splitter)):\n",
    "    total_onsets.append(np.sum(onset_frames<song_splitter[i]))\n",
    "\n",
    "total_onsets"
   ]
  },
  {
   "cell_type": "code",
   "execution_count": null,
   "metadata": {
    "collapsed": false
   },
   "outputs": [],
   "source": [
    "total_onset_diff = np.diff(total_onsets)\n",
    "onsets_features_per_segment = np.reshape(total_onset_diff,(len(total_onset_diff),1))\n",
    "for i in range (num_of_segments):\n",
    "    print(\"Segment number %d: has %d onsets\"%(i+1,onsets_features_per_segment[i]))\n",
    "\n",
    "onsets_features_per_segment.shape"
   ]
  },
  {
   "cell_type": "code",
   "execution_count": null,
   "metadata": {
    "collapsed": false
   },
   "outputs": [],
   "source": [
    "time_domain_features = np.concatenate((zcr_features_per_segment,onsets_features_per_segment),axis =1)\n",
    "time_domain_features"
   ]
  },
  {
   "cell_type": "markdown",
   "metadata": {},
   "source": [
    "# Computing  Frequency Domain Features\n",
    "\n",
    "### The Frequency Domain Features used in this project are the Mel-Frequency Cepstral Coefficients (MFCCs) "
   ]
  },
  {
   "cell_type": "code",
   "execution_count": null,
   "metadata": {
    "collapsed": true
   },
   "outputs": [],
   "source": []
  },
  {
   "cell_type": "code",
   "execution_count": null,
   "metadata": {
    "collapsed": true
   },
   "outputs": [],
   "source": []
  },
  {
   "cell_type": "code",
   "execution_count": null,
   "metadata": {
    "collapsed": true
   },
   "outputs": [],
   "source": []
  },
  {
   "cell_type": "code",
   "execution_count": null,
   "metadata": {
    "collapsed": true
   },
   "outputs": [],
   "source": []
  },
  {
   "cell_type": "markdown",
   "metadata": {},
   "source": [
    "## Spectral Centroid"
   ]
  },
  {
   "cell_type": "code",
   "execution_count": null,
   "metadata": {
    "collapsed": true
   },
   "outputs": [],
   "source": []
  },
  {
   "cell_type": "code",
   "execution_count": null,
   "metadata": {
    "collapsed": true
   },
   "outputs": [],
   "source": []
  },
  {
   "cell_type": "code",
   "execution_count": null,
   "metadata": {
    "collapsed": true
   },
   "outputs": [],
   "source": []
  },
  {
   "cell_type": "code",
   "execution_count": null,
   "metadata": {
    "collapsed": true
   },
   "outputs": [],
   "source": []
  },
  {
   "cell_type": "code",
   "execution_count": null,
   "metadata": {
    "collapsed": false
   },
   "outputs": [],
   "source": [
    "%%time\n",
    "complete_ds = np.zeros((10,3))\n",
    "\n",
    "for i in range(len(demo_paths)):\n",
    "    curr_song = load(df['full_path_to_song'].values[i],sr = sampling_rate)[0][:min_song_length]\n",
    "    curr_genre = df['top_genre'].values[i]\n",
    "    curr_train = df['train'].values[i]\n",
    "    mfcc_per_segment = mfcc(y=curr_song, sr=sampling_rate,\n",
    "                                         n_mfcc=num_of_mfcc).T\n",
    " \n"
   ]
  },
  {
   "cell_type": "code",
   "execution_count": null,
   "metadata": {
    "collapsed": true
   },
   "outputs": [],
   "source": []
  },
  {
   "cell_type": "code",
   "execution_count": null,
   "metadata": {
    "collapsed": false
   },
   "outputs": [],
   "source": []
  },
  {
   "cell_type": "code",
   "execution_count": null,
   "metadata": {
    "collapsed": true
   },
   "outputs": [],
   "source": []
  },
  {
   "cell_type": "code",
   "execution_count": null,
   "metadata": {
    "collapsed": false
   },
   "outputs": [],
   "source": [
    "curr_genre"
   ]
  },
  {
   "cell_type": "code",
   "execution_count": null,
   "metadata": {
    "collapsed": false
   },
   "outputs": [],
   "source": [
    "curr_train"
   ]
  },
  {
   "cell_type": "code",
   "execution_count": null,
   "metadata": {
    "collapsed": false
   },
   "outputs": [],
   "source": [
    "mfcc_per_segment.shape"
   ]
  },
  {
   "cell_type": "code",
   "execution_count": null,
   "metadata": {
    "collapsed": true
   },
   "outputs": [],
   "source": []
  },
  {
   "cell_type": "code",
   "execution_count": null,
   "metadata": {
    "collapsed": true
   },
   "outputs": [],
   "source": [
    "ok = np.zeros(mfcc_per_segment.shape)"
   ]
  },
  {
   "cell_type": "code",
   "execution_count": null,
   "metadata": {
    "collapsed": false
   },
   "outputs": [],
   "source": [
    "ok.shape"
   ]
  },
  {
   "cell_type": "code",
   "execution_count": null,
   "metadata": {
    "collapsed": false
   },
   "outputs": [],
   "source": [
    "ok.shape"
   ]
  },
  {
   "cell_type": "code",
   "execution_count": null,
   "metadata": {
    "collapsed": false
   },
   "outputs": [],
   "source": [
    "mfcc_per_segment.shape"
   ]
  },
  {
   "cell_type": "code",
   "execution_count": null,
   "metadata": {
    "collapsed": true
   },
   "outputs": [],
   "source": []
  },
  {
   "cell_type": "code",
   "execution_count": null,
   "metadata": {
    "collapsed": true
   },
   "outputs": [],
   "source": [
    "def complete_extract_features(song,num_of_mfcces,genre,train):\n",
    "    #print(\"i am here\",song.shape)\n",
    "    try:\n",
    "        min_song_length = 1322496\n",
    "        short_song_length = int(min_song_length/2)\n",
    "        short_song_length = short_song_length-(short_song_length%2048)\n",
    "        #print(\"over here again\")\n",
    "        print(\"I got in\")\n",
    "        num_of_frames = int(short_song_length/2048)\n",
    "        #number of frames to nearest 10 \n",
    "        num_of_frames = num_of_frames-(num_of_frames%10)\n",
    "        \n",
    "        #the number of frames will always be a factor of 2048 and in addition 5,10 since it ends is rounded to nearest 10\n",
    "        segments_list = [1,2,4,5,8,10]\n",
    "        num_of_segments = segments_list[-1]\n",
    "        \n",
    "        num_of_frames_per_segment = int(num_of_frames/num_of_segments)\n",
    "        \n",
    "        shortest_song_length = num_of_frames *2048\n",
    "        \n",
    "        num_of_subframes = int(np.floor((shortest_song_length*4)/2048))\n",
    "        #num_of_frames = num_of_frames-(num_of_frames%10)\n",
    "        num_of_subframes_per_segment = int(num_of_subframes/num_of_segments)\n",
    "\n",
    "        print(\"I got in\")\n",
    "        song_f = song[:shortest_song_length -1] \n",
    "        song_t = song[:shortest_song_length] \n",
    "        ind_song_into_segment = int(len(song_t)/num_of_segments)\n",
    "        song_into_segments = np.reshape(song_t,(num_of_segments,ind_song_into_segment))\n",
    "\n",
    "        \n",
    "        zcr_features_per_segment = np.sum(librosa.core.zero_crossings(song_into_segments),axis = 1) #zero crossings returns boolean values\n",
    "        zcr_features_per_segment = np.reshape(zcr_features_per_segment,(zcr_features_per_segment.shape[0],1))\n",
    "        print(\"I got in\")\n",
    "        onset_frames = librosa.onset.onset_detect(y=song_t, sr=sampling_rate, units='samples')\n",
    "        onset_length = len(onset_frames)\n",
    "        song_splitter = np.arange(0,len(song_t)+1, ind_song_into_segment,dtype=int)\n",
    "        split_length = len(song_splitter)\n",
    "        total_onsets = [0]\n",
    "        \n",
    "        print(\"I got in\")\n",
    "        for i in range(1,len(song_splitter)):\n",
    "            total_onsets.append(np.sum(onset_frames<song_splitter[i]))\n",
    "\n",
    "        total_onset_diff = np.diff(total_onsets)\n",
    "        onsets_features_per_segment = np.reshape(total_onset_diff,(len(total_onset_diff),1))\n",
    "        time_domain_features = np.concatenate((zcr_features_per_segment,onsets_features_per_segment),axis =1)\n",
    "\n",
    "        #print(\"over here again1\")\n",
    "        mfcc_per_segment = librosa.feature.mfcc(y=song_f, sr=sampling_rate,\n",
    "                                         n_mfcc=num_of_mfcc).T\n",
    "        mfcc_per_segment = np.reshape(mfcc_per_segment,(num_of_segments,num_of_subframes_per_segment,num_of_mfcc))\n",
    "\n",
    "        mean_mfcc_per_segment = np.mean(mfcc_per_segment,axis=1)\n",
    "        var_mfcc_per_segment = np.var(mfcc_per_segment,axis =1)\n",
    "        skew_mfcc_per_segment = scipy.stats.skew(mfcc_per_segment,axis =1)\n",
    "        kurtosis_mfcc_per_segment = scipy.stats.kurtosis(mfcc_per_segment,axis =1)\n",
    "        #print(\"over here again2\")\n",
    "        spectral_centroid = librosa.feature.spectral_centroid(y=song_f, sr=sampling_rate).T\n",
    "        spc_per_segment = np.reshape(spectral_centroid, (num_of_segments,num_of_subframes_per_segment))\n",
    "\n",
    "        mean_spc_per_segment = np.mean(spc_per_segment,axis=1)\n",
    "        mean_spc_per_segment = np.reshape(mean_spc_per_segment,(len(mean_spc_per_segment),1))\n",
    "        var_spc_per_segment = np.var(spc_per_segment,axis =1)\n",
    "        var_spc_per_segment = np.reshape(var_spc_per_segment,(len(var_spc_per_segment),1))\n",
    "        skew_spc_per_segment = scipy.stats.skew(spc_per_segment,axis =1)\n",
    "        skew_spc_per_segment = np.reshape(skew_spc_per_segment,(len(skew_spc_per_segment),1))\n",
    "        kurtosis_spc_per_segment = scipy.stats.kurtosis(spc_per_segment,axis =1)\n",
    "        kurtosis_spc_per_segment = np.reshape(kurtosis_spc_per_segment,(len(kurtosis_spc_per_segment),1))\n",
    "\n",
    "        spc_features_per_segment = np.concatenate((mean_spc_per_segment,var_spc_per_segment,skew_spc_per_segment,kurtosis_spc_per_segment),axis = 1)\n",
    "        #print(\"over here again3\")\n",
    "        freq_domain_feat_per_segment = np.concatenate((mfcc_features_per_segment,spc_features_per_segment),axis =1)\n",
    "        \n",
    "        features_per_segment= np.concatenate((time_domain_features,freq_domain_feat_per_segment),axis =1)\n",
    "        \n",
    "        #fps_x,fps_y = features_per_segment.shape\n",
    "        #features_per_segment = np.reshape(features_per_segment,(1,fps_x*fps_y))\n",
    "\n",
    "    except:        \n",
    "        print(\"There was an error whilst computing the features\")\n",
    "    return features_per_segment\n",
    "    "
   ]
  },
  {
   "cell_type": "code",
   "execution_count": null,
   "metadata": {
    "collapsed": false
   },
   "outputs": [],
   "source": [
    "!pwd"
   ]
  },
  {
   "cell_type": "code",
   "execution_count": null,
   "metadata": {
    "collapsed": false
   },
   "outputs": [],
   "source": []
  },
  {
   "cell_type": "code",
   "execution_count": null,
   "metadata": {
    "collapsed": false
   },
   "outputs": [],
   "source": [
    "print(\"The number of genres is:\", len(df['top_genre'].value_counts().sort_index()))"
   ]
  },
  {
   "cell_type": "code",
   "execution_count": null,
   "metadata": {
    "collapsed": false
   },
   "outputs": [],
   "source": []
  },
  {
   "cell_type": "code",
   "execution_count": null,
   "metadata": {
    "collapsed": true
   },
   "outputs": [],
   "source": []
  },
  {
   "cell_type": "code",
   "execution_count": null,
   "metadata": {
    "collapsed": false
   },
   "outputs": [],
   "source": [
    "le = LabelEncoder()\n",
    "genres= np.repeat(df['top_genre'].values,10,axis=0)\n",
    "print(genres.shape)\n",
    "encoded_genres= le.fit(genres)\n",
    "train_labels = np.repeat(np.squeeze(df.loc[:,['train']].values), 10,axis = 0)\n",
    "print(train_labels.shape)\n",
    "encoded_genres\n",
    "\n",
    "#Label Encoding Mapping\n",
    "encoder_df= pd.DataFrame(data= {'Genre':genres,\n",
    "                   'Encoded_Genre':le.transform(genres),\n",
    "                               'Train': train_labels})\n",
    "encoder_df.head()\n"
   ]
  },
  {
   "cell_type": "code",
   "execution_count": null,
   "metadata": {
    "collapsed": true
   },
   "outputs": [],
   "source": []
  },
  {
   "cell_type": "code",
   "execution_count": null,
   "metadata": {
    "collapsed": false
   },
   "outputs": [],
   "source": [
    "%%time\n",
    "num_of_songs = 3\n",
    "sampling_rate = 44100\n",
    "\n",
    "genre_signals_dict = OrderedDict()\n",
    "#creates a dictionary of the signals in a genre and their raw file\n",
    "for genre_path_name,genre_paths in paths_dict.items():\n",
    "    str1=genre_path_name[:-5]\n",
    "    str2 = \"signals\"\n",
    "    genre_signals = \"\".join((str1,str2))       \n",
    "    try:\n",
    "        first_three = genre_paths[:num_of_songs]\n",
    "        genre_signals_dict[genre_signals] = [\n",
    "        load(p,sr=None)[0] for p in first_three]\n",
    "    except IOError as exc:\n",
    "        print(\"Unable to locate folder\")\n",
    "        #raise IOError(\"%s: %s\" % (genre_paths, exc.strerror))\n",
    "        \n",
    "#genre_signals_dict\n",
    "#{genre_signals_name:genre_signals_paths}\n",
    "print(\"{'Electronic_signals:[array_of_all_electronic_paths]}\")"
   ]
  },
  {
   "cell_type": "code",
   "execution_count": null,
   "metadata": {
    "collapsed": true
   },
   "outputs": [],
   "source": []
  },
  {
   "cell_type": "code",
   "execution_count": null,
   "metadata": {
    "collapsed": true
   },
   "outputs": [],
   "source": []
  },
  {
   "cell_type": "code",
   "execution_count": null,
   "metadata": {
    "collapsed": false
   },
   "outputs": [],
   "source": [
    "song_counts = [] \n",
    "ordered_genres = [] \n",
    "full_song_df = OrderedDict()\n",
    "genre_to_song_dict = {}\n",
    "\n",
    "#retrieve number of songs per genre\n",
    "genre_and_count = df['top_genre'].value_counts().sort_index()\n",
    "all_songs_path = df['full_path_to_song'].values  \n",
    "\n",
    "\n",
    "#retrieve number of songs per genre with the order preserved in two lists\n",
    "#ordered_genres\n",
    "#song_counts\n",
    "for i,genre in enumerate(genre_and_count.index):\n",
    "    ordered_genres.append(genre)\n",
    "    temp = df['top_genre'].value_counts()[genre]\n",
    "    song_counts.append(temp)\n",
    "\n",
    "genre_to_song_zipped = zip(ordered_genres,song_counts)\n",
    "\n",
    "num_of_genre = np.shape(genre_and_count)[0]\n",
    "print(\"The number of genres is:\", num_of_genre)\n",
    "\n",
    "#dictionary with each song count and its corresponding genre\n",
    "for genre,song_count in genre_to_song_zipped:\n",
    "    genre_to_song_dict[genre] = song_count\n",
    "\n",
    "genre_to_song_dict"
   ]
  },
  {
   "cell_type": "code",
   "execution_count": null,
   "metadata": {
    "collapsed": false
   },
   "outputs": [],
   "source": [
    "song1, sampling_rate1 = load(\"/Users/chibmac/Documents/fma_small/Electronic/43206.mp3\")\n",
    "song2, sampling_rate2 = load(\"/Users/chibmac/Documents/fma_small/Electronic/43124.mp3\")"
   ]
  },
  {
   "cell_type": "code",
   "execution_count": null,
   "metadata": {
    "collapsed": false
   },
   "outputs": [],
   "source": [
    "genre_to_song_zipped"
   ]
  },
  {
   "cell_type": "code",
   "execution_count": null,
   "metadata": {
    "collapsed": true
   },
   "outputs": [],
   "source": []
  }
 ],
 "metadata": {
  "kernelspec": {
   "display_name": "Python 3",
   "language": "python",
   "name": "python3"
  },
  "language_info": {
   "codemirror_mode": {
    "name": "ipython",
    "version": 3
   },
   "file_extension": ".py",
   "mimetype": "text/x-python",
   "name": "python",
   "nbconvert_exporter": "python",
   "pygments_lexer": "ipython3",
   "version": "3.6.0"
  }
 },
 "nbformat": 4,
 "nbformat_minor": 2
}
