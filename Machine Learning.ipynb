{
 "cells": [
  {
   "cell_type": "code",
   "execution_count": 6,
   "metadata": {
    "collapsed": true
   },
   "outputs": [],
   "source": [
    "from pandas import read_hdf\n",
    "import pandas as pd\n",
    "import numpy as np"
   ]
  },
  {
   "cell_type": "code",
   "execution_count": 7,
   "metadata": {
    "collapsed": false
   },
   "outputs": [
    {
     "data": {
      "text/html": [
       "<div>\n",
       "<table border=\"1\" class=\"dataframe\">\n",
       "  <thead>\n",
       "    <tr style=\"text-align: right;\">\n",
       "      <th></th>\n",
       "      <th>Average_zcr</th>\n",
       "      <th>Std_zcr</th>\n",
       "      <th>Average_mfcc</th>\n",
       "      <th>Std_mfcc</th>\n",
       "      <th>Encoded_Genre</th>\n",
       "    </tr>\n",
       "  </thead>\n",
       "  <tbody>\n",
       "    <tr>\n",
       "      <th>song0</th>\n",
       "      <td>0.059827</td>\n",
       "      <td>0.048144</td>\n",
       "      <td>1.301995</td>\n",
       "      <td>66.321423</td>\n",
       "      <td>2.0</td>\n",
       "    </tr>\n",
       "    <tr>\n",
       "      <th>song1</th>\n",
       "      <td>0.032864</td>\n",
       "      <td>0.018240</td>\n",
       "      <td>3.246708</td>\n",
       "      <td>74.669932</td>\n",
       "      <td>0.0</td>\n",
       "    </tr>\n",
       "    <tr>\n",
       "      <th>song2</th>\n",
       "      <td>0.052200</td>\n",
       "      <td>0.020879</td>\n",
       "      <td>7.227504</td>\n",
       "      <td>65.923137</td>\n",
       "      <td>6.0</td>\n",
       "    </tr>\n",
       "  </tbody>\n",
       "</table>\n",
       "</div>"
      ],
      "text/plain": [
       "       Average_zcr   Std_zcr  Average_mfcc   Std_mfcc  Encoded_Genre\n",
       "song0     0.059827  0.048144      1.301995  66.321423            2.0\n",
       "song1     0.032864  0.018240      3.246708  74.669932            0.0\n",
       "song2     0.052200  0.020879      7.227504  65.923137            6.0"
      ]
     },
     "execution_count": 7,
     "metadata": {},
     "output_type": "execute_result"
    }
   ],
   "source": [
    "#return our data with an extra column 'Genre' to be used for table concatenatio\n",
    "demo_df = read_hdf('storage.h5', 'demoFile')\n",
    "demo_df"
   ]
  },
  {
   "cell_type": "code",
   "execution_count": 3,
   "metadata": {
    "collapsed": false
   },
   "outputs": [
    {
     "data": {
      "text/html": [
       "<div>\n",
       "<table border=\"1\" class=\"dataframe\">\n",
       "  <thead>\n",
       "    <tr style=\"text-align: right;\">\n",
       "      <th></th>\n",
       "      <th>Encoded</th>\n",
       "      <th>Genre</th>\n",
       "    </tr>\n",
       "  </thead>\n",
       "  <tbody>\n",
       "    <tr>\n",
       "      <th>0</th>\n",
       "      <td>0</td>\n",
       "      <td>Electronic</td>\n",
       "    </tr>\n",
       "    <tr>\n",
       "      <th>1</th>\n",
       "      <td>9</td>\n",
       "      <td>Rock</td>\n",
       "    </tr>\n",
       "    <tr>\n",
       "      <th>2</th>\n",
       "      <td>5</td>\n",
       "      <td>Old-Time</td>\n",
       "    </tr>\n",
       "    <tr>\n",
       "      <th>3</th>\n",
       "      <td>3</td>\n",
       "      <td>Indie-Rock</td>\n",
       "    </tr>\n",
       "    <tr>\n",
       "      <th>4</th>\n",
       "      <td>4</td>\n",
       "      <td>Jazz</td>\n",
       "    </tr>\n",
       "    <tr>\n",
       "      <th>5</th>\n",
       "      <td>1</td>\n",
       "      <td>Folk</td>\n",
       "    </tr>\n",
       "    <tr>\n",
       "      <th>6</th>\n",
       "      <td>6</td>\n",
       "      <td>Pop</td>\n",
       "    </tr>\n",
       "    <tr>\n",
       "      <th>7</th>\n",
       "      <td>7</td>\n",
       "      <td>Psych-Rock</td>\n",
       "    </tr>\n",
       "    <tr>\n",
       "      <th>8</th>\n",
       "      <td>8</td>\n",
       "      <td>Punk</td>\n",
       "    </tr>\n",
       "    <tr>\n",
       "      <th>9</th>\n",
       "      <td>2</td>\n",
       "      <td>Hip-Hop</td>\n",
       "    </tr>\n",
       "  </tbody>\n",
       "</table>\n",
       "</div>"
      ],
      "text/plain": [
       "   Encoded       Genre\n",
       "0        0  Electronic\n",
       "1        9        Rock\n",
       "2        5    Old-Time\n",
       "3        3  Indie-Rock\n",
       "4        4        Jazz\n",
       "5        1        Folk\n",
       "6        6         Pop\n",
       "7        7  Psych-Rock\n",
       "8        8        Punk\n",
       "9        2     Hip-Hop"
      ]
     },
     "execution_count": 3,
     "metadata": {},
     "output_type": "execute_result"
    }
   ],
   "source": [
    "#mapping from numerical to categorical\n",
    "encoder_df = pd.read_csv('Encoder_mapping.csv')\n",
    "del encoder_df[\"Unnamed: 0\"]\n",
    "encoder_df"
   ]
  },
  {
   "cell_type": "code",
   "execution_count": 4,
   "metadata": {
    "collapsed": false
   },
   "outputs": [
    {
     "data": {
      "text/html": [
       "<div>\n",
       "<table border=\"1\" class=\"dataframe\">\n",
       "  <thead>\n",
       "    <tr style=\"text-align: right;\">\n",
       "      <th></th>\n",
       "      <th>Average_zcr</th>\n",
       "      <th>Std_zcr</th>\n",
       "      <th>Average_mfcc</th>\n",
       "      <th>Std_mfcc</th>\n",
       "      <th>Encoded</th>\n",
       "      <th>Genre</th>\n",
       "    </tr>\n",
       "  </thead>\n",
       "  <tbody>\n",
       "    <tr>\n",
       "      <th>0</th>\n",
       "      <td>0.059827</td>\n",
       "      <td>0.048144</td>\n",
       "      <td>1.301995</td>\n",
       "      <td>66.321423</td>\n",
       "      <td>2.0</td>\n",
       "      <td>Hip-Hop</td>\n",
       "    </tr>\n",
       "    <tr>\n",
       "      <th>1</th>\n",
       "      <td>0.032864</td>\n",
       "      <td>0.018240</td>\n",
       "      <td>3.246708</td>\n",
       "      <td>74.669932</td>\n",
       "      <td>0.0</td>\n",
       "      <td>Electronic</td>\n",
       "    </tr>\n",
       "    <tr>\n",
       "      <th>2</th>\n",
       "      <td>0.052200</td>\n",
       "      <td>0.020879</td>\n",
       "      <td>7.227504</td>\n",
       "      <td>65.923137</td>\n",
       "      <td>6.0</td>\n",
       "      <td>Pop</td>\n",
       "    </tr>\n",
       "  </tbody>\n",
       "</table>\n",
       "</div>"
      ],
      "text/plain": [
       "   Average_zcr   Std_zcr  Average_mfcc   Std_mfcc  Encoded       Genre\n",
       "0     0.059827  0.048144      1.301995  66.321423      2.0     Hip-Hop\n",
       "1     0.032864  0.018240      3.246708  74.669932      0.0  Electronic\n",
       "2     0.052200  0.020879      7.227504  65.923137      6.0         Pop"
      ]
     },
     "execution_count": 4,
     "metadata": {},
     "output_type": "execute_result"
    }
   ],
   "source": [
    "pd.merge(left=demo_df,right=encoder_df,on = ['Encoded'])"
   ]
  },
  {
   "cell_type": "raw",
   "metadata": {},
   "source": [
    "each song - all the encodeds\n",
    "do truee comparison,\n",
    "remove false\n",
    "merge"
   ]
  },
  {
   "cell_type": "code",
   "execution_count": null,
   "metadata": {
    "collapsed": true
   },
   "outputs": [],
   "source": []
  },
  {
   "cell_type": "code",
   "execution_count": null,
   "metadata": {
    "collapsed": true
   },
   "outputs": [],
   "source": []
  },
  {
   "cell_type": "code",
   "execution_count": null,
   "metadata": {
    "collapsed": true
   },
   "outputs": [],
   "source": []
  }
 ],
 "metadata": {
  "kernelspec": {
   "display_name": "Python 3",
   "language": "python",
   "name": "python3"
  },
  "language_info": {
   "codemirror_mode": {
    "name": "ipython",
    "version": 3
   },
   "file_extension": ".py",
   "mimetype": "text/x-python",
   "name": "python",
   "nbconvert_exporter": "python",
   "pygments_lexer": "ipython3",
   "version": "3.6.0"
  }
 },
 "nbformat": 4,
 "nbformat_minor": 2
}
