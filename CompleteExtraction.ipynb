{
 "cells": [
  {
   "cell_type": "code",
   "execution_count": 26,
   "metadata": {
    "collapsed": false
   },
   "outputs": [],
   "source": [
    "%matplotlib inline\n",
    "import numpy as np\n",
    "import matplotlib.pyplot as plt\n",
    "import pandas as pd\n",
    "import os,IPython, librosa, mir_eval\n",
    "from os import listdir\n",
    "from os.path import isfile, join,isdir\n",
    "from IPython.display import Audio\n",
    "from librosa.display import waveplot,specshow\n",
    "from librosa.onset import onset_strength, onset_detect\n",
    "from librosa.feature import melspectrogram, mfcc\n",
    "from librosa import load\n",
    "\n",
    "from collections import defaultdict,OrderedDict\n",
    "import sklearn\n",
    "from sklearn.preprocessing import StandardScaler,LabelEncoder\n",
    "import scipy\n",
    "from pandas import HDFStore,DataFrame\n",
    "\n"
   ]
  },
  {
   "cell_type": "code",
   "execution_count": 27,
   "metadata": {
    "collapsed": false
   },
   "outputs": [],
   "source": [
    "song, sampling_rate = librosa.load(\"/Users/chibmac/Documents/fma_small/Electronic/99289.mp3\")\n"
   ]
  },
  {
   "cell_type": "code",
   "execution_count": 28,
   "metadata": {
    "collapsed": false
   },
   "outputs": [
    {
     "data": {
      "text/plain": [
       "661248"
      ]
     },
     "execution_count": 28,
     "metadata": {},
     "output_type": "execute_result"
    }
   ],
   "source": [
    "song_length = song.shape[0]\n",
    "song_length"
   ]
  },
  {
   "cell_type": "code",
   "execution_count": 29,
   "metadata": {
    "collapsed": false
   },
   "outputs": [
    {
     "data": {
      "text/plain": [
       "27552.0"
      ]
     },
     "execution_count": 29,
     "metadata": {},
     "output_type": "execute_result"
    }
   ],
   "source": [
    "num_of_sections = 24\n",
    "song_length/num_of_sections"
   ]
  },
  {
   "cell_type": "code",
   "execution_count": 30,
   "metadata": {
    "collapsed": false
   },
   "outputs": [
    {
     "data": {
      "text/plain": [
       "array([     0,  27552,  55104,  82656, 110208, 137760, 165312, 192864,\n",
       "       220416, 247968, 275520, 303072, 330624, 358176, 385728, 413280,\n",
       "       440832, 468384, 495936, 523488, 551040, 578592, 606144, 633696,\n",
       "       661248])"
      ]
     },
     "execution_count": 30,
     "metadata": {},
     "output_type": "execute_result"
    }
   ],
   "source": [
    "#+1 so the last index is included\n",
    "song_splitter = np.arange(0,song_length+1,song_length/num_of_sections,dtype=int)\n",
    "song_splitter"
   ]
  },
  {
   "cell_type": "code",
   "execution_count": 31,
   "metadata": {
    "collapsed": false
   },
   "outputs": [
    {
     "data": {
      "text/plain": [
       "27552"
      ]
     },
     "execution_count": 31,
     "metadata": {},
     "output_type": "execute_result"
    }
   ],
   "source": [
    "unit_song = song[song_splitter[0]:song_splitter[1]]\n",
    "unit_song_length = unit_song.shape[0]\n",
    "unit_song_length"
   ]
  },
  {
   "cell_type": "code",
   "execution_count": 32,
   "metadata": {
    "collapsed": false
   },
   "outputs": [
    {
     "data": {
      "text/plain": [
       "288"
      ]
     },
     "execution_count": 32,
     "metadata": {},
     "output_type": "execute_result"
    }
   ],
   "source": [
    "num_of_mfcc = 12\n",
    "\n",
    "complete_split = num_of_sections *num_of_mfcc\n",
    "complete_split"
   ]
  },
  {
   "cell_type": "code",
   "execution_count": 33,
   "metadata": {
    "collapsed": false
   },
   "outputs": [],
   "source": [
    "window_width = np.int(unit_song_length/num_of_sections)+1"
   ]
  },
  {
   "cell_type": "code",
   "execution_count": 34,
   "metadata": {
    "collapsed": false
   },
   "outputs": [
    {
     "data": {
      "text/plain": [
       "(24, 12)"
      ]
     },
     "execution_count": 34,
     "metadata": {},
     "output_type": "execute_result"
    }
   ],
   "source": [
    "unit_mfcc = librosa.feature.mfcc(y=unit_song, sr=sampling_rate,n_mfcc=num_of_mfcc,hop_length = window_width).T\n",
    "\n",
    "unit_mfcc.shape"
   ]
  },
  {
   "cell_type": "code",
   "execution_count": 35,
   "metadata": {
    "collapsed": false
   },
   "outputs": [
    {
     "data": {
      "text/plain": [
       "(27552,)"
      ]
     },
     "execution_count": 35,
     "metadata": {},
     "output_type": "execute_result"
    }
   ],
   "source": [
    "unit_song.shape"
   ]
  },
  {
   "cell_type": "code",
   "execution_count": 36,
   "metadata": {
    "collapsed": false
   },
   "outputs": [
    {
     "data": {
      "text/plain": [
       "(24, 1148)"
      ]
     },
     "execution_count": 36,
     "metadata": {},
     "output_type": "execute_result"
    }
   ],
   "source": [
    "split_song = np.reshape(unit_song,(num_of_sections,int(unit_song_length/num_of_sections)))\n",
    "split_song.shape"
   ]
  },
  {
   "cell_type": "code",
   "execution_count": 37,
   "metadata": {
    "collapsed": false
   },
   "outputs": [
    {
     "data": {
      "text/plain": [
       "array([ 83,  34,  34,  35,  65,  92, 131,  78,  50,  75,  79,  93,  44,\n",
       "        63,  67, 118, 101,  67,  31,  49,  72,  55,  82,  39])"
      ]
     },
     "execution_count": 37,
     "metadata": {},
     "output_type": "execute_result"
    }
   ],
   "source": [
    "unit_zcr = np.sum(librosa.core.zero_crossings(split_song),axis =1)\n",
    "unit_zcr"
   ]
  },
  {
   "cell_type": "code",
   "execution_count": 38,
   "metadata": {
    "collapsed": false
   },
   "outputs": [
    {
     "data": {
      "text/plain": [
       "(24,)"
      ]
     },
     "execution_count": 38,
     "metadata": {},
     "output_type": "execute_result"
    }
   ],
   "source": [
    "unit_zcr.shape"
   ]
  },
  {
   "cell_type": "code",
   "execution_count": 39,
   "metadata": {
    "collapsed": false
   },
   "outputs": [
    {
     "data": {
      "text/plain": [
       "(24, 13)"
      ]
     },
     "execution_count": 39,
     "metadata": {},
     "output_type": "execute_result"
    }
   ],
   "source": [
    "ind_unit_features=np.concatenate((unit_mfcc,np.array([unit_zcr]).T),axis=1)\n",
    "ind_unit_features.shape"
   ]
  },
  {
   "cell_type": "code",
   "execution_count": 40,
   "metadata": {
    "collapsed": true
   },
   "outputs": [],
   "source": [
    "def complete_extract_features(song,num_of_sections,num_of_mfcc,genre):  \n",
    "    complete_split = num_of_sections *num_of_mfcc\n",
    "    song_splitter = np.arange(0,song_length+1,song_length/num_of_sections,dtype=int)\n",
    "    genres = np.ones(num_of_sections,dtype=int) * genre\n",
    "    for i in range(len(song_splitter)):\n",
    "        unit_song = song[song_splitter[i]:song_splitter[i+1]]\n",
    "        unit_song_length = unit_song.shape[0]\n",
    "        window_width = np.int(unit_song_length/num_of_sections)+1\n",
    "        unit_mfcc = librosa.feature.mfcc(y=unit_song, sr=sampling_rate,n_mfcc=num_of_mfcc,hop_length = window_width).T\n",
    "        split_song = np.reshape(unit_song,(num_of_sections,int(unit_song_length/num_of_sections)))\n",
    "        unit_zcr = np.sum(librosa.core.zero_crossings(split_song),axis =1)\n",
    "        ind_unit_features=np.concatenate((unit_mfcc,np.array([unit_zcr]).T),axis=1)\n",
    "        ind_unit_features = np.reshape(ind_unit_features,(1,np.size(ind_unit_features)))\n",
    "               \n",
    "        genre = np.matrix(genre)\n",
    "        \n",
    "        #rep_genre =np.array([np.ones(num_of_sections,dtype=int)* 24]).T \n",
    "        \n",
    "        full_feat_gen = np.concatenate((ind_unit_features,genre),axis=1)\n",
    "        \n",
    "        return full_feat_gen"
   ]
  },
  {
   "cell_type": "code",
   "execution_count": 41,
   "metadata": {
    "collapsed": false
   },
   "outputs": [
    {
     "data": {
      "text/plain": [
       "(1, 313)"
      ]
     },
     "execution_count": 41,
     "metadata": {},
     "output_type": "execute_result"
    }
   ],
   "source": [
    "test_out = complete_extract_features(song,num_of_sections,num_of_mfcc,20)\n",
    "\n",
    "test_out.shape"
   ]
  },
  {
   "cell_type": "markdown",
   "metadata": {},
   "source": [
    "# Song Extraction from fma_small\n",
    "\n",
    "1. Find the song folder path relative to the current computer\n",
    "2. Retrieve the different genre classifications\n",
    "3. Identify each song via its full path to song using index, to guarantee one-to-one mapping \n",
    "4. Sort in alphabetical order"
   ]
  },
  {
   "cell_type": "code",
   "execution_count": 42,
   "metadata": {
    "collapsed": false
   },
   "outputs": [
    {
     "name": "stdout",
     "output_type": "stream",
     "text": [
      "/Users/chibmac/Documents/fma_small\n",
      "/Users/chibmac/Documents/fma_small/fma_small.json\n"
     ]
    }
   ],
   "source": [
    "#retrieving path to the fma_small directory and the corresponding meta data\n",
    "HOME_DIR = IPython.utils.path.get_home_dir()\n",
    "\n",
    "temp = join(HOME_DIR, 'Documents')\n",
    "path_to_small_fma = join(temp, 'fma_small')\n",
    "json_file = join(path_to_small_fma,'fma_small.json')\n",
    "#locate meta_dta\n",
    "print(path_to_small_fma)\n",
    "df = pd.read_json(json_file)\n",
    "print(json_file)\n"
   ]
  },
  {
   "cell_type": "code",
   "execution_count": 43,
   "metadata": {
    "collapsed": false
   },
   "outputs": [
    {
     "data": {
      "text/html": [
       "<div>\n",
       "<table border=\"1\" class=\"dataframe\">\n",
       "  <thead>\n",
       "    <tr style=\"text-align: right;\">\n",
       "      <th></th>\n",
       "      <th>top_genre</th>\n",
       "      <th>full_path_to_song</th>\n",
       "    </tr>\n",
       "  </thead>\n",
       "  <tbody>\n",
       "    <tr>\n",
       "      <th>100538</th>\n",
       "      <td>Electronic</td>\n",
       "      <td>/Users/chibmac/Documents/fma_small/Electronic/...</td>\n",
       "    </tr>\n",
       "    <tr>\n",
       "      <th>43206</th>\n",
       "      <td>Electronic</td>\n",
       "      <td>/Users/chibmac/Documents/fma_small/Electronic/...</td>\n",
       "    </tr>\n",
       "    <tr>\n",
       "      <th>43199</th>\n",
       "      <td>Electronic</td>\n",
       "      <td>/Users/chibmac/Documents/fma_small/Electronic/...</td>\n",
       "    </tr>\n",
       "    <tr>\n",
       "      <th>43153</th>\n",
       "      <td>Electronic</td>\n",
       "      <td>/Users/chibmac/Documents/fma_small/Electronic/...</td>\n",
       "    </tr>\n",
       "    <tr>\n",
       "      <th>43124</th>\n",
       "      <td>Electronic</td>\n",
       "      <td>/Users/chibmac/Documents/fma_small/Electronic/...</td>\n",
       "    </tr>\n",
       "  </tbody>\n",
       "</table>\n",
       "</div>"
      ],
      "text/plain": [
       "         top_genre                                  full_path_to_song\n",
       "100538  Electronic  /Users/chibmac/Documents/fma_small/Electronic/...\n",
       "43206   Electronic  /Users/chibmac/Documents/fma_small/Electronic/...\n",
       "43199   Electronic  /Users/chibmac/Documents/fma_small/Electronic/...\n",
       "43153   Electronic  /Users/chibmac/Documents/fma_small/Electronic/...\n",
       "43124   Electronic  /Users/chibmac/Documents/fma_small/Electronic/..."
      ]
     },
     "execution_count": 43,
     "metadata": {},
     "output_type": "execute_result"
    }
   ],
   "source": [
    "#only choose top genre as the label\n",
    "df = df.loc[:,['top_genre']]\n",
    "\n",
    "#ensure that the genre name matches file name in fma_small, \n",
    "#i.e Oldtime / Historian conflict issue\n",
    "df['top_genre']=df['top_genre'].apply(lambda y: y.split(os.sep)[0].strip())\n",
    "#locate each individual song by its full path\n",
    "df['temp'] = path_to_small_fma\n",
    "str_index = [\"%.2d\" % x for x in df.index]\n",
    "complete_genre_list = df['top_genre'].unique()\n",
    "\n",
    "#create full path to file and store as a single array\n",
    "df['full_path_to_song'] = df.temp.map(str)+ \"/\"+ df['top_genre'].values+ \"/\"+ str_index+ \".mp3\"\n",
    "del df['temp']\n",
    "#keep songs according to alphabetical order of songs \n",
    "df.sort_values(by = 'top_genre', inplace = True)\n",
    "df.head()\n"
   ]
  },
  {
   "cell_type": "code",
   "execution_count": 44,
   "metadata": {
    "collapsed": false
   },
   "outputs": [],
   "source": [
    "complete_genre_list_df = pd.DataFrame(complete_genre_list, columns = ['Genre'])"
   ]
  },
  {
   "cell_type": "code",
   "execution_count": 45,
   "metadata": {
    "collapsed": false
   },
   "outputs": [
    {
     "name": "stdout",
     "output_type": "stream",
     "text": [
      "Electronic    400\n",
      "Folk          400\n",
      "Hip-Hop       400\n",
      "Indie-Rock    400\n",
      "Jazz          400\n",
      "Old-Time      400\n",
      "Pop           400\n",
      "Psych-Rock    400\n",
      "Punk          400\n",
      "Rock          400\n",
      "Name: top_genre, dtype: int64\n"
     ]
    }
   ],
   "source": [
    "#retrieve number of songs per genre\n",
    "genre_and_count = df['top_genre'].value_counts().sort_index()\n",
    "all_songs_path = df['full_path_to_song'].values  \n",
    "print(genre_and_count)"
   ]
  },
  {
   "cell_type": "code",
   "execution_count": 46,
   "metadata": {
    "collapsed": false
   },
   "outputs": [
    {
     "name": "stdout",
     "output_type": "stream",
     "text": [
      "The number of genres is: 10\n"
     ]
    },
    {
     "data": {
      "text/plain": [
       "{'Electronic': 400,\n",
       " 'Folk': 400,\n",
       " 'Hip-Hop': 400,\n",
       " 'Indie-Rock': 400,\n",
       " 'Jazz': 400,\n",
       " 'Old-Time': 400,\n",
       " 'Pop': 400,\n",
       " 'Psych-Rock': 400,\n",
       " 'Punk': 400,\n",
       " 'Rock': 400}"
      ]
     },
     "execution_count": 46,
     "metadata": {},
     "output_type": "execute_result"
    }
   ],
   "source": [
    "song_counts = [] \n",
    "ordered_genres = [] \n",
    "full_song_df = OrderedDict()\n",
    "genre_to_song_dict = {}\n",
    "\n",
    "\n",
    "#retrieve number of songs per genre with the order preserved in two lists\n",
    "#ordered_genres\n",
    "#song_counts\n",
    "for i,genre in enumerate(genre_and_count.index):\n",
    "    ordered_genres.append(genre)\n",
    "    temp = df['top_genre'].value_counts()[genre]\n",
    "    song_counts.append(temp)\n",
    "\n",
    "genre_to_song_zipped = zip(ordered_genres,song_counts)\n",
    "\n",
    "num_of_genre = np.shape(genre_and_count)[0]\n",
    "print(\"The number of genres is:\", num_of_genre)\n",
    "\n",
    "#dictionary with each song count and its corresponding genre\n",
    "for genre,song_count in genre_to_song_zipped:\n",
    "    genre_to_song_dict[genre] = song_count\n",
    "\n",
    "genre_to_song_dict"
   ]
  },
  {
   "cell_type": "code",
   "execution_count": 47,
   "metadata": {
    "collapsed": false
   },
   "outputs": [
    {
     "name": "stdout",
     "output_type": "stream",
     "text": [
      "{'Electronic_paths:[array_of_all_electronic_paths]}\n"
     ]
    }
   ],
   "source": [
    "num_of_genre = np.shape(genre_and_count)[0]\n",
    "all_songs_path = df['full_path_to_song'].values\n",
    "\n",
    "paths_dict = OrderedDict()\n",
    "\n",
    "#prepend zero so we have a start point for all_songs_path \n",
    "#and avoid messing with indices\n",
    "\n",
    "#use the cumulative sum to find none uniform ranges\n",
    "song_counts.insert(0,0)\n",
    "cumulative_sum = np.cumsum(song_counts,dtype=int)\n",
    "\n",
    "#creates a dictionary of the genres and its corresponding path\n",
    "for i,genre in enumerate(ordered_genres):\n",
    "    str1=genre\n",
    "    str2 = \"_paths\"\n",
    "    genre_paths = \"\".join((str1,str2))\n",
    "    paths_dict[genre_paths] = all_songs_path[cumulative_sum[i]:cumulative_sum[i+1]]\n",
    "\n",
    "#paths_dict\n",
    "#{genre_path_name: genre_paths}\n",
    "print(\"{'Electronic_paths:[array_of_all_electronic_paths]}\")"
   ]
  },
  {
   "cell_type": "code",
   "execution_count": 48,
   "metadata": {
    "collapsed": false
   },
   "outputs": [
    {
     "name": "stdout",
     "output_type": "stream",
     "text": [
      "{'Electronic_signals:[array_of_all_electronic_paths]}\n",
      "CPU times: user 5.2 s, sys: 435 ms, total: 5.63 s\n",
      "Wall time: 5.65 s\n"
     ]
    }
   ],
   "source": [
    "%%time\n",
    "num_of_songs = 3\n",
    "sampling_rate = 44100\n",
    "\n",
    "genre_signals_dict = OrderedDict()\n",
    "#creates a dictionary of the signals in a genre and their raw file\n",
    "for genre_path_name,genre_paths in paths_dict.items():\n",
    "    str1=genre_path_name[:-5]\n",
    "    str2 = \"signals\"\n",
    "    genre_signals = \"\".join((str1,str2))       \n",
    "    try:\n",
    "        first_three = genre_paths[:num_of_songs]\n",
    "        genre_signals_dict[genre_signals] = [\n",
    "        load(p,sr=None)[0] for p in first_three]\n",
    "    except IOError as exc:\n",
    "        print(\"Unable to locate folder\")\n",
    "        #raise IOError(\"%s: %s\" % (genre_paths, exc.strerror))\n",
    "        \n",
    "#genre_signals_dict\n",
    "#{genre_signals_name:genre_signals_paths}\n",
    "print(\"{'Electronic_signals:[array_of_all_electronic_paths]}\")"
   ]
  },
  {
   "cell_type": "code",
   "execution_count": 49,
   "metadata": {
    "collapsed": false
   },
   "outputs": [
    {
     "data": {
      "image/png": "[encoded data removed]",
      "text/plain": [
       "<matplotlib.figure.Figure at 0x11c5b29b0>"
      ]
     },
     "metadata": {},
     "output_type": "display_data"
    },
    {
     "data": {
      "image/png": "[encoded data removed]",
      "text/plain": [
       "<matplotlib.figure.Figure at 0x11c5a9240>"
      ]
     },
     "metadata": {},
     "output_type": "display_data"
    },
    {
     "data": {
      "image/png": "[encoded data removed]",
      "text/plain": [
       "<matplotlib.figure.Figure at 0x11bd274a8>"
      ]
     },
     "metadata": {},
     "output_type": "display_data"
    },
    {
     "data": {
      "image/png": "[encoded data removed]",
      "text/plain": [
       "<matplotlib.figure.Figure at 0x11c360438>"
      ]
     },
     "metadata": {},
     "output_type": "display_data"
    },
    {
     "data": {
      "image/png": "[encoded data removed]",
      "text/plain": [
       "<matplotlib.figure.Figure at 0x11c1fecc0>"
      ]
     },
     "metadata": {},
     "output_type": "display_data"
    },
    {
     "data": {
      "image/png": "[encoded data removed]",
      "text/plain": [
       "<matplotlib.figure.Figure at 0x11c0f38d0>"
      ]
     },
     "metadata": {},
     "output_type": "display_data"
    },
    {
     "data": {
      "image/png": "[encoded data removed]",
      "text/plain": [
       "<matplotlib.figure.Figure at 0x11d776278>"
      ]
     },
     "metadata": {},
     "output_type": "display_data"
    },
    {
     "data": {
      "image/png": "[encoded data removed]",
      "text/plain": [
       "<matplotlib.figure.Figure at 0x11da584a8>"
      ]
     },
     "metadata": {},
     "output_type": "display_data"
    },
    {
     "data": {
      "image/png": "[encoded data removed]",
      "text/plain": [
       "<matplotlib.figure.Figure at 0x11caecc18>"
      ]
     },
     "metadata": {},
     "output_type": "display_data"
    },
    {
     "data": {
      "image/png": "[encoded data removed]",
      "text/plain": [
       "<matplotlib.figure.Figure at 0x11cbedd30>"
      ]
     },
     "metadata": {},
     "output_type": "display_data"
    },
    {
     "data": {
      "text/plain": [
       "<matplotlib.figure.Figure at 0x11ca65f60>"
      ]
     },
     "metadata": {},
     "output_type": "display_data"
    }
   ],
   "source": [
    "#plot the time series for each song according to the genres\n",
    "\n",
    "#sig_lengths = []\n",
    "for genre_signal_name,genre_signals in genre_signals_dict.items(): \n",
    "    for i, sig_amp in enumerate(genre_signals):\n",
    "        plt.subplot(1, num_of_songs, i+1)\n",
    "#        sig_lengths.append(len(sig_amp))\n",
    "        waveplot(sig_amp)\n",
    "        plt.ylim(-1, 1)\n",
    "        plt.title(genre_signal_name)\n",
    "    plt.figure()\n",
    "        \n",
    "    "
   ]
  },
  {
   "cell_type": "code",
   "execution_count": 50,
   "metadata": {
    "collapsed": false
   },
   "outputs": [],
   "source": [
    "song_num = 0\n",
    "tot_num_of_songs = cumulative_sum[-1]\n",
    "indiv_song_path= []\n",
    "for genre_path_name,genre_paths in paths_dict.items(): \n",
    "    song_num=song_num+1\n",
    "    indiv_song_path.append(genre_paths)\n",
    "  \n",
    "\n",
    "indiv_song_path_list = np.array(indiv_song_path).reshape(tot_num_of_songs,)"
   ]
  },
  {
   "cell_type": "code",
   "execution_count": 51,
   "metadata": {
    "collapsed": false
   },
   "outputs": [
    {
     "data": {
      "text/plain": [
       "array(['/Users/chibmac/Documents/fma_small/Electronic/100538.mp3',\n",
       "       '/Users/chibmac/Documents/fma_small/Electronic/43206.mp3',\n",
       "       '/Users/chibmac/Documents/fma_small/Electronic/43199.mp3', ...,\n",
       "       '/Users/chibmac/Documents/fma_small/Rock/693.mp3',\n",
       "       '/Users/chibmac/Documents/fma_small/Rock/41813.mp3',\n",
       "       '/Users/chibmac/Documents/fma_small/Rock/9999.mp3'], dtype=object)"
      ]
     },
     "execution_count": 51,
     "metadata": {},
     "output_type": "execute_result"
    }
   ],
   "source": [
    "indiv_song_path_list\n"
   ]
  },
  {
   "cell_type": "code",
   "execution_count": 52,
   "metadata": {
    "collapsed": false
   },
   "outputs": [],
   "source": [
    "genres = []\n",
    "for song_num in range(len(indiv_song_path_list)):\n",
    "    temp = indiv_song_path_list[song_num].split(os.sep)[-2]\n",
    "    genres.append(temp)\n",
    "        "
   ]
  },
  {
   "cell_type": "code",
   "execution_count": 53,
   "metadata": {
    "collapsed": false
   },
   "outputs": [
    {
     "data": {
      "text/html": [
       "<div>\n",
       "<table border=\"1\" class=\"dataframe\">\n",
       "  <thead>\n",
       "    <tr style=\"text-align: right;\">\n",
       "      <th></th>\n",
       "      <th>Encoded_Genre</th>\n",
       "      <th>Genre</th>\n",
       "    </tr>\n",
       "  </thead>\n",
       "  <tbody>\n",
       "    <tr>\n",
       "      <th>0</th>\n",
       "      <td>0</td>\n",
       "      <td>Electronic</td>\n",
       "    </tr>\n",
       "    <tr>\n",
       "      <th>1</th>\n",
       "      <td>0</td>\n",
       "      <td>Electronic</td>\n",
       "    </tr>\n",
       "    <tr>\n",
       "      <th>2</th>\n",
       "      <td>0</td>\n",
       "      <td>Electronic</td>\n",
       "    </tr>\n",
       "    <tr>\n",
       "      <th>3</th>\n",
       "      <td>0</td>\n",
       "      <td>Electronic</td>\n",
       "    </tr>\n",
       "    <tr>\n",
       "      <th>4</th>\n",
       "      <td>0</td>\n",
       "      <td>Electronic</td>\n",
       "    </tr>\n",
       "  </tbody>\n",
       "</table>\n",
       "</div>"
      ],
      "text/plain": [
       "   Encoded_Genre       Genre\n",
       "0              0  Electronic\n",
       "1              0  Electronic\n",
       "2              0  Electronic\n",
       "3              0  Electronic\n",
       "4              0  Electronic"
      ]
     },
     "execution_count": 53,
     "metadata": {},
     "output_type": "execute_result"
    }
   ],
   "source": [
    "le = LabelEncoder()\n",
    "encoded_genres= le.fit(genres)\n",
    "encoded_genres\n",
    "\n",
    "#Label Encoding Mapping\n",
    "encoder_df= pd.DataFrame(data= {'Genre':genres,\n",
    "                   'Encoded_Genre':le.transform(genres)})\n",
    "encoder_df.head()"
   ]
  },
  {
   "cell_type": "code",
   "execution_count": 54,
   "metadata": {
    "collapsed": false
   },
   "outputs": [
    {
     "name": "stdout",
     "output_type": "stream",
     "text": [
      "I AM HERE\n"
     ]
    }
   ],
   "source": [
    "print(\"I AM HERE\")"
   ]
  },
  {
   "cell_type": "code",
   "execution_count": 55,
   "metadata": {
    "collapsed": false
   },
   "outputs": [
    {
     "name": "stdout",
     "output_type": "stream",
     "text": [
      "(4000, 313)\n",
      "Unable to locate folder\n",
      "CPU times: user 1h 29min 12s, sys: 7min 37s, total: 1h 36min 50s\n",
      "Wall time: 13min 57s\n"
     ]
    }
   ],
   "source": [
    "%%time\n",
    "tot_num_of_songs = cumulative_sum[-1]\n",
    "final_d = np.zeros((tot_num_of_songs,test_out.shape[1]))\n",
    "print(final_d.shape)\n",
    "\n",
    "for song_num in range(len(indiv_song_path_list)):\n",
    "    try:\n",
    "        indiv_song_path = indiv_song_path_list[song_num]\n",
    "        song_signal = librosa.load(indiv_song_path,sr=None)[0]\n",
    "        curr_song_genre = encoder_df['Encoded_Genre'][song_num]\n",
    "        final_d[song_num]= complete_extract_features(song_signal,num_of_sections,num_of_mfcc,curr_song_genre)\n",
    "    except IOError as exc:\n",
    "        print(\"Unable to locate folder\")\n",
    "    \n",
    "\n",
    "\n",
    "            "
   ]
  },
  {
   "cell_type": "code",
   "execution_count": 56,
   "metadata": {
    "collapsed": false
   },
   "outputs": [
    {
     "data": {
      "text/plain": [
       "(4000, 313)"
      ]
     },
     "execution_count": 56,
     "metadata": {},
     "output_type": "execute_result"
    }
   ],
   "source": [
    "final_d.shape"
   ]
  },
  {
   "cell_type": "code",
   "execution_count": 57,
   "metadata": {
    "collapsed": false
   },
   "outputs": [
    {
     "name": "stdout",
     "output_type": "stream",
     "text": [
      "I AM HERE\n"
     ]
    }
   ],
   "source": [
    "print(\"I AM HERE\")"
   ]
  },
  {
   "cell_type": "code",
   "execution_count": 68,
   "metadata": {
    "collapsed": true
   },
   "outputs": [],
   "source": [
    "arb = 0\n",
    "temp=list(range(arb,test_out.shape[1]+1+arb))\n",
    "temp.pop(len(temp)-2)\n",
    "spe_col=np.array(temp)"
   ]
  },
  {
   "cell_type": "code",
   "execution_count": 69,
   "metadata": {
    "collapsed": false
   },
   "outputs": [
    {
     "data": {
      "text/html": [
       "<div>\n",
       "<table border=\"1\" class=\"dataframe\">\n",
       "  <thead>\n",
       "    <tr style=\"text-align: right;\">\n",
       "      <th></th>\n",
       "      <th>0</th>\n",
       "      <th>1</th>\n",
       "      <th>2</th>\n",
       "      <th>3</th>\n",
       "      <th>4</th>\n",
       "      <th>5</th>\n",
       "      <th>6</th>\n",
       "      <th>7</th>\n",
       "      <th>8</th>\n",
       "      <th>9</th>\n",
       "      <th>...</th>\n",
       "      <th>303</th>\n",
       "      <th>304</th>\n",
       "      <th>305</th>\n",
       "      <th>306</th>\n",
       "      <th>307</th>\n",
       "      <th>308</th>\n",
       "      <th>309</th>\n",
       "      <th>310</th>\n",
       "      <th>311</th>\n",
       "      <th>312</th>\n",
       "    </tr>\n",
       "  </thead>\n",
       "  <tbody>\n",
       "    <tr>\n",
       "      <th>0</th>\n",
       "      <td>-598.502223</td>\n",
       "      <td>34.538343</td>\n",
       "      <td>31.450577</td>\n",
       "      <td>26.824293</td>\n",
       "      <td>21.324431</td>\n",
       "      <td>15.680680</td>\n",
       "      <td>10.545881</td>\n",
       "      <td>6.381493</td>\n",
       "      <td>3.395057</td>\n",
       "      <td>1.540524</td>\n",
       "      <td>...</td>\n",
       "      <td>30.572326</td>\n",
       "      <td>13.456041</td>\n",
       "      <td>-3.584737</td>\n",
       "      <td>3.695816</td>\n",
       "      <td>1.638312</td>\n",
       "      <td>-4.001102</td>\n",
       "      <td>3.730596</td>\n",
       "      <td>6.045746</td>\n",
       "      <td>16.0</td>\n",
       "      <td>0.0</td>\n",
       "    </tr>\n",
       "    <tr>\n",
       "      <th>1</th>\n",
       "      <td>-624.344220</td>\n",
       "      <td>36.460312</td>\n",
       "      <td>29.645908</td>\n",
       "      <td>25.797801</td>\n",
       "      <td>25.323062</td>\n",
       "      <td>24.066167</td>\n",
       "      <td>18.109097</td>\n",
       "      <td>9.111137</td>\n",
       "      <td>3.686064</td>\n",
       "      <td>4.130288</td>\n",
       "      <td>...</td>\n",
       "      <td>-52.692751</td>\n",
       "      <td>15.289605</td>\n",
       "      <td>-2.002571</td>\n",
       "      <td>-1.050571</td>\n",
       "      <td>7.602310</td>\n",
       "      <td>21.567622</td>\n",
       "      <td>-11.722388</td>\n",
       "      <td>6.068680</td>\n",
       "      <td>61.0</td>\n",
       "      <td>0.0</td>\n",
       "    </tr>\n",
       "    <tr>\n",
       "      <th>2</th>\n",
       "      <td>-126.670270</td>\n",
       "      <td>121.278084</td>\n",
       "      <td>-1.315677</td>\n",
       "      <td>57.047138</td>\n",
       "      <td>18.942589</td>\n",
       "      <td>8.837271</td>\n",
       "      <td>11.700953</td>\n",
       "      <td>28.857965</td>\n",
       "      <td>12.259997</td>\n",
       "      <td>-6.074663</td>\n",
       "      <td>...</td>\n",
       "      <td>17.088584</td>\n",
       "      <td>16.201986</td>\n",
       "      <td>23.243137</td>\n",
       "      <td>21.209535</td>\n",
       "      <td>18.265864</td>\n",
       "      <td>-9.879676</td>\n",
       "      <td>1.323904</td>\n",
       "      <td>10.194635</td>\n",
       "      <td>18.0</td>\n",
       "      <td>0.0</td>\n",
       "    </tr>\n",
       "    <tr>\n",
       "      <th>3</th>\n",
       "      <td>-504.542082</td>\n",
       "      <td>42.664128</td>\n",
       "      <td>25.073756</td>\n",
       "      <td>21.809126</td>\n",
       "      <td>15.860772</td>\n",
       "      <td>11.215133</td>\n",
       "      <td>14.144023</td>\n",
       "      <td>11.002758</td>\n",
       "      <td>1.731072</td>\n",
       "      <td>-5.750739</td>\n",
       "      <td>...</td>\n",
       "      <td>20.705632</td>\n",
       "      <td>11.047580</td>\n",
       "      <td>-2.716923</td>\n",
       "      <td>3.212331</td>\n",
       "      <td>-4.129512</td>\n",
       "      <td>0.426485</td>\n",
       "      <td>-9.298046</td>\n",
       "      <td>7.624213</td>\n",
       "      <td>8.0</td>\n",
       "      <td>0.0</td>\n",
       "    </tr>\n",
       "    <tr>\n",
       "      <th>4</th>\n",
       "      <td>-507.928549</td>\n",
       "      <td>34.801138</td>\n",
       "      <td>16.620080</td>\n",
       "      <td>-1.298408</td>\n",
       "      <td>-10.021990</td>\n",
       "      <td>-8.144539</td>\n",
       "      <td>-1.163011</td>\n",
       "      <td>4.069320</td>\n",
       "      <td>4.669979</td>\n",
       "      <td>2.684772</td>\n",
       "      <td>...</td>\n",
       "      <td>11.624293</td>\n",
       "      <td>28.758630</td>\n",
       "      <td>-2.184666</td>\n",
       "      <td>-7.635843</td>\n",
       "      <td>-16.516018</td>\n",
       "      <td>7.202388</td>\n",
       "      <td>-8.020235</td>\n",
       "      <td>-1.084436</td>\n",
       "      <td>87.0</td>\n",
       "      <td>0.0</td>\n",
       "    </tr>\n",
       "  </tbody>\n",
       "</table>\n",
       "<p>5 rows × 313 columns</p>\n",
       "</div>"
      ],
      "text/plain": [
       "          0           1          2          3          4          5    \\\n",
       "0 -598.502223   34.538343  31.450577  26.824293  21.324431  15.680680   \n",
       "1 -624.344220   36.460312  29.645908  25.797801  25.323062  24.066167   \n",
       "2 -126.670270  121.278084  -1.315677  57.047138  18.942589   8.837271   \n",
       "3 -504.542082   42.664128  25.073756  21.809126  15.860772  11.215133   \n",
       "4 -507.928549   34.801138  16.620080  -1.298408 -10.021990  -8.144539   \n",
       "\n",
       "         6          7          8         9   ...         303        304  \\\n",
       "0  10.545881   6.381493   3.395057  1.540524 ...   30.572326  13.456041   \n",
       "1  18.109097   9.111137   3.686064  4.130288 ...  -52.692751  15.289605   \n",
       "2  11.700953  28.857965  12.259997 -6.074663 ...   17.088584  16.201986   \n",
       "3  14.144023  11.002758   1.731072 -5.750739 ...   20.705632  11.047580   \n",
       "4  -1.163011   4.069320   4.669979  2.684772 ...   11.624293  28.758630   \n",
       "\n",
       "         305        306        307        308        309        310   311  312  \n",
       "0  -3.584737   3.695816   1.638312  -4.001102   3.730596   6.045746  16.0  0.0  \n",
       "1  -2.002571  -1.050571   7.602310  21.567622 -11.722388   6.068680  61.0  0.0  \n",
       "2  23.243137  21.209535  18.265864  -9.879676   1.323904  10.194635  18.0  0.0  \n",
       "3  -2.716923   3.212331  -4.129512   0.426485  -9.298046   7.624213   8.0  0.0  \n",
       "4  -2.184666  -7.635843 -16.516018   7.202388  -8.020235  -1.084436  87.0  0.0  \n",
       "\n",
       "[5 rows x 313 columns]"
      ]
     },
     "execution_count": 69,
     "metadata": {},
     "output_type": "execute_result"
    }
   ],
   "source": [
    "\n",
    "complete_df = pd.DataFrame(data=final_d.T,index =range(final_d.shape[1]))\n",
    "complete_df = complete_df.T\n",
    "\n",
    "complete_df.head()"
   ]
  },
  {
   "cell_type": "code",
   "execution_count": 70,
   "metadata": {
    "collapsed": false
   },
   "outputs": [
    {
     "data": {
      "text/plain": [
       "(4000, 313)"
      ]
     },
     "execution_count": 70,
     "metadata": {},
     "output_type": "execute_result"
    }
   ],
   "source": [
    "complete_df.shape"
   ]
  },
  {
   "cell_type": "code",
   "execution_count": 71,
   "metadata": {
    "collapsed": false
   },
   "outputs": [
    {
     "data": {
      "text/html": [
       "<div>\n",
       "<table border=\"1\" class=\"dataframe\">\n",
       "  <thead>\n",
       "    <tr style=\"text-align: right;\">\n",
       "      <th></th>\n",
       "      <th>Encoded_Genre</th>\n",
       "      <th>Genre</th>\n",
       "    </tr>\n",
       "  </thead>\n",
       "  <tbody>\n",
       "    <tr>\n",
       "      <th>0</th>\n",
       "      <td>0</td>\n",
       "      <td>Electronic</td>\n",
       "    </tr>\n",
       "    <tr>\n",
       "      <th>1</th>\n",
       "      <td>0</td>\n",
       "      <td>Electronic</td>\n",
       "    </tr>\n",
       "    <tr>\n",
       "      <th>2</th>\n",
       "      <td>0</td>\n",
       "      <td>Electronic</td>\n",
       "    </tr>\n",
       "    <tr>\n",
       "      <th>3</th>\n",
       "      <td>0</td>\n",
       "      <td>Electronic</td>\n",
       "    </tr>\n",
       "    <tr>\n",
       "      <th>4</th>\n",
       "      <td>0</td>\n",
       "      <td>Electronic</td>\n",
       "    </tr>\n",
       "  </tbody>\n",
       "</table>\n",
       "</div>"
      ],
      "text/plain": [
       "   Encoded_Genre       Genre\n",
       "0              0  Electronic\n",
       "1              0  Electronic\n",
       "2              0  Electronic\n",
       "3              0  Electronic\n",
       "4              0  Electronic"
      ]
     },
     "execution_count": 71,
     "metadata": {},
     "output_type": "execute_result"
    }
   ],
   "source": [
    "encoder_df.head()"
   ]
  },
  {
   "cell_type": "code",
   "execution_count": 75,
   "metadata": {
    "collapsed": false
   },
   "outputs": [
    {
     "data": {
      "text/plain": [
       "(4000, 2)"
      ]
     },
     "execution_count": 75,
     "metadata": {},
     "output_type": "execute_result"
    }
   ],
   "source": [
    "encoder_df.shape"
   ]
  },
  {
   "cell_type": "code",
   "execution_count": 76,
   "metadata": {
    "collapsed": true
   },
   "outputs": [],
   "source": [
    "final_df = pd.concat([complete_df,encoder_df],axis =1)"
   ]
  },
  {
   "cell_type": "code",
   "execution_count": 77,
   "metadata": {
    "collapsed": false
   },
   "outputs": [
    {
     "data": {
      "text/plain": [
       "(4000, 315)"
      ]
     },
     "execution_count": 77,
     "metadata": {},
     "output_type": "execute_result"
    }
   ],
   "source": [
    "final_df.shape"
   ]
  },
  {
   "cell_type": "code",
   "execution_count": 78,
   "metadata": {
    "collapsed": false
   },
   "outputs": [
    {
     "data": {
      "text/html": [
       "<div>\n",
       "<table border=\"1\" class=\"dataframe\">\n",
       "  <thead>\n",
       "    <tr style=\"text-align: right;\">\n",
       "      <th></th>\n",
       "      <th>0</th>\n",
       "      <th>1</th>\n",
       "      <th>2</th>\n",
       "      <th>3</th>\n",
       "      <th>4</th>\n",
       "      <th>5</th>\n",
       "      <th>6</th>\n",
       "      <th>7</th>\n",
       "      <th>8</th>\n",
       "      <th>9</th>\n",
       "      <th>...</th>\n",
       "      <th>303</th>\n",
       "      <th>304</th>\n",
       "      <th>305</th>\n",
       "      <th>306</th>\n",
       "      <th>307</th>\n",
       "      <th>308</th>\n",
       "      <th>309</th>\n",
       "      <th>310</th>\n",
       "      <th>311</th>\n",
       "      <th>Encoded_Genre</th>\n",
       "    </tr>\n",
       "  </thead>\n",
       "  <tbody>\n",
       "    <tr>\n",
       "      <th>0</th>\n",
       "      <td>-598.502223</td>\n",
       "      <td>34.538343</td>\n",
       "      <td>31.450577</td>\n",
       "      <td>26.824293</td>\n",
       "      <td>21.324431</td>\n",
       "      <td>15.680680</td>\n",
       "      <td>10.545881</td>\n",
       "      <td>6.381493</td>\n",
       "      <td>3.395057</td>\n",
       "      <td>1.540524</td>\n",
       "      <td>...</td>\n",
       "      <td>30.572326</td>\n",
       "      <td>13.456041</td>\n",
       "      <td>-3.584737</td>\n",
       "      <td>3.695816</td>\n",
       "      <td>1.638312</td>\n",
       "      <td>-4.001102</td>\n",
       "      <td>3.730596</td>\n",
       "      <td>6.045746</td>\n",
       "      <td>16.0</td>\n",
       "      <td>0</td>\n",
       "    </tr>\n",
       "    <tr>\n",
       "      <th>1</th>\n",
       "      <td>-624.344220</td>\n",
       "      <td>36.460312</td>\n",
       "      <td>29.645908</td>\n",
       "      <td>25.797801</td>\n",
       "      <td>25.323062</td>\n",
       "      <td>24.066167</td>\n",
       "      <td>18.109097</td>\n",
       "      <td>9.111137</td>\n",
       "      <td>3.686064</td>\n",
       "      <td>4.130288</td>\n",
       "      <td>...</td>\n",
       "      <td>-52.692751</td>\n",
       "      <td>15.289605</td>\n",
       "      <td>-2.002571</td>\n",
       "      <td>-1.050571</td>\n",
       "      <td>7.602310</td>\n",
       "      <td>21.567622</td>\n",
       "      <td>-11.722388</td>\n",
       "      <td>6.068680</td>\n",
       "      <td>61.0</td>\n",
       "      <td>0</td>\n",
       "    </tr>\n",
       "    <tr>\n",
       "      <th>2</th>\n",
       "      <td>-126.670270</td>\n",
       "      <td>121.278084</td>\n",
       "      <td>-1.315677</td>\n",
       "      <td>57.047138</td>\n",
       "      <td>18.942589</td>\n",
       "      <td>8.837271</td>\n",
       "      <td>11.700953</td>\n",
       "      <td>28.857965</td>\n",
       "      <td>12.259997</td>\n",
       "      <td>-6.074663</td>\n",
       "      <td>...</td>\n",
       "      <td>17.088584</td>\n",
       "      <td>16.201986</td>\n",
       "      <td>23.243137</td>\n",
       "      <td>21.209535</td>\n",
       "      <td>18.265864</td>\n",
       "      <td>-9.879676</td>\n",
       "      <td>1.323904</td>\n",
       "      <td>10.194635</td>\n",
       "      <td>18.0</td>\n",
       "      <td>0</td>\n",
       "    </tr>\n",
       "    <tr>\n",
       "      <th>3</th>\n",
       "      <td>-504.542082</td>\n",
       "      <td>42.664128</td>\n",
       "      <td>25.073756</td>\n",
       "      <td>21.809126</td>\n",
       "      <td>15.860772</td>\n",
       "      <td>11.215133</td>\n",
       "      <td>14.144023</td>\n",
       "      <td>11.002758</td>\n",
       "      <td>1.731072</td>\n",
       "      <td>-5.750739</td>\n",
       "      <td>...</td>\n",
       "      <td>20.705632</td>\n",
       "      <td>11.047580</td>\n",
       "      <td>-2.716923</td>\n",
       "      <td>3.212331</td>\n",
       "      <td>-4.129512</td>\n",
       "      <td>0.426485</td>\n",
       "      <td>-9.298046</td>\n",
       "      <td>7.624213</td>\n",
       "      <td>8.0</td>\n",
       "      <td>0</td>\n",
       "    </tr>\n",
       "    <tr>\n",
       "      <th>4</th>\n",
       "      <td>-507.928549</td>\n",
       "      <td>34.801138</td>\n",
       "      <td>16.620080</td>\n",
       "      <td>-1.298408</td>\n",
       "      <td>-10.021990</td>\n",
       "      <td>-8.144539</td>\n",
       "      <td>-1.163011</td>\n",
       "      <td>4.069320</td>\n",
       "      <td>4.669979</td>\n",
       "      <td>2.684772</td>\n",
       "      <td>...</td>\n",
       "      <td>11.624293</td>\n",
       "      <td>28.758630</td>\n",
       "      <td>-2.184666</td>\n",
       "      <td>-7.635843</td>\n",
       "      <td>-16.516018</td>\n",
       "      <td>7.202388</td>\n",
       "      <td>-8.020235</td>\n",
       "      <td>-1.084436</td>\n",
       "      <td>87.0</td>\n",
       "      <td>0</td>\n",
       "    </tr>\n",
       "  </tbody>\n",
       "</table>\n",
       "<p>5 rows × 313 columns</p>\n",
       "</div>"
      ],
      "text/plain": [
       "            0           1          2          3          4          5  \\\n",
       "0 -598.502223   34.538343  31.450577  26.824293  21.324431  15.680680   \n",
       "1 -624.344220   36.460312  29.645908  25.797801  25.323062  24.066167   \n",
       "2 -126.670270  121.278084  -1.315677  57.047138  18.942589   8.837271   \n",
       "3 -504.542082   42.664128  25.073756  21.809126  15.860772  11.215133   \n",
       "4 -507.928549   34.801138  16.620080  -1.298408 -10.021990  -8.144539   \n",
       "\n",
       "           6          7          8         9      ...              303  \\\n",
       "0  10.545881   6.381493   3.395057  1.540524      ...        30.572326   \n",
       "1  18.109097   9.111137   3.686064  4.130288      ...       -52.692751   \n",
       "2  11.700953  28.857965  12.259997 -6.074663      ...        17.088584   \n",
       "3  14.144023  11.002758   1.731072 -5.750739      ...        20.705632   \n",
       "4  -1.163011   4.069320   4.669979  2.684772      ...        11.624293   \n",
       "\n",
       "         304        305        306        307        308        309  \\\n",
       "0  13.456041  -3.584737   3.695816   1.638312  -4.001102   3.730596   \n",
       "1  15.289605  -2.002571  -1.050571   7.602310  21.567622 -11.722388   \n",
       "2  16.201986  23.243137  21.209535  18.265864  -9.879676   1.323904   \n",
       "3  11.047580  -2.716923   3.212331  -4.129512   0.426485  -9.298046   \n",
       "4  28.758630  -2.184666  -7.635843 -16.516018   7.202388  -8.020235   \n",
       "\n",
       "         310   311  Encoded_Genre  \n",
       "0   6.045746  16.0              0  \n",
       "1   6.068680  61.0              0  \n",
       "2  10.194635  18.0              0  \n",
       "3   7.624213   8.0              0  \n",
       "4  -1.084436  87.0              0  \n",
       "\n",
       "[5 rows x 313 columns]"
      ]
     },
     "execution_count": 78,
     "metadata": {},
     "output_type": "execute_result"
    }
   ],
   "source": [
    "final_df = pd.concat([complete_df,encoder_df],axis =1)\n",
    "\n",
    "final_df = final_df.iloc[:,spe_col]\n",
    "final_df.head()\n"
   ]
  },
  {
   "cell_type": "code",
   "execution_count": 73,
   "metadata": {
    "collapsed": true
   },
   "outputs": [],
   "source": [
    "final_df.to_csv(\"complete_extract.csv\",sep=',')"
   ]
  },
  {
   "cell_type": "code",
   "execution_count": null,
   "metadata": {
    "collapsed": true
   },
   "outputs": [],
   "source": []
  }
 ],
 "metadata": {
  "kernelspec": {
   "display_name": "Python 3",
   "language": "python",
   "name": "python3"
  },
  "language_info": {
   "codemirror_mode": {
    "name": "ipython",
    "version": 3
   },
   "file_extension": ".py",
   "mimetype": "text/x-python",
   "name": "python",
   "nbconvert_exporter": "python",
   "pygments_lexer": "ipython3",
   "version": "3.6.0"
  }
 },
 "nbformat": 4,
 "nbformat_minor": 2
}
