{
 "cells": [
  {
   "cell_type": "code",
   "execution_count": 1,
   "metadata": {
    "collapsed": true
   },
   "outputs": [],
   "source": [
    "# Load libraries\n",
    "import numpy as np # Math\n",
    "import scipy.io # Import data\n",
    "import time\n",
    "import sklearn.neighbors, sklearn.linear_model, sklearn.ensemble, sklearn.naive_bayes # Baseline classification techniques\n",
    "import matplotlib.pyplot as plt\n",
    "import pandas as pd\n",
    "from pandas import read_hdf\n",
    "from sklearn.model_selection import train_test_split"
   ]
  },
  {
   "cell_type": "markdown",
   "metadata": {},
   "source": [
    "### Map each song to the corresponding genres and randomise the index"
   ]
  },
  {
   "cell_type": "code",
   "execution_count": 2,
   "metadata": {
    "collapsed": false
   },
   "outputs": [
    {
     "data": {
      "text/html": [
       "<div>\n",
       "<table border=\"1\" class=\"dataframe\">\n",
       "  <thead>\n",
       "    <tr style=\"text-align: right;\">\n",
       "      <th></th>\n",
       "      <th>Encoded_Genre</th>\n",
       "      <th>Genre</th>\n",
       "    </tr>\n",
       "  </thead>\n",
       "  <tbody>\n",
       "    <tr>\n",
       "      <th>0</th>\n",
       "      <td>0</td>\n",
       "      <td>Electronic</td>\n",
       "    </tr>\n",
       "    <tr>\n",
       "      <th>1</th>\n",
       "      <td>9</td>\n",
       "      <td>Rock</td>\n",
       "    </tr>\n",
       "    <tr>\n",
       "      <th>2</th>\n",
       "      <td>5</td>\n",
       "      <td>Old-Time</td>\n",
       "    </tr>\n",
       "    <tr>\n",
       "      <th>3</th>\n",
       "      <td>3</td>\n",
       "      <td>Indie-Rock</td>\n",
       "    </tr>\n",
       "    <tr>\n",
       "      <th>4</th>\n",
       "      <td>4</td>\n",
       "      <td>Jazz</td>\n",
       "    </tr>\n",
       "    <tr>\n",
       "      <th>5</th>\n",
       "      <td>1</td>\n",
       "      <td>Folk</td>\n",
       "    </tr>\n",
       "    <tr>\n",
       "      <th>6</th>\n",
       "      <td>6</td>\n",
       "      <td>Pop</td>\n",
       "    </tr>\n",
       "    <tr>\n",
       "      <th>7</th>\n",
       "      <td>7</td>\n",
       "      <td>Psych-Rock</td>\n",
       "    </tr>\n",
       "    <tr>\n",
       "      <th>8</th>\n",
       "      <td>8</td>\n",
       "      <td>Punk</td>\n",
       "    </tr>\n",
       "    <tr>\n",
       "      <th>9</th>\n",
       "      <td>2</td>\n",
       "      <td>Hip-Hop</td>\n",
       "    </tr>\n",
       "  </tbody>\n",
       "</table>\n",
       "</div>"
      ],
      "text/plain": [
       "   Encoded_Genre       Genre\n",
       "0              0  Electronic\n",
       "1              9        Rock\n",
       "2              5    Old-Time\n",
       "3              3  Indie-Rock\n",
       "4              4        Jazz\n",
       "5              1        Folk\n",
       "6              6         Pop\n",
       "7              7  Psych-Rock\n",
       "8              8        Punk\n",
       "9              2     Hip-Hop"
      ]
     },
     "execution_count": 2,
     "metadata": {},
     "output_type": "execute_result"
    }
   ],
   "source": [
    "#numerical and categorical representation of genre\n",
    "encoder_df = pd.read_csv('Encoder_mapping.csv',index_col=0)\n",
    "encoder_df"
   ]
  },
  {
   "cell_type": "code",
   "execution_count": 3,
   "metadata": {
    "collapsed": false
   },
   "outputs": [
    {
     "data": {
      "text/html": [
       "<div>\n",
       "<table border=\"1\" class=\"dataframe\">\n",
       "  <thead>\n",
       "    <tr style=\"text-align: right;\">\n",
       "      <th></th>\n",
       "      <th>Average_zcr</th>\n",
       "      <th>Std_zcr</th>\n",
       "      <th>Average_mfcc</th>\n",
       "      <th>Std_mfcc</th>\n",
       "      <th>Encoded_Genre</th>\n",
       "    </tr>\n",
       "  </thead>\n",
       "  <tbody>\n",
       "    <tr>\n",
       "      <th>song0</th>\n",
       "      <td>0.059784</td>\n",
       "      <td>0.048140</td>\n",
       "      <td>1.300539</td>\n",
       "      <td>66.319521</td>\n",
       "      <td>2.0</td>\n",
       "    </tr>\n",
       "    <tr>\n",
       "      <th>song1</th>\n",
       "      <td>0.032855</td>\n",
       "      <td>0.018248</td>\n",
       "      <td>3.230270</td>\n",
       "      <td>74.695595</td>\n",
       "      <td>0.0</td>\n",
       "    </tr>\n",
       "    <tr>\n",
       "      <th>song2</th>\n",
       "      <td>0.052183</td>\n",
       "      <td>0.020888</td>\n",
       "      <td>7.226442</td>\n",
       "      <td>65.918277</td>\n",
       "      <td>6.0</td>\n",
       "    </tr>\n",
       "  </tbody>\n",
       "</table>\n",
       "</div>"
      ],
      "text/plain": [
       "       Average_zcr   Std_zcr  Average_mfcc   Std_mfcc  Encoded_Genre\n",
       "song0     0.059784  0.048140      1.300539  66.319521            2.0\n",
       "song1     0.032855  0.018248      3.230270  74.695595            0.0\n",
       "song2     0.052183  0.020888      7.226442  65.918277            6.0"
      ]
     },
     "execution_count": 3,
     "metadata": {},
     "output_type": "execute_result"
    }
   ],
   "source": [
    "#fma dataset with some features extracted\n",
    "demo_df = pd.read_csv(\"demoDF.csv\", index_col=0)\n",
    "demo_df"
   ]
  },
  {
   "cell_type": "code",
   "execution_count": 4,
   "metadata": {
    "collapsed": false
   },
   "outputs": [
    {
     "data": {
      "text/html": [
       "<div>\n",
       "<table border=\"1\" class=\"dataframe\">\n",
       "  <thead>\n",
       "    <tr style=\"text-align: right;\">\n",
       "      <th></th>\n",
       "      <th>Average_zcr</th>\n",
       "      <th>Std_zcr</th>\n",
       "      <th>Average_mfcc</th>\n",
       "      <th>Std_mfcc</th>\n",
       "      <th>Encoded_Genre</th>\n",
       "      <th>Genre</th>\n",
       "    </tr>\n",
       "  </thead>\n",
       "  <tbody>\n",
       "    <tr>\n",
       "      <th>0</th>\n",
       "      <td>0.059784</td>\n",
       "      <td>0.048140</td>\n",
       "      <td>1.300539</td>\n",
       "      <td>66.319521</td>\n",
       "      <td>2.0</td>\n",
       "      <td>Hip-Hop</td>\n",
       "    </tr>\n",
       "    <tr>\n",
       "      <th>1</th>\n",
       "      <td>0.032855</td>\n",
       "      <td>0.018248</td>\n",
       "      <td>3.230270</td>\n",
       "      <td>74.695595</td>\n",
       "      <td>0.0</td>\n",
       "      <td>Electronic</td>\n",
       "    </tr>\n",
       "    <tr>\n",
       "      <th>2</th>\n",
       "      <td>0.052183</td>\n",
       "      <td>0.020888</td>\n",
       "      <td>7.226442</td>\n",
       "      <td>65.918277</td>\n",
       "      <td>6.0</td>\n",
       "      <td>Pop</td>\n",
       "    </tr>\n",
       "  </tbody>\n",
       "</table>\n",
       "</div>"
      ],
      "text/plain": [
       "   Average_zcr   Std_zcr  Average_mfcc   Std_mfcc  Encoded_Genre       Genre\n",
       "0     0.059784  0.048140      1.300539  66.319521            2.0     Hip-Hop\n",
       "1     0.032855  0.018248      3.230270  74.695595            0.0  Electronic\n",
       "2     0.052183  0.020888      7.226442  65.918277            6.0         Pop"
      ]
     },
     "execution_count": 4,
     "metadata": {},
     "output_type": "execute_result"
    }
   ],
   "source": [
    "df = pd.merge(left=demo_df,right=encoder_df,on = ['Encoded_Genre'])\n",
    "df"
   ]
  },
  {
   "cell_type": "code",
   "execution_count": 5,
   "metadata": {
    "collapsed": false
   },
   "outputs": [
    {
     "data": {
      "text/html": [
       "<div>\n",
       "<table border=\"1\" class=\"dataframe\">\n",
       "  <thead>\n",
       "    <tr style=\"text-align: right;\">\n",
       "      <th></th>\n",
       "      <th>Average_zcr</th>\n",
       "      <th>Std_zcr</th>\n",
       "      <th>Average_mfcc</th>\n",
       "      <th>Std_mfcc</th>\n",
       "      <th>Encoded_Genre</th>\n",
       "      <th>Genre</th>\n",
       "    </tr>\n",
       "  </thead>\n",
       "  <tbody>\n",
       "    <tr>\n",
       "      <th>2</th>\n",
       "      <td>0.052183</td>\n",
       "      <td>0.020888</td>\n",
       "      <td>7.226442</td>\n",
       "      <td>65.918277</td>\n",
       "      <td>6.0</td>\n",
       "      <td>Pop</td>\n",
       "    </tr>\n",
       "    <tr>\n",
       "      <th>0</th>\n",
       "      <td>0.059784</td>\n",
       "      <td>0.048140</td>\n",
       "      <td>1.300539</td>\n",
       "      <td>66.319521</td>\n",
       "      <td>2.0</td>\n",
       "      <td>Hip-Hop</td>\n",
       "    </tr>\n",
       "    <tr>\n",
       "      <th>1</th>\n",
       "      <td>0.032855</td>\n",
       "      <td>0.018248</td>\n",
       "      <td>3.230270</td>\n",
       "      <td>74.695595</td>\n",
       "      <td>0.0</td>\n",
       "      <td>Electronic</td>\n",
       "    </tr>\n",
       "  </tbody>\n",
       "</table>\n",
       "</div>"
      ],
      "text/plain": [
       "   Average_zcr   Std_zcr  Average_mfcc   Std_mfcc  Encoded_Genre       Genre\n",
       "2     0.052183  0.020888      7.226442  65.918277            6.0         Pop\n",
       "0     0.059784  0.048140      1.300539  66.319521            2.0     Hip-Hop\n",
       "1     0.032855  0.018248      3.230270  74.695595            0.0  Electronic"
      ]
     },
     "execution_count": 5,
     "metadata": {},
     "output_type": "execute_result"
    }
   ],
   "source": [
    "df = df.reindex(np.random.permutation(df.index))\n",
    "df"
   ]
  },
  {
   "cell_type": "markdown",
   "metadata": {},
   "source": [
    "\n",
    "### Load all the songs from fma_small and their corresponding features (estimated and standard deviation of their zero crossing rates and from the mel spectogram)\n",
    "1. X_train matrix contains the training data\n",
    "2. y_train vector contains the training labels\n",
    "3. X_test matrix contains the test data\n",
    "4. y_test vector contains the test labels"
   ]
  },
  {
   "cell_type": "raw",
   "metadata": {},
   "source": [
    "players = pd.read_csv('players.csv',index_col=0)\n",
    "players.head()\n",
    "y = players['mean_rated']\n",
    "X = players[['height','weight','games','goals']]\n",
    "X.head()"
   ]
  },
  {
   "cell_type": "code",
   "execution_count": null,
   "metadata": {
    "collapsed": true
   },
   "outputs": [],
   "source": [
    "y = df['Encoded_Genre']\n",
    "y.head()"
   ]
  },
  {
   "cell_type": "code",
   "execution_count": null,
   "metadata": {
    "collapsed": true
   },
   "outputs": [],
   "source": [
    "X = df[['Average_zcr','Std_zcr','Average_mfcc','Std_mfcc']]\n",
    "X.head()"
   ]
  },
  {
   "cell_type": "code",
   "execution_count": 8,
   "metadata": {
    "collapsed": false
   },
   "outputs": [
    {
     "name": "stdout",
     "output_type": "stream",
     "text": [
      "X_train size= (1046, 4)\n",
      "X_test size= (516, 4)\n",
      "y_train size= (1046,)\n",
      "y_test size= (516,)\n"
     ]
    }
   ],
   "source": [
    "X_train, X_test, y_train, y_test = train_test_split(X, y, test_size=0.33, random_state=42)\n",
    "print('X_train size=',X_train.shape)\n",
    "print('X_test size=',X_test.shape)\n",
    "print('y_train size=',y_train.shape)\n",
    "print('y_test size=',y_test.shape)"
   ]
  },
  {
   "cell_type": "code",
   "execution_count": 9,
   "metadata": {
    "collapsed": false
   },
   "outputs": [
    {
     "name": "stdout",
     "output_type": "stream",
     "text": [
      "Train accuracy:      82.89\n",
      "Test accuracy:       83.72\n",
      "Execution time:       0.05\n"
     ]
    }
   ],
   "source": [
    "clf, train_accuracy, test_accuracy, exec_time = [], [], [], []\n",
    "clf.append(sklearn.linear_model.LogisticRegression()) # logistic classifier\n",
    "\n",
    "for c in clf:\n",
    "    t_start = time.process_time()\n",
    "    c.fit(X_train, y_train)\n",
    "    train_pred = c.predict(X_train)\n",
    "    test_pred = c.predict(X_test)\n",
    "    train_accuracy.append('{:5.2f}'.format(100*sklearn.metrics.accuracy_score(y_train, train_pred)))\n",
    "    test_accuracy.append('{:5.2f}'.format(100*sklearn.metrics.accuracy_score(y_test, test_pred)))\n",
    "    exec_time.append('{:5.2f}'.format(time.process_time() - t_start))\n",
    "print('Train accuracy:      {}'.format(' '.join(train_accuracy)))\n",
    "print('Test accuracy:       {}'.format(' '.join(test_accuracy)))\n",
    "print('Execution time:      {}'.format(' '.join(exec_time)))"
   ]
  },
  {
   "cell_type": "markdown",
   "metadata": {},
   "source": [
    "## Estimating the hyperparameter C of the logistic regression classifier by cross-validation and splitting into 5 folds"
   ]
  },
  {
   "cell_type": "code",
   "execution_count": 10,
   "metadata": {
    "collapsed": true
   },
   "outputs": [],
   "source": [
    "#5 fold split\n",
    "num_folds = 5 \n",
    "\n",
    "X_train_folds = np.array_split(X_train.values, num_folds)\n",
    "y_train_folds = np.array_split(y_train.values, num_folds)"
   ]
  },
  {
   "cell_type": "code",
   "execution_count": 11,
   "metadata": {
    "collapsed": true
   },
   "outputs": [],
   "source": [
    "#different hyperparameters\n",
    "C_choices = [1e-2, 5*1e-2, 1e-1, 5*1e-1, 1e0, 5*1e0, 1e1, 5*1e1, 1e2, 5*1e2, 1e3, 5*1e3]\n",
    "num_Cs = len(C_choices)"
   ]
  },
  {
   "cell_type": "code",
   "execution_count": 12,
   "metadata": {
    "collapsed": false
   },
   "outputs": [
    {
     "name": "stdout",
     "output_type": "stream",
     "text": [
      "[[ 0.81904762  0.81904762  0.81904762  0.81904762  0.81904762  0.81904762\n",
      "   0.81904762  0.81904762  0.81904762  0.81904762  0.81904762  0.81904762]\n",
      " [ 0.77511962  0.77511962  0.77511962  0.77511962  0.77511962  0.77511962\n",
      "   0.77511962  0.77511962  0.77511962  0.77511962  0.77511962  0.77511962]\n",
      " [ 0.85167464  0.85167464  0.85167464  0.85167464  0.85167464  0.85167464\n",
      "   0.85167464  0.85167464  0.85167464  0.85167464  0.85167464  0.85167464]\n",
      " [ 0.86124402  0.86124402  0.86124402  0.86124402  0.86124402  0.86124402\n",
      "   0.86124402  0.86124402  0.86124402  0.86124402  0.86124402  0.86124402]\n",
      " [ 0.83732057  0.83732057  0.83732057  0.83732057  0.83732057  0.83732057\n",
      "   0.83732057  0.83732057  0.83732057  0.83732057  0.83732057  0.83732057]]\n"
     ]
    }
   ],
   "source": [
    "#computing accuracy for diffierent folds and hyper parameda values\n",
    "\n",
    "accuracy_tab = np.zeros([num_folds,num_Cs])\n",
    "\n",
    "for C_idx, C_value in enumerate(C_choices):\n",
    "\n",
    "    for fold_idx in range(num_folds):\n",
    "        \n",
    "        # Extract train dataset for the current fold\n",
    "        fold_x_train = np.concatenate([X_train_folds[i] for i in range(num_folds) if i!=fold_idx])       \n",
    "        fold_y_train = np.concatenate([y_train_folds[i] for i in range(num_folds) if i!=fold_idx])   \n",
    "\n",
    "        # validation dataset for the current fold\n",
    "        fold_x_val  = X_train_folds[fold_idx]\n",
    "        fold_y_val  = y_train_folds[fold_idx]\n",
    "        \n",
    "        # Run Logistic Regression model for the current fold\n",
    "        model = sklearn.linear_model.LogisticRegression(C=C_value)\n",
    "        model.fit(fold_x_train, fold_y_train)\n",
    "        test_pred = model.predict(fold_x_val)\n",
    "        accuracy = sklearn.metrics.accuracy_score(test_pred, fold_y_val)\n",
    "        \n",
    "        # Store accuracy value\n",
    "        accuracy_tab[fold_idx,C_idx] = accuracy\n",
    "\n",
    "print(accuracy_tab)"
   ]
  },
  {
   "cell_type": "code",
   "execution_count": 13,
   "metadata": {
    "collapsed": false
   },
   "outputs": [
    {
     "data": {
      "image/png": "[encoded data removed]",
      "text/plain": [
       "<matplotlib.figure.Figure at 0x1167277b8>"
      ]
     },
     "metadata": {},
     "output_type": "display_data"
    }
   ],
   "source": [
    "# plot the raw observations\n",
    "for C_idx, C_value in enumerate(C_choices):\n",
    "    accuracies_C_idx = accuracy_tab[:,C_idx]\n",
    "    plt.scatter([np.log(C_value)]* len(accuracies_C_idx), accuracies_C_idx)\n",
    "    \n",
    "# plot the trend line with error bars that correspond to standard deviation\n",
    "accuracies_mean = np.mean(accuracy_tab,axis=0)\n",
    "accuracies_std = np.std(accuracy_tab,axis=0)\n",
    "plt.errorbar(np.log(C_choices), accuracies_mean, yerr=accuracies_std)\n",
    "\n",
    "# Add text\n",
    "plt.title('Cross-validation on C')\n",
    "plt.xlabel('log C')\n",
    "plt.ylabel('Cross-validation accuracy')\n",
    "\n",
    "plt.show()"
   ]
  },
  {
   "cell_type": "code",
   "execution_count": 14,
   "metadata": {
    "collapsed": false
   },
   "outputs": [
    {
     "name": "stdout",
     "output_type": "stream",
     "text": [
      "best accuracy= 0.837209302326\n"
     ]
    }
   ],
   "source": [
    "idx_best_C = np.argmax(accuracies_mean)\n",
    "best_C = C_choices[idx_best_C]\n",
    "model = sklearn.linear_model.LogisticRegression(C=best_C)\n",
    "model.fit(X_train, y_train)\n",
    "test_pred = model.predict(X_test)\n",
    "accuracy_testset = sklearn.metrics.accuracy_score(test_pred, y_test)\n",
    "print('best accuracy=',accuracy_testset)"
   ]
  }
 ],
 "metadata": {
  "kernelspec": {
   "display_name": "Python 3",
   "language": "python",
   "name": "python3"
  },
  "language_info": {
   "codemirror_mode": {
    "name": "ipython",
    "version": 3
   },
   "file_extension": ".py",
   "mimetype": "text/x-python",
   "name": "python",
   "nbconvert_exporter": "python",
   "pygments_lexer": "ipython3",
   "version": "3.6.0"
  }
 },
 "nbformat": 4,
 "nbformat_minor": 2
}
