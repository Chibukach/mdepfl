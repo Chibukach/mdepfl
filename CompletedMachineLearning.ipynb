{
 "cells": [
  {
   "cell_type": "code",
   "execution_count": 108,
   "metadata": {
    "collapsed": true
   },
   "outputs": [],
   "source": [
    "# Load libraries\n",
    "import numpy as np # Math\n",
    "import pandas as pd\n",
    "import sklearn.neighbors, sklearn.linear_model, sklearn.ensemble, sklearn.naive_bayes # Baseline classification techniques\n",
    "import matplotlib.pyplot as plt\n",
    "import time\n",
    "import warnings\n",
    "\n",
    "\n",
    "from sklearn import preprocessing\n",
    "from scipy.stats import mode\n",
    "from tqdm import tqdm\n",
    "from sklearn.metrics import f1_score\n",
    "from sklearn.metrics import confusion_matrix\n",
    "from sklearn.ensemble import RandomForestClassifier\n",
    "from sklearn.metrics import roc_auc_score\n",
    "warnings.filterwarnings('ignore')\n"
   ]
  },
  {
   "cell_type": "markdown",
   "metadata": {},
   "source": [
    "# Supervised Machine Learning \n",
    "\n",
    "This notebook uses the features extracted in the *CompletedSongExtraction* notebook to perform Multinomial Song Genre Classification. \n",
    "\n",
    "1. Import and do high level verification check of dataset\n",
    "2. Exploratory Data Analysis\n",
    "3. Machine Learning on Song Segments\n",
    "4. Parameter Tuning\n"
   ]
  },
  {
   "cell_type": "markdown",
   "metadata": {},
   "source": [
    "# 1. Data Importation and Verification\n",
    "- Import datase that was prepared in the Completed Extraction Notebook \n",
    "- check for null values and rows with all zeroes\n",
    "- Retrieve high level statistical properties"
   ]
  },
  {
   "cell_type": "code",
   "execution_count": 4,
   "metadata": {
    "collapsed": false
   },
   "outputs": [
    {
     "name": "stdout",
     "output_type": "stream",
     "text": [
      "(40000, 57)\n"
     ]
    }
   ],
   "source": [
    "#import cleaned data set\n",
    "df = pd.read_csv(\"CompleteFeatureExtraction.csv\",index_col=0) \n",
    "print(df.shape)\n"
   ]
  },
  {
   "cell_type": "markdown",
   "metadata": {},
   "source": [
    "This is a vague check to make sure that each line is different from the next especially at the boundaries of the segments "
   ]
  },
  {
   "cell_type": "code",
   "execution_count": 5,
   "metadata": {
    "collapsed": false
   },
   "outputs": [
    {
     "data": {
      "text/html": [
       "<div>\n",
       "<table border=\"1\" class=\"dataframe\">\n",
       "  <thead>\n",
       "    <tr style=\"text-align: right;\">\n",
       "      <th></th>\n",
       "      <th>Zero Crossing Rate</th>\n",
       "      <th>Number of Onsets</th>\n",
       "      <th>mfcc_mean_1</th>\n",
       "      <th>mfcc_mean_2</th>\n",
       "      <th>mfcc_mean_3</th>\n",
       "      <th>mfcc_mean_4</th>\n",
       "      <th>mfcc_mean_5</th>\n",
       "      <th>mfcc_mean_6</th>\n",
       "      <th>mfcc_mean_7</th>\n",
       "      <th>mfcc_mean_8</th>\n",
       "      <th>...</th>\n",
       "      <th>mfcc_kurtosis_10</th>\n",
       "      <th>mfcc_kurtosis_11</th>\n",
       "      <th>mfcc_kurtosis_12</th>\n",
       "      <th>spectral_centroid_mean</th>\n",
       "      <th>spectral_centroid_var</th>\n",
       "      <th>spectral_centroid_skew</th>\n",
       "      <th>spectral_centroid_kurtosis</th>\n",
       "      <th>Encoded_Genre</th>\n",
       "      <th>Genre</th>\n",
       "      <th>Train</th>\n",
       "    </tr>\n",
       "  </thead>\n",
       "  <tbody>\n",
       "    <tr>\n",
       "      <th>0</th>\n",
       "      <td>2157.0</td>\n",
       "      <td>10.0</td>\n",
       "      <td>-160.973272</td>\n",
       "      <td>184.320385</td>\n",
       "      <td>-22.985395</td>\n",
       "      <td>39.527404</td>\n",
       "      <td>-9.813770</td>\n",
       "      <td>15.310525</td>\n",
       "      <td>-13.843877</td>\n",
       "      <td>17.804084</td>\n",
       "      <td>...</td>\n",
       "      <td>-0.220679</td>\n",
       "      <td>0.024465</td>\n",
       "      <td>1.197027</td>\n",
       "      <td>968.625640</td>\n",
       "      <td>275094.428012</td>\n",
       "      <td>1.173542</td>\n",
       "      <td>1.921552</td>\n",
       "      <td>0</td>\n",
       "      <td>Electronic</td>\n",
       "      <td>True</td>\n",
       "    </tr>\n",
       "    <tr>\n",
       "      <th>1</th>\n",
       "      <td>2570.0</td>\n",
       "      <td>9.0</td>\n",
       "      <td>-160.344057</td>\n",
       "      <td>184.074794</td>\n",
       "      <td>-23.322441</td>\n",
       "      <td>39.534971</td>\n",
       "      <td>-9.647739</td>\n",
       "      <td>15.304824</td>\n",
       "      <td>-13.893123</td>\n",
       "      <td>18.174114</td>\n",
       "      <td>...</td>\n",
       "      <td>-0.264739</td>\n",
       "      <td>0.071246</td>\n",
       "      <td>0.939847</td>\n",
       "      <td>1270.389393</td>\n",
       "      <td>17999.842129</td>\n",
       "      <td>0.596692</td>\n",
       "      <td>0.692742</td>\n",
       "      <td>0</td>\n",
       "      <td>Electronic</td>\n",
       "      <td>True</td>\n",
       "    </tr>\n",
       "    <tr>\n",
       "      <th>2</th>\n",
       "      <td>3143.0</td>\n",
       "      <td>8.0</td>\n",
       "      <td>-160.058394</td>\n",
       "      <td>183.666478</td>\n",
       "      <td>-23.374013</td>\n",
       "      <td>39.374805</td>\n",
       "      <td>-10.326398</td>\n",
       "      <td>15.310107</td>\n",
       "      <td>-13.971265</td>\n",
       "      <td>17.986350</td>\n",
       "      <td>...</td>\n",
       "      <td>0.110875</td>\n",
       "      <td>-0.089481</td>\n",
       "      <td>0.362001</td>\n",
       "      <td>1561.206407</td>\n",
       "      <td>160435.404399</td>\n",
       "      <td>1.592194</td>\n",
       "      <td>2.524688</td>\n",
       "      <td>0</td>\n",
       "      <td>Electronic</td>\n",
       "      <td>True</td>\n",
       "    </tr>\n",
       "    <tr>\n",
       "      <th>3</th>\n",
       "      <td>5374.0</td>\n",
       "      <td>12.0</td>\n",
       "      <td>-159.891569</td>\n",
       "      <td>183.892191</td>\n",
       "      <td>-22.914240</td>\n",
       "      <td>39.327850</td>\n",
       "      <td>-10.551005</td>\n",
       "      <td>15.471867</td>\n",
       "      <td>-14.188831</td>\n",
       "      <td>17.773913</td>\n",
       "      <td>...</td>\n",
       "      <td>-0.204822</td>\n",
       "      <td>-0.159536</td>\n",
       "      <td>0.222453</td>\n",
       "      <td>1834.602074</td>\n",
       "      <td>395308.340084</td>\n",
       "      <td>4.248760</td>\n",
       "      <td>17.500982</td>\n",
       "      <td>0</td>\n",
       "      <td>Electronic</td>\n",
       "      <td>True</td>\n",
       "    </tr>\n",
       "    <tr>\n",
       "      <th>4</th>\n",
       "      <td>5665.0</td>\n",
       "      <td>9.0</td>\n",
       "      <td>-159.699858</td>\n",
       "      <td>184.313259</td>\n",
       "      <td>-23.128340</td>\n",
       "      <td>39.072852</td>\n",
       "      <td>-10.387527</td>\n",
       "      <td>15.084918</td>\n",
       "      <td>-14.113351</td>\n",
       "      <td>17.761934</td>\n",
       "      <td>...</td>\n",
       "      <td>0.284749</td>\n",
       "      <td>-0.282557</td>\n",
       "      <td>0.697686</td>\n",
       "      <td>2275.671978</td>\n",
       "      <td>419006.552103</td>\n",
       "      <td>1.792972</td>\n",
       "      <td>3.456450</td>\n",
       "      <td>0</td>\n",
       "      <td>Electronic</td>\n",
       "      <td>True</td>\n",
       "    </tr>\n",
       "    <tr>\n",
       "      <th>5</th>\n",
       "      <td>4233.0</td>\n",
       "      <td>4.0</td>\n",
       "      <td>-160.589245</td>\n",
       "      <td>183.759895</td>\n",
       "      <td>-23.468740</td>\n",
       "      <td>39.312662</td>\n",
       "      <td>-10.234623</td>\n",
       "      <td>15.016939</td>\n",
       "      <td>-14.151684</td>\n",
       "      <td>17.522570</td>\n",
       "      <td>...</td>\n",
       "      <td>-0.091316</td>\n",
       "      <td>-0.310369</td>\n",
       "      <td>0.003197</td>\n",
       "      <td>1809.791628</td>\n",
       "      <td>161102.086831</td>\n",
       "      <td>1.506138</td>\n",
       "      <td>2.491702</td>\n",
       "      <td>0</td>\n",
       "      <td>Electronic</td>\n",
       "      <td>True</td>\n",
       "    </tr>\n",
       "    <tr>\n",
       "      <th>6</th>\n",
       "      <td>4821.0</td>\n",
       "      <td>11.0</td>\n",
       "      <td>-160.895901</td>\n",
       "      <td>183.915729</td>\n",
       "      <td>-23.325363</td>\n",
       "      <td>39.476560</td>\n",
       "      <td>-10.075741</td>\n",
       "      <td>15.213195</td>\n",
       "      <td>-14.231476</td>\n",
       "      <td>17.504163</td>\n",
       "      <td>...</td>\n",
       "      <td>-0.256187</td>\n",
       "      <td>0.108071</td>\n",
       "      <td>-0.085270</td>\n",
       "      <td>2009.890048</td>\n",
       "      <td>675295.243375</td>\n",
       "      <td>2.075374</td>\n",
       "      <td>3.444626</td>\n",
       "      <td>0</td>\n",
       "      <td>Electronic</td>\n",
       "      <td>True</td>\n",
       "    </tr>\n",
       "    <tr>\n",
       "      <th>7</th>\n",
       "      <td>4983.0</td>\n",
       "      <td>9.0</td>\n",
       "      <td>-160.699118</td>\n",
       "      <td>184.131995</td>\n",
       "      <td>-23.627454</td>\n",
       "      <td>39.175700</td>\n",
       "      <td>-9.998731</td>\n",
       "      <td>15.218191</td>\n",
       "      <td>-14.267469</td>\n",
       "      <td>17.632736</td>\n",
       "      <td>...</td>\n",
       "      <td>0.140867</td>\n",
       "      <td>0.028676</td>\n",
       "      <td>-0.283043</td>\n",
       "      <td>2059.340694</td>\n",
       "      <td>201868.693865</td>\n",
       "      <td>1.439725</td>\n",
       "      <td>2.127228</td>\n",
       "      <td>0</td>\n",
       "      <td>Electronic</td>\n",
       "      <td>True</td>\n",
       "    </tr>\n",
       "    <tr>\n",
       "      <th>8</th>\n",
       "      <td>3981.0</td>\n",
       "      <td>8.0</td>\n",
       "      <td>-160.447509</td>\n",
       "      <td>184.006099</td>\n",
       "      <td>-23.931341</td>\n",
       "      <td>39.172532</td>\n",
       "      <td>-9.926407</td>\n",
       "      <td>15.136880</td>\n",
       "      <td>-13.970451</td>\n",
       "      <td>17.717359</td>\n",
       "      <td>...</td>\n",
       "      <td>-0.040837</td>\n",
       "      <td>0.373075</td>\n",
       "      <td>-0.273164</td>\n",
       "      <td>1652.638550</td>\n",
       "      <td>89947.499656</td>\n",
       "      <td>2.369875</td>\n",
       "      <td>7.694625</td>\n",
       "      <td>0</td>\n",
       "      <td>Electronic</td>\n",
       "      <td>True</td>\n",
       "    </tr>\n",
       "    <tr>\n",
       "      <th>9</th>\n",
       "      <td>6495.0</td>\n",
       "      <td>13.0</td>\n",
       "      <td>-160.260212</td>\n",
       "      <td>183.769066</td>\n",
       "      <td>-23.758201</td>\n",
       "      <td>39.398229</td>\n",
       "      <td>-9.964494</td>\n",
       "      <td>15.251964</td>\n",
       "      <td>-14.074251</td>\n",
       "      <td>17.797812</td>\n",
       "      <td>...</td>\n",
       "      <td>-0.228240</td>\n",
       "      <td>0.183637</td>\n",
       "      <td>-0.198983</td>\n",
       "      <td>2109.934419</td>\n",
       "      <td>476283.345930</td>\n",
       "      <td>2.203267</td>\n",
       "      <td>5.244489</td>\n",
       "      <td>0</td>\n",
       "      <td>Electronic</td>\n",
       "      <td>True</td>\n",
       "    </tr>\n",
       "    <tr>\n",
       "      <th>10</th>\n",
       "      <td>2157.0</td>\n",
       "      <td>16.0</td>\n",
       "      <td>-128.589945</td>\n",
       "      <td>120.967966</td>\n",
       "      <td>-17.855527</td>\n",
       "      <td>41.012876</td>\n",
       "      <td>-10.288796</td>\n",
       "      <td>17.934360</td>\n",
       "      <td>-3.232601</td>\n",
       "      <td>15.412152</td>\n",
       "      <td>...</td>\n",
       "      <td>-0.107372</td>\n",
       "      <td>-0.174327</td>\n",
       "      <td>-0.043728</td>\n",
       "      <td>968.625640</td>\n",
       "      <td>275094.428012</td>\n",
       "      <td>1.173542</td>\n",
       "      <td>1.921552</td>\n",
       "      <td>0</td>\n",
       "      <td>Electronic</td>\n",
       "      <td>True</td>\n",
       "    </tr>\n",
       "    <tr>\n",
       "      <th>11</th>\n",
       "      <td>2570.0</td>\n",
       "      <td>17.0</td>\n",
       "      <td>-128.330960</td>\n",
       "      <td>121.017116</td>\n",
       "      <td>-17.607110</td>\n",
       "      <td>41.169017</td>\n",
       "      <td>-9.929772</td>\n",
       "      <td>18.237017</td>\n",
       "      <td>-2.915348</td>\n",
       "      <td>15.713369</td>\n",
       "      <td>...</td>\n",
       "      <td>-0.299662</td>\n",
       "      <td>-0.108009</td>\n",
       "      <td>0.090169</td>\n",
       "      <td>1270.389393</td>\n",
       "      <td>17999.842129</td>\n",
       "      <td>0.596692</td>\n",
       "      <td>0.692742</td>\n",
       "      <td>0</td>\n",
       "      <td>Electronic</td>\n",
       "      <td>True</td>\n",
       "    </tr>\n",
       "    <tr>\n",
       "      <th>12</th>\n",
       "      <td>3143.0</td>\n",
       "      <td>17.0</td>\n",
       "      <td>-127.361629</td>\n",
       "      <td>120.721451</td>\n",
       "      <td>-17.126040</td>\n",
       "      <td>41.376582</td>\n",
       "      <td>-9.717660</td>\n",
       "      <td>19.031687</td>\n",
       "      <td>-3.240333</td>\n",
       "      <td>15.546451</td>\n",
       "      <td>...</td>\n",
       "      <td>-0.201649</td>\n",
       "      <td>-0.040244</td>\n",
       "      <td>-0.325153</td>\n",
       "      <td>1561.206407</td>\n",
       "      <td>160435.404399</td>\n",
       "      <td>1.592194</td>\n",
       "      <td>2.524688</td>\n",
       "      <td>0</td>\n",
       "      <td>Electronic</td>\n",
       "      <td>True</td>\n",
       "    </tr>\n",
       "    <tr>\n",
       "      <th>13</th>\n",
       "      <td>5374.0</td>\n",
       "      <td>16.0</td>\n",
       "      <td>-126.924370</td>\n",
       "      <td>120.544402</td>\n",
       "      <td>-16.520692</td>\n",
       "      <td>41.235862</td>\n",
       "      <td>-9.257631</td>\n",
       "      <td>19.089023</td>\n",
       "      <td>-3.317971</td>\n",
       "      <td>15.575448</td>\n",
       "      <td>...</td>\n",
       "      <td>-0.100857</td>\n",
       "      <td>0.188179</td>\n",
       "      <td>-0.380606</td>\n",
       "      <td>1834.602074</td>\n",
       "      <td>395308.340084</td>\n",
       "      <td>4.248760</td>\n",
       "      <td>17.500982</td>\n",
       "      <td>0</td>\n",
       "      <td>Electronic</td>\n",
       "      <td>True</td>\n",
       "    </tr>\n",
       "    <tr>\n",
       "      <th>14</th>\n",
       "      <td>5665.0</td>\n",
       "      <td>15.0</td>\n",
       "      <td>-127.688778</td>\n",
       "      <td>120.434277</td>\n",
       "      <td>-16.666332</td>\n",
       "      <td>41.086219</td>\n",
       "      <td>-9.176231</td>\n",
       "      <td>18.916833</td>\n",
       "      <td>-3.189678</td>\n",
       "      <td>15.633409</td>\n",
       "      <td>...</td>\n",
       "      <td>-0.289870</td>\n",
       "      <td>-0.129569</td>\n",
       "      <td>-0.372546</td>\n",
       "      <td>2275.671978</td>\n",
       "      <td>419006.552103</td>\n",
       "      <td>1.792972</td>\n",
       "      <td>3.456450</td>\n",
       "      <td>0</td>\n",
       "      <td>Electronic</td>\n",
       "      <td>True</td>\n",
       "    </tr>\n",
       "  </tbody>\n",
       "</table>\n",
       "<p>15 rows × 57 columns</p>\n",
       "</div>"
      ],
      "text/plain": [
       "    Zero Crossing Rate  Number of Onsets  mfcc_mean_1  mfcc_mean_2  \\\n",
       "0               2157.0              10.0  -160.973272   184.320385   \n",
       "1               2570.0               9.0  -160.344057   184.074794   \n",
       "2               3143.0               8.0  -160.058394   183.666478   \n",
       "3               5374.0              12.0  -159.891569   183.892191   \n",
       "4               5665.0               9.0  -159.699858   184.313259   \n",
       "5               4233.0               4.0  -160.589245   183.759895   \n",
       "6               4821.0              11.0  -160.895901   183.915729   \n",
       "7               4983.0               9.0  -160.699118   184.131995   \n",
       "8               3981.0               8.0  -160.447509   184.006099   \n",
       "9               6495.0              13.0  -160.260212   183.769066   \n",
       "10              2157.0              16.0  -128.589945   120.967966   \n",
       "11              2570.0              17.0  -128.330960   121.017116   \n",
       "12              3143.0              17.0  -127.361629   120.721451   \n",
       "13              5374.0              16.0  -126.924370   120.544402   \n",
       "14              5665.0              15.0  -127.688778   120.434277   \n",
       "\n",
       "    mfcc_mean_3  mfcc_mean_4  mfcc_mean_5  mfcc_mean_6  mfcc_mean_7  \\\n",
       "0    -22.985395    39.527404    -9.813770    15.310525   -13.843877   \n",
       "1    -23.322441    39.534971    -9.647739    15.304824   -13.893123   \n",
       "2    -23.374013    39.374805   -10.326398    15.310107   -13.971265   \n",
       "3    -22.914240    39.327850   -10.551005    15.471867   -14.188831   \n",
       "4    -23.128340    39.072852   -10.387527    15.084918   -14.113351   \n",
       "5    -23.468740    39.312662   -10.234623    15.016939   -14.151684   \n",
       "6    -23.325363    39.476560   -10.075741    15.213195   -14.231476   \n",
       "7    -23.627454    39.175700    -9.998731    15.218191   -14.267469   \n",
       "8    -23.931341    39.172532    -9.926407    15.136880   -13.970451   \n",
       "9    -23.758201    39.398229    -9.964494    15.251964   -14.074251   \n",
       "10   -17.855527    41.012876   -10.288796    17.934360    -3.232601   \n",
       "11   -17.607110    41.169017    -9.929772    18.237017    -2.915348   \n",
       "12   -17.126040    41.376582    -9.717660    19.031687    -3.240333   \n",
       "13   -16.520692    41.235862    -9.257631    19.089023    -3.317971   \n",
       "14   -16.666332    41.086219    -9.176231    18.916833    -3.189678   \n",
       "\n",
       "    mfcc_mean_8  ...    mfcc_kurtosis_10  mfcc_kurtosis_11  mfcc_kurtosis_12  \\\n",
       "0     17.804084  ...           -0.220679          0.024465          1.197027   \n",
       "1     18.174114  ...           -0.264739          0.071246          0.939847   \n",
       "2     17.986350  ...            0.110875         -0.089481          0.362001   \n",
       "3     17.773913  ...           -0.204822         -0.159536          0.222453   \n",
       "4     17.761934  ...            0.284749         -0.282557          0.697686   \n",
       "5     17.522570  ...           -0.091316         -0.310369          0.003197   \n",
       "6     17.504163  ...           -0.256187          0.108071         -0.085270   \n",
       "7     17.632736  ...            0.140867          0.028676         -0.283043   \n",
       "8     17.717359  ...           -0.040837          0.373075         -0.273164   \n",
       "9     17.797812  ...           -0.228240          0.183637         -0.198983   \n",
       "10    15.412152  ...           -0.107372         -0.174327         -0.043728   \n",
       "11    15.713369  ...           -0.299662         -0.108009          0.090169   \n",
       "12    15.546451  ...           -0.201649         -0.040244         -0.325153   \n",
       "13    15.575448  ...           -0.100857          0.188179         -0.380606   \n",
       "14    15.633409  ...           -0.289870         -0.129569         -0.372546   \n",
       "\n",
       "    spectral_centroid_mean  spectral_centroid_var  spectral_centroid_skew  \\\n",
       "0               968.625640          275094.428012                1.173542   \n",
       "1              1270.389393           17999.842129                0.596692   \n",
       "2              1561.206407          160435.404399                1.592194   \n",
       "3              1834.602074          395308.340084                4.248760   \n",
       "4              2275.671978          419006.552103                1.792972   \n",
       "5              1809.791628          161102.086831                1.506138   \n",
       "6              2009.890048          675295.243375                2.075374   \n",
       "7              2059.340694          201868.693865                1.439725   \n",
       "8              1652.638550           89947.499656                2.369875   \n",
       "9              2109.934419          476283.345930                2.203267   \n",
       "10              968.625640          275094.428012                1.173542   \n",
       "11             1270.389393           17999.842129                0.596692   \n",
       "12             1561.206407          160435.404399                1.592194   \n",
       "13             1834.602074          395308.340084                4.248760   \n",
       "14             2275.671978          419006.552103                1.792972   \n",
       "\n",
       "    spectral_centroid_kurtosis  Encoded_Genre       Genre  Train  \n",
       "0                     1.921552              0  Electronic   True  \n",
       "1                     0.692742              0  Electronic   True  \n",
       "2                     2.524688              0  Electronic   True  \n",
       "3                    17.500982              0  Electronic   True  \n",
       "4                     3.456450              0  Electronic   True  \n",
       "5                     2.491702              0  Electronic   True  \n",
       "6                     3.444626              0  Electronic   True  \n",
       "7                     2.127228              0  Electronic   True  \n",
       "8                     7.694625              0  Electronic   True  \n",
       "9                     5.244489              0  Electronic   True  \n",
       "10                    1.921552              0  Electronic   True  \n",
       "11                    0.692742              0  Electronic   True  \n",
       "12                    2.524688              0  Electronic   True  \n",
       "13                   17.500982              0  Electronic   True  \n",
       "14                    3.456450              0  Electronic   True  \n",
       "\n",
       "[15 rows x 57 columns]"
      ]
     },
     "execution_count": 5,
     "metadata": {},
     "output_type": "execute_result"
    }
   ],
   "source": [
    "df.head(15)"
   ]
  },
  {
   "cell_type": "markdown",
   "metadata": {},
   "source": [
    "We verify that there are no null values as some scikit learn algorithms crash otherwise"
   ]
  },
  {
   "cell_type": "code",
   "execution_count": 6,
   "metadata": {
    "collapsed": false
   },
   "outputs": [
    {
     "data": {
      "text/plain": [
       "Zero Crossing Rate            False\n",
       "Number of Onsets              False\n",
       "mfcc_mean_1                   False\n",
       "mfcc_mean_2                   False\n",
       "mfcc_mean_3                   False\n",
       "mfcc_mean_4                   False\n",
       "mfcc_mean_5                   False\n",
       "mfcc_mean_6                   False\n",
       "mfcc_mean_7                   False\n",
       "mfcc_mean_8                   False\n",
       "mfcc_mean_9                   False\n",
       "mfcc_mean_10                  False\n",
       "mfcc_mean_11                  False\n",
       "mfcc_mean_12                  False\n",
       "mfcc_var_1                    False\n",
       "mfcc_var_2                    False\n",
       "mfcc_var_3                    False\n",
       "mfcc_var_4                    False\n",
       "mfcc_var_5                    False\n",
       "mfcc_var_6                    False\n",
       "mfcc_var_7                    False\n",
       "mfcc_var_8                    False\n",
       "mfcc_var_9                    False\n",
       "mfcc_var_10                   False\n",
       "mfcc_var_11                   False\n",
       "mfcc_var_12                   False\n",
       "mfcc_skew_1                   False\n",
       "mfcc_skew_2                   False\n",
       "mfcc_skew_3                   False\n",
       "mfcc_skew_4                   False\n",
       "mfcc_skew_5                   False\n",
       "mfcc_skew_6                   False\n",
       "mfcc_skew_7                   False\n",
       "mfcc_skew_8                   False\n",
       "mfcc_skew_9                   False\n",
       "mfcc_skew_10                  False\n",
       "mfcc_skew_11                  False\n",
       "mfcc_skew_12                  False\n",
       "mfcc_kurtosis_1               False\n",
       "mfcc_kurtosis_2               False\n",
       "mfcc_kurtosis_3               False\n",
       "mfcc_kurtosis_4               False\n",
       "mfcc_kurtosis_5               False\n",
       "mfcc_kurtosis_6               False\n",
       "mfcc_kurtosis_7               False\n",
       "mfcc_kurtosis_8               False\n",
       "mfcc_kurtosis_9               False\n",
       "mfcc_kurtosis_10              False\n",
       "mfcc_kurtosis_11              False\n",
       "mfcc_kurtosis_12              False\n",
       "spectral_centroid_mean        False\n",
       "spectral_centroid_var         False\n",
       "spectral_centroid_skew        False\n",
       "spectral_centroid_kurtosis    False\n",
       "Encoded_Genre                 False\n",
       "Genre                         False\n",
       "Train                         False\n",
       "dtype: bool"
      ]
     },
     "execution_count": 6,
     "metadata": {},
     "output_type": "execute_result"
    }
   ],
   "source": [
    "df.isnull().any()"
   ]
  },
  {
   "cell_type": "markdown",
   "metadata": {},
   "source": [
    "Remove any rows with all zeroes"
   ]
  },
  {
   "cell_type": "code",
   "execution_count": 7,
   "metadata": {
    "collapsed": true
   },
   "outputs": [],
   "source": [
    "df = df.loc[~df.apply(lambda row: (row==0).all(), axis=1)]"
   ]
  },
  {
   "cell_type": "markdown",
   "metadata": {},
   "source": [
    "Retrieve high level statistical properties of the data set to check for glaring errors"
   ]
  },
  {
   "cell_type": "code",
   "execution_count": 8,
   "metadata": {
    "collapsed": false
   },
   "outputs": [
    {
     "data": {
      "text/html": [
       "<div>\n",
       "<table border=\"1\" class=\"dataframe\">\n",
       "  <thead>\n",
       "    <tr style=\"text-align: right;\">\n",
       "      <th></th>\n",
       "      <th>Zero Crossing Rate</th>\n",
       "      <th>Number of Onsets</th>\n",
       "      <th>mfcc_mean_1</th>\n",
       "      <th>mfcc_mean_2</th>\n",
       "      <th>mfcc_mean_3</th>\n",
       "      <th>mfcc_mean_4</th>\n",
       "      <th>mfcc_mean_5</th>\n",
       "      <th>mfcc_mean_6</th>\n",
       "      <th>mfcc_mean_7</th>\n",
       "      <th>mfcc_mean_8</th>\n",
       "      <th>...</th>\n",
       "      <th>mfcc_kurtosis_8</th>\n",
       "      <th>mfcc_kurtosis_9</th>\n",
       "      <th>mfcc_kurtosis_10</th>\n",
       "      <th>mfcc_kurtosis_11</th>\n",
       "      <th>mfcc_kurtosis_12</th>\n",
       "      <th>spectral_centroid_mean</th>\n",
       "      <th>spectral_centroid_var</th>\n",
       "      <th>spectral_centroid_skew</th>\n",
       "      <th>spectral_centroid_kurtosis</th>\n",
       "      <th>Encoded_Genre</th>\n",
       "    </tr>\n",
       "  </thead>\n",
       "  <tbody>\n",
       "    <tr>\n",
       "      <th>count</th>\n",
       "      <td>40000.000000</td>\n",
       "      <td>40000.000000</td>\n",
       "      <td>40000.000000</td>\n",
       "      <td>40000.000000</td>\n",
       "      <td>40000.000000</td>\n",
       "      <td>40000.000000</td>\n",
       "      <td>40000.000000</td>\n",
       "      <td>40000.000000</td>\n",
       "      <td>40000.000000</td>\n",
       "      <td>40000.000000</td>\n",
       "      <td>...</td>\n",
       "      <td>40000.000000</td>\n",
       "      <td>40000.000000</td>\n",
       "      <td>40000.000000</td>\n",
       "      <td>40000.000000</td>\n",
       "      <td>40000.000000</td>\n",
       "      <td>40000.000000</td>\n",
       "      <td>40000.000000</td>\n",
       "      <td>40000.000000</td>\n",
       "      <td>40000.000000</td>\n",
       "      <td>40000.000000</td>\n",
       "    </tr>\n",
       "    <tr>\n",
       "      <th>mean</th>\n",
       "      <td>4340.028900</td>\n",
       "      <td>12.647700</td>\n",
       "      <td>-178.961149</td>\n",
       "      <td>154.221790</td>\n",
       "      <td>-25.987973</td>\n",
       "      <td>29.523120</td>\n",
       "      <td>-0.421192</td>\n",
       "      <td>14.786920</td>\n",
       "      <td>-7.119779</td>\n",
       "      <td>5.571237</td>\n",
       "      <td>...</td>\n",
       "      <td>0.093536</td>\n",
       "      <td>0.050203</td>\n",
       "      <td>0.106709</td>\n",
       "      <td>0.100901</td>\n",
       "      <td>0.125434</td>\n",
       "      <td>1754.331479</td>\n",
       "      <td>287090.526567</td>\n",
       "      <td>1.898904</td>\n",
       "      <td>4.707554</td>\n",
       "      <td>4.500000</td>\n",
       "    </tr>\n",
       "    <tr>\n",
       "      <th>std</th>\n",
       "      <td>1329.322053</td>\n",
       "      <td>6.958322</td>\n",
       "      <td>92.440643</td>\n",
       "      <td>32.861457</td>\n",
       "      <td>28.672637</td>\n",
       "      <td>30.132417</td>\n",
       "      <td>14.023414</td>\n",
       "      <td>14.457333</td>\n",
       "      <td>11.322751</td>\n",
       "      <td>12.294674</td>\n",
       "      <td>...</td>\n",
       "      <td>0.638210</td>\n",
       "      <td>0.583301</td>\n",
       "      <td>0.611725</td>\n",
       "      <td>0.593347</td>\n",
       "      <td>0.597938</td>\n",
       "      <td>384.704363</td>\n",
       "      <td>191427.365976</td>\n",
       "      <td>0.925942</td>\n",
       "      <td>4.650425</td>\n",
       "      <td>2.872317</td>\n",
       "    </tr>\n",
       "    <tr>\n",
       "      <th>min</th>\n",
       "      <td>0.000000</td>\n",
       "      <td>0.000000</td>\n",
       "      <td>-678.613854</td>\n",
       "      <td>0.000000</td>\n",
       "      <td>-157.663119</td>\n",
       "      <td>-95.809999</td>\n",
       "      <td>-62.927152</td>\n",
       "      <td>-40.238413</td>\n",
       "      <td>-54.363258</td>\n",
       "      <td>-46.506073</td>\n",
       "      <td>...</td>\n",
       "      <td>-1.431263</td>\n",
       "      <td>-1.421251</td>\n",
       "      <td>-1.339909</td>\n",
       "      <td>-1.469778</td>\n",
       "      <td>-1.199782</td>\n",
       "      <td>0.000000</td>\n",
       "      <td>0.000000</td>\n",
       "      <td>0.000000</td>\n",
       "      <td>0.000000</td>\n",
       "      <td>0.000000</td>\n",
       "    </tr>\n",
       "    <tr>\n",
       "      <th>25%</th>\n",
       "      <td>3143.000000</td>\n",
       "      <td>8.000000</td>\n",
       "      <td>-243.077109</td>\n",
       "      <td>132.734500</td>\n",
       "      <td>-46.244456</td>\n",
       "      <td>22.856943</td>\n",
       "      <td>-9.152051</td>\n",
       "      <td>8.074998</td>\n",
       "      <td>-12.727025</td>\n",
       "      <td>0.683018</td>\n",
       "      <td>...</td>\n",
       "      <td>-0.275490</td>\n",
       "      <td>-0.292665</td>\n",
       "      <td>-0.255009</td>\n",
       "      <td>-0.242055</td>\n",
       "      <td>-0.216908</td>\n",
       "      <td>1561.206407</td>\n",
       "      <td>160435.404399</td>\n",
       "      <td>1.439725</td>\n",
       "      <td>2.127228</td>\n",
       "      <td>2.000000</td>\n",
       "    </tr>\n",
       "    <tr>\n",
       "      <th>50%</th>\n",
       "      <td>4233.000000</td>\n",
       "      <td>13.000000</td>\n",
       "      <td>-166.549171</td>\n",
       "      <td>154.678231</td>\n",
       "      <td>-27.206540</td>\n",
       "      <td>36.726471</td>\n",
       "      <td>-0.920574</td>\n",
       "      <td>17.095726</td>\n",
       "      <td>-6.217018</td>\n",
       "      <td>7.572122</td>\n",
       "      <td>...</td>\n",
       "      <td>-0.021022</td>\n",
       "      <td>-0.053564</td>\n",
       "      <td>-0.005153</td>\n",
       "      <td>-0.006475</td>\n",
       "      <td>0.017289</td>\n",
       "      <td>1809.791628</td>\n",
       "      <td>201868.693865</td>\n",
       "      <td>1.592194</td>\n",
       "      <td>2.524688</td>\n",
       "      <td>4.500000</td>\n",
       "    </tr>\n",
       "    <tr>\n",
       "      <th>75%</th>\n",
       "      <td>5374.000000</td>\n",
       "      <td>17.000000</td>\n",
       "      <td>-110.717247</td>\n",
       "      <td>174.460114</td>\n",
       "      <td>-7.985151</td>\n",
       "      <td>47.222990</td>\n",
       "      <td>8.129025</td>\n",
       "      <td>24.163057</td>\n",
       "      <td>0.094128</td>\n",
       "      <td>13.464210</td>\n",
       "      <td>...</td>\n",
       "      <td>0.307768</td>\n",
       "      <td>0.252255</td>\n",
       "      <td>0.314547</td>\n",
       "      <td>0.297915</td>\n",
       "      <td>0.327194</td>\n",
       "      <td>2059.340694</td>\n",
       "      <td>419006.552103</td>\n",
       "      <td>2.203267</td>\n",
       "      <td>5.244489</td>\n",
       "      <td>7.000000</td>\n",
       "    </tr>\n",
       "    <tr>\n",
       "      <th>max</th>\n",
       "      <td>6495.000000</td>\n",
       "      <td>65.000000</td>\n",
       "      <td>72.935200</td>\n",
       "      <td>271.958310</td>\n",
       "      <td>90.630265</td>\n",
       "      <td>118.717905</td>\n",
       "      <td>67.294276</td>\n",
       "      <td>70.013503</td>\n",
       "      <td>44.840056</td>\n",
       "      <td>39.746901</td>\n",
       "      <td>...</td>\n",
       "      <td>14.730745</td>\n",
       "      <td>14.159145</td>\n",
       "      <td>10.140298</td>\n",
       "      <td>11.711161</td>\n",
       "      <td>18.806338</td>\n",
       "      <td>2275.671978</td>\n",
       "      <td>675295.243375</td>\n",
       "      <td>4.248760</td>\n",
       "      <td>17.500982</td>\n",
       "      <td>9.000000</td>\n",
       "    </tr>\n",
       "  </tbody>\n",
       "</table>\n",
       "<p>8 rows × 55 columns</p>\n",
       "</div>"
      ],
      "text/plain": [
       "       Zero Crossing Rate  Number of Onsets   mfcc_mean_1   mfcc_mean_2  \\\n",
       "count        40000.000000      40000.000000  40000.000000  40000.000000   \n",
       "mean          4340.028900         12.647700   -178.961149    154.221790   \n",
       "std           1329.322053          6.958322     92.440643     32.861457   \n",
       "min              0.000000          0.000000   -678.613854      0.000000   \n",
       "25%           3143.000000          8.000000   -243.077109    132.734500   \n",
       "50%           4233.000000         13.000000   -166.549171    154.678231   \n",
       "75%           5374.000000         17.000000   -110.717247    174.460114   \n",
       "max           6495.000000         65.000000     72.935200    271.958310   \n",
       "\n",
       "        mfcc_mean_3   mfcc_mean_4   mfcc_mean_5   mfcc_mean_6   mfcc_mean_7  \\\n",
       "count  40000.000000  40000.000000  40000.000000  40000.000000  40000.000000   \n",
       "mean     -25.987973     29.523120     -0.421192     14.786920     -7.119779   \n",
       "std       28.672637     30.132417     14.023414     14.457333     11.322751   \n",
       "min     -157.663119    -95.809999    -62.927152    -40.238413    -54.363258   \n",
       "25%      -46.244456     22.856943     -9.152051      8.074998    -12.727025   \n",
       "50%      -27.206540     36.726471     -0.920574     17.095726     -6.217018   \n",
       "75%       -7.985151     47.222990      8.129025     24.163057      0.094128   \n",
       "max       90.630265    118.717905     67.294276     70.013503     44.840056   \n",
       "\n",
       "        mfcc_mean_8      ...        mfcc_kurtosis_8  mfcc_kurtosis_9  \\\n",
       "count  40000.000000      ...           40000.000000     40000.000000   \n",
       "mean       5.571237      ...               0.093536         0.050203   \n",
       "std       12.294674      ...               0.638210         0.583301   \n",
       "min      -46.506073      ...              -1.431263        -1.421251   \n",
       "25%        0.683018      ...              -0.275490        -0.292665   \n",
       "50%        7.572122      ...              -0.021022        -0.053564   \n",
       "75%       13.464210      ...               0.307768         0.252255   \n",
       "max       39.746901      ...              14.730745        14.159145   \n",
       "\n",
       "       mfcc_kurtosis_10  mfcc_kurtosis_11  mfcc_kurtosis_12  \\\n",
       "count      40000.000000      40000.000000      40000.000000   \n",
       "mean           0.106709          0.100901          0.125434   \n",
       "std            0.611725          0.593347          0.597938   \n",
       "min           -1.339909         -1.469778         -1.199782   \n",
       "25%           -0.255009         -0.242055         -0.216908   \n",
       "50%           -0.005153         -0.006475          0.017289   \n",
       "75%            0.314547          0.297915          0.327194   \n",
       "max           10.140298         11.711161         18.806338   \n",
       "\n",
       "       spectral_centroid_mean  spectral_centroid_var  spectral_centroid_skew  \\\n",
       "count            40000.000000           40000.000000            40000.000000   \n",
       "mean              1754.331479          287090.526567                1.898904   \n",
       "std                384.704363          191427.365976                0.925942   \n",
       "min                  0.000000               0.000000                0.000000   \n",
       "25%               1561.206407          160435.404399                1.439725   \n",
       "50%               1809.791628          201868.693865                1.592194   \n",
       "75%               2059.340694          419006.552103                2.203267   \n",
       "max               2275.671978          675295.243375                4.248760   \n",
       "\n",
       "       spectral_centroid_kurtosis  Encoded_Genre  \n",
       "count                40000.000000   40000.000000  \n",
       "mean                     4.707554       4.500000  \n",
       "std                      4.650425       2.872317  \n",
       "min                      0.000000       0.000000  \n",
       "25%                      2.127228       2.000000  \n",
       "50%                      2.524688       4.500000  \n",
       "75%                      5.244489       7.000000  \n",
       "max                     17.500982       9.000000  \n",
       "\n",
       "[8 rows x 55 columns]"
      ]
     },
     "execution_count": 8,
     "metadata": {},
     "output_type": "execute_result"
    }
   ],
   "source": [
    "df.describe()"
   ]
  },
  {
   "cell_type": "code",
   "execution_count": 9,
   "metadata": {
    "collapsed": false
   },
   "outputs": [
    {
     "name": "stdout",
     "output_type": "stream",
     "text": [
      "Number of columns in data set is: 57\n",
      "The columns are:\n"
     ]
    },
    {
     "data": {
      "text/plain": [
       "Index(['Zero Crossing Rate', 'Number of Onsets', 'mfcc_mean_1', 'mfcc_mean_2',\n",
       "       'mfcc_mean_3', 'mfcc_mean_4', 'mfcc_mean_5', 'mfcc_mean_6',\n",
       "       'mfcc_mean_7', 'mfcc_mean_8', 'mfcc_mean_9', 'mfcc_mean_10',\n",
       "       'mfcc_mean_11', 'mfcc_mean_12', 'mfcc_var_1', 'mfcc_var_2',\n",
       "       'mfcc_var_3', 'mfcc_var_4', 'mfcc_var_5', 'mfcc_var_6', 'mfcc_var_7',\n",
       "       'mfcc_var_8', 'mfcc_var_9', 'mfcc_var_10', 'mfcc_var_11', 'mfcc_var_12',\n",
       "       'mfcc_skew_1', 'mfcc_skew_2', 'mfcc_skew_3', 'mfcc_skew_4',\n",
       "       'mfcc_skew_5', 'mfcc_skew_6', 'mfcc_skew_7', 'mfcc_skew_8',\n",
       "       'mfcc_skew_9', 'mfcc_skew_10', 'mfcc_skew_11', 'mfcc_skew_12',\n",
       "       'mfcc_kurtosis_1', 'mfcc_kurtosis_2', 'mfcc_kurtosis_3',\n",
       "       'mfcc_kurtosis_4', 'mfcc_kurtosis_5', 'mfcc_kurtosis_6',\n",
       "       'mfcc_kurtosis_7', 'mfcc_kurtosis_8', 'mfcc_kurtosis_9',\n",
       "       'mfcc_kurtosis_10', 'mfcc_kurtosis_11', 'mfcc_kurtosis_12',\n",
       "       'spectral_centroid_mean', 'spectral_centroid_var',\n",
       "       'spectral_centroid_skew', 'spectral_centroid_kurtosis', 'Encoded_Genre',\n",
       "       'Genre', 'Train'],\n",
       "      dtype='object')"
      ]
     },
     "execution_count": 9,
     "metadata": {},
     "output_type": "execute_result"
    }
   ],
   "source": [
    "print(\"Number of columns in data set is: %d\"% len(df.columns))\n",
    "# view columns present in data set and their names\n",
    "print(\"The columns are:\");df.columns  "
   ]
  },
  {
   "cell_type": "raw",
   "metadata": {},
   "source": [
    "plt.plot(df.Encoded_Genre, color=\"purple\")\n",
    "plt.title(\"Plot for  Genre Category Label\",fontweight='bold')\n",
    "plt.xlabel(\"Data Sampple\",fontweight=\"bold\")\n",
    "plt.ylabel(\"Genre Label\",fontweight=\"bold\")\n",
    "plt.show()"
   ]
  },
  {
   "cell_type": "markdown",
   "metadata": {},
   "source": [
    "# 2. Exploratory Data Analysis\n",
    "- Verify that there are indeed only 10 genres which are balanced and display it graphically"
   ]
  },
  {
   "cell_type": "markdown",
   "metadata": {},
   "source": [
    "This allows us to check that there are indeed only 10 Genres which correspond to each of the music genres to be classified. "
   ]
  },
  {
   "cell_type": "code",
   "execution_count": 79,
   "metadata": {
    "collapsed": false
   },
   "outputs": [
    {
     "data": {
      "text/plain": [
       "array([2, 6, 7, 9, 3, 4, 0, 5, 1, 8])"
      ]
     },
     "execution_count": 79,
     "metadata": {},
     "output_type": "execute_result"
    }
   ],
   "source": [
    "original_encoded_order = df.Encoded_Genre.unique() \n",
    "original_encoded_order"
   ]
  },
  {
   "cell_type": "code",
   "execution_count": 81,
   "metadata": {
    "collapsed": false
   },
   "outputs": [
    {
     "data": {
      "text/plain": [
       "array(['Hip-Hop', 'Pop', 'Psych-Rock', 'Rock', 'Indie-Rock', 'Jazz',\n",
       "       'Electronic', 'Old-Time', 'Folk', 'Punk'], dtype=object)"
      ]
     },
     "execution_count": 81,
     "metadata": {},
     "output_type": "execute_result"
    }
   ],
   "source": [
    "original_genre_order = df.Genre.unique()\n",
    "original_genre_order"
   ]
  },
  {
   "cell_type": "code",
   "execution_count": 10,
   "metadata": {
    "collapsed": false
   },
   "outputs": [
    {
     "data": {
      "text/plain": [
       "Index(['Zero Crossing Rate', 'Number of Onsets', 'mfcc_mean_1', 'mfcc_mean_2',\n",
       "       'mfcc_mean_3', 'mfcc_mean_4', 'mfcc_mean_5', 'mfcc_mean_6',\n",
       "       'mfcc_mean_7', 'mfcc_mean_8', 'mfcc_mean_9', 'mfcc_mean_10',\n",
       "       'mfcc_mean_11', 'mfcc_mean_12', 'mfcc_var_1', 'mfcc_var_2',\n",
       "       'mfcc_var_3', 'mfcc_var_4', 'mfcc_var_5', 'mfcc_var_6', 'mfcc_var_7',\n",
       "       'mfcc_var_8', 'mfcc_var_9', 'mfcc_var_10', 'mfcc_var_11', 'mfcc_var_12',\n",
       "       'mfcc_skew_1', 'mfcc_skew_2', 'mfcc_skew_3', 'mfcc_skew_4',\n",
       "       'mfcc_skew_5', 'mfcc_skew_6', 'mfcc_skew_7', 'mfcc_skew_8',\n",
       "       'mfcc_skew_9', 'mfcc_skew_10', 'mfcc_skew_11', 'mfcc_skew_12',\n",
       "       'mfcc_kurtosis_1', 'mfcc_kurtosis_2', 'mfcc_kurtosis_3',\n",
       "       'mfcc_kurtosis_4', 'mfcc_kurtosis_5', 'mfcc_kurtosis_6',\n",
       "       'mfcc_kurtosis_7', 'mfcc_kurtosis_8', 'mfcc_kurtosis_9',\n",
       "       'mfcc_kurtosis_10', 'mfcc_kurtosis_11', 'mfcc_kurtosis_12',\n",
       "       'spectral_centroid_mean', 'spectral_centroid_var',\n",
       "       'spectral_centroid_skew', 'spectral_centroid_kurtosis', 'Encoded_Genre',\n",
       "       'Genre', 'Train'],\n",
       "      dtype='object')"
      ]
     },
     "execution_count": 10,
     "metadata": {},
     "output_type": "execute_result"
    }
   ],
   "source": [
    "df.columns"
   ]
  },
  {
   "cell_type": "markdown",
   "metadata": {},
   "source": [
    "This  checks that the Genres to be classified are from a balanced dataset."
   ]
  },
  {
   "cell_type": "code",
   "execution_count": 11,
   "metadata": {
    "collapsed": false
   },
   "outputs": [
    {
     "data": {
      "image/png": "[encoded data removed]",
      "text/plain": [
       "<matplotlib.figure.Figure at 0x7fc95758ca90>"
      ]
     },
     "metadata": {},
     "output_type": "display_data"
    },
    {
     "data": {
      "text/plain": [
       "9    4000\n",
       "8    4000\n",
       "7    4000\n",
       "6    4000\n",
       "5    4000\n",
       "4    4000\n",
       "3    4000\n",
       "2    4000\n",
       "1    4000\n",
       "0    4000\n",
       "Name: Encoded_Genre, dtype: int64"
      ]
     },
     "execution_count": 11,
     "metadata": {},
     "output_type": "execute_result"
    }
   ],
   "source": [
    "df.Encoded_Genre.hist(bins=100,color='teal')\n",
    "plt.title(\"Histogram plot\",fontweight='bold');\n",
    "plt.xlabel(\"Data Sample\",fontweight='bold');\n",
    "plt.ylabel(\"Genre Category\",fontweight='bold');\n",
    "\n",
    "plt.show()\n",
    "df.Encoded_Genre.value_counts()"
   ]
  },
  {
   "cell_type": "code",
   "execution_count": 11,
   "metadata": {
    "collapsed": false
   },
   "outputs": [
    {
     "data": {
      "text/html": [
       "<div>\n",
       "<table border=\"1\" class=\"dataframe\">\n",
       "  <thead>\n",
       "    <tr style=\"text-align: right;\">\n",
       "      <th></th>\n",
       "      <th>Zero Crossing Rate</th>\n",
       "      <th>Number of Onsets</th>\n",
       "      <th>mfcc_mean_1</th>\n",
       "      <th>mfcc_mean_2</th>\n",
       "      <th>mfcc_mean_3</th>\n",
       "      <th>mfcc_mean_4</th>\n",
       "      <th>mfcc_mean_5</th>\n",
       "      <th>mfcc_mean_6</th>\n",
       "      <th>mfcc_mean_7</th>\n",
       "      <th>mfcc_mean_8</th>\n",
       "      <th>...</th>\n",
       "      <th>mfcc_kurtosis_10</th>\n",
       "      <th>mfcc_kurtosis_11</th>\n",
       "      <th>mfcc_kurtosis_12</th>\n",
       "      <th>spectral_centroid_mean</th>\n",
       "      <th>spectral_centroid_var</th>\n",
       "      <th>spectral_centroid_skew</th>\n",
       "      <th>spectral_centroid_kurtosis</th>\n",
       "      <th>Encoded_Genre</th>\n",
       "      <th>Genre</th>\n",
       "      <th>Train</th>\n",
       "    </tr>\n",
       "  </thead>\n",
       "  <tbody>\n",
       "    <tr>\n",
       "      <th>9930</th>\n",
       "      <td>2157.0</td>\n",
       "      <td>16.0</td>\n",
       "      <td>-181.031550</td>\n",
       "      <td>103.922059</td>\n",
       "      <td>-38.711613</td>\n",
       "      <td>86.274006</td>\n",
       "      <td>-15.071908</td>\n",
       "      <td>24.131130</td>\n",
       "      <td>9.048682</td>\n",
       "      <td>10.813169</td>\n",
       "      <td>...</td>\n",
       "      <td>-0.667363</td>\n",
       "      <td>0.642528</td>\n",
       "      <td>1.378993</td>\n",
       "      <td>968.625640</td>\n",
       "      <td>275094.428012</td>\n",
       "      <td>1.173542</td>\n",
       "      <td>1.921552</td>\n",
       "      <td>2</td>\n",
       "      <td>Hip-Hop</td>\n",
       "      <td>False</td>\n",
       "    </tr>\n",
       "    <tr>\n",
       "      <th>26882</th>\n",
       "      <td>3143.0</td>\n",
       "      <td>16.0</td>\n",
       "      <td>-215.720885</td>\n",
       "      <td>206.106430</td>\n",
       "      <td>-33.038117</td>\n",
       "      <td>8.603437</td>\n",
       "      <td>15.960386</td>\n",
       "      <td>2.182355</td>\n",
       "      <td>2.565153</td>\n",
       "      <td>-13.643583</td>\n",
       "      <td>...</td>\n",
       "      <td>-0.507789</td>\n",
       "      <td>1.398776</td>\n",
       "      <td>-0.026719</td>\n",
       "      <td>1561.206407</td>\n",
       "      <td>160435.404399</td>\n",
       "      <td>1.592194</td>\n",
       "      <td>2.524688</td>\n",
       "      <td>6</td>\n",
       "      <td>Pop</td>\n",
       "      <td>True</td>\n",
       "    </tr>\n",
       "    <tr>\n",
       "      <th>31607</th>\n",
       "      <td>4983.0</td>\n",
       "      <td>10.0</td>\n",
       "      <td>-121.570742</td>\n",
       "      <td>156.470753</td>\n",
       "      <td>-43.420642</td>\n",
       "      <td>35.631985</td>\n",
       "      <td>-29.124300</td>\n",
       "      <td>28.273275</td>\n",
       "      <td>-15.043892</td>\n",
       "      <td>7.016115</td>\n",
       "      <td>...</td>\n",
       "      <td>0.122080</td>\n",
       "      <td>0.429828</td>\n",
       "      <td>0.542351</td>\n",
       "      <td>2059.340694</td>\n",
       "      <td>201868.693865</td>\n",
       "      <td>1.439725</td>\n",
       "      <td>2.127228</td>\n",
       "      <td>7</td>\n",
       "      <td>Psych-Rock</td>\n",
       "      <td>True</td>\n",
       "    </tr>\n",
       "    <tr>\n",
       "      <th>38214</th>\n",
       "      <td>5665.0</td>\n",
       "      <td>5.0</td>\n",
       "      <td>-160.236800</td>\n",
       "      <td>154.896801</td>\n",
       "      <td>-41.391888</td>\n",
       "      <td>80.937218</td>\n",
       "      <td>3.608994</td>\n",
       "      <td>2.075511</td>\n",
       "      <td>13.165438</td>\n",
       "      <td>4.790453</td>\n",
       "      <td>...</td>\n",
       "      <td>-0.143417</td>\n",
       "      <td>0.518606</td>\n",
       "      <td>-0.008186</td>\n",
       "      <td>2275.671978</td>\n",
       "      <td>419006.552103</td>\n",
       "      <td>1.792972</td>\n",
       "      <td>3.456450</td>\n",
       "      <td>9</td>\n",
       "      <td>Rock</td>\n",
       "      <td>False</td>\n",
       "    </tr>\n",
       "    <tr>\n",
       "      <th>15019</th>\n",
       "      <td>6495.0</td>\n",
       "      <td>16.0</td>\n",
       "      <td>-156.817912</td>\n",
       "      <td>162.387198</td>\n",
       "      <td>-16.909710</td>\n",
       "      <td>45.064871</td>\n",
       "      <td>19.782463</td>\n",
       "      <td>7.908994</td>\n",
       "      <td>-14.355097</td>\n",
       "      <td>8.862357</td>\n",
       "      <td>...</td>\n",
       "      <td>0.301586</td>\n",
       "      <td>-0.191963</td>\n",
       "      <td>0.520941</td>\n",
       "      <td>2109.934419</td>\n",
       "      <td>476283.345930</td>\n",
       "      <td>2.203267</td>\n",
       "      <td>5.244489</td>\n",
       "      <td>3</td>\n",
       "      <td>Indie-Rock</td>\n",
       "      <td>True</td>\n",
       "    </tr>\n",
       "  </tbody>\n",
       "</table>\n",
       "<p>5 rows × 57 columns</p>\n",
       "</div>"
      ],
      "text/plain": [
       "       Zero Crossing Rate  Number of Onsets  mfcc_mean_1  mfcc_mean_2  \\\n",
       "9930               2157.0              16.0  -181.031550   103.922059   \n",
       "26882              3143.0              16.0  -215.720885   206.106430   \n",
       "31607              4983.0              10.0  -121.570742   156.470753   \n",
       "38214              5665.0               5.0  -160.236800   154.896801   \n",
       "15019              6495.0              16.0  -156.817912   162.387198   \n",
       "\n",
       "       mfcc_mean_3  mfcc_mean_4  mfcc_mean_5  mfcc_mean_6  mfcc_mean_7  \\\n",
       "9930    -38.711613    86.274006   -15.071908    24.131130     9.048682   \n",
       "26882   -33.038117     8.603437    15.960386     2.182355     2.565153   \n",
       "31607   -43.420642    35.631985   -29.124300    28.273275   -15.043892   \n",
       "38214   -41.391888    80.937218     3.608994     2.075511    13.165438   \n",
       "15019   -16.909710    45.064871    19.782463     7.908994   -14.355097   \n",
       "\n",
       "       mfcc_mean_8  ...    mfcc_kurtosis_10  mfcc_kurtosis_11  \\\n",
       "9930     10.813169  ...           -0.667363          0.642528   \n",
       "26882   -13.643583  ...           -0.507789          1.398776   \n",
       "31607     7.016115  ...            0.122080          0.429828   \n",
       "38214     4.790453  ...           -0.143417          0.518606   \n",
       "15019     8.862357  ...            0.301586         -0.191963   \n",
       "\n",
       "       mfcc_kurtosis_12  spectral_centroid_mean  spectral_centroid_var  \\\n",
       "9930           1.378993              968.625640          275094.428012   \n",
       "26882         -0.026719             1561.206407          160435.404399   \n",
       "31607          0.542351             2059.340694          201868.693865   \n",
       "38214         -0.008186             2275.671978          419006.552103   \n",
       "15019          0.520941             2109.934419          476283.345930   \n",
       "\n",
       "       spectral_centroid_skew  spectral_centroid_kurtosis  Encoded_Genre  \\\n",
       "9930                 1.173542                    1.921552              2   \n",
       "26882                1.592194                    2.524688              6   \n",
       "31607                1.439725                    2.127228              7   \n",
       "38214                1.792972                    3.456450              9   \n",
       "15019                2.203267                    5.244489              3   \n",
       "\n",
       "            Genre  Train  \n",
       "9930      Hip-Hop  False  \n",
       "26882         Pop   True  \n",
       "31607  Psych-Rock   True  \n",
       "38214        Rock  False  \n",
       "15019  Indie-Rock   True  \n",
       "\n",
       "[5 rows x 57 columns]"
      ]
     },
     "execution_count": 11,
     "metadata": {},
     "output_type": "execute_result"
    }
   ],
   "source": [
    "#randomise the indexes so the order is not fed into the machine learning algorithms\n",
    "df = df.reindex(np.random.permutation(df.index))\n",
    "df.head()"
   ]
  },
  {
   "cell_type": "markdown",
   "metadata": {},
   "source": [
    "Verify that the size of the data set is unchanged after reordering"
   ]
  },
  {
   "cell_type": "code",
   "execution_count": 12,
   "metadata": {
    "collapsed": false
   },
   "outputs": [
    {
     "name": "stdout",
     "output_type": "stream",
     "text": [
      "Data set shape is :(40000, 57)\n"
     ]
    }
   ],
   "source": [
    "print(\"Data set shape is :\" + str(df.shape))"
   ]
  },
  {
   "cell_type": "raw",
   "metadata": {},
   "source": [
    "df['Song_group'] = df.index.values - df.index.values%10\n",
    "df.head()\n",
    "\n",
    "df['Song_group'].unique().shape\n",
    "#df.sort_values(by ='Song_group').unique\n",
    "np.arange(1,20)- np.arange(1,20)%10"
   ]
  },
  {
   "cell_type": "markdown",
   "metadata": {},
   "source": [
    "# 3. Machine Learning done on song segments"
   ]
  },
  {
   "cell_type": "markdown",
   "metadata": {},
   "source": [
    "\n",
    "### Load all the songs from fma_small and their corresponding features (estimated and standard deviation of their zero crossing rates and from the mel spectogram)\n",
    "1. X_train matrix contains the training data\n",
    "2. y_train vector contains the training labels\n",
    "3. X_test matrix contains the test data\n",
    "4. y_test vector contains the test labels"
   ]
  },
  {
   "cell_type": "code",
   "execution_count": 13,
   "metadata": {
    "collapsed": false
   },
   "outputs": [
    {
     "name": "stdout",
     "output_type": "stream",
     "text": [
      "X_train size= (32000, 54)\n",
      "X_test size= (8000, 54)\n",
      "y_train size= (32000,)\n",
      "y_test size= (8000,)\n"
     ]
    }
   ],
   "source": [
    "df_train = df[df['Train'].values == True]  \n",
    "df_test =df[df['Train'].values == False]  \n",
    "\n",
    "out_feature_col = [col for col in df.columns if col not in [\"Encoded_Genre\",\"Genre\",\"Train\"]]\n",
    "\n",
    "X_train = df_train.loc[:,out_feature_col]\n",
    "X_test = df_test.loc[:,out_feature_col]\n",
    "\n",
    "y_train = df_train.loc[:,'Encoded_Genre'].astype(int)\n",
    "y_test = df_test.loc[:,'Encoded_Genre'].astype(int)\n",
    "\n",
    "\n",
    "\n",
    "X_train_rows,X_train_cols = X_train.shape\n",
    "X_test_rows, X_test_cols = X_test.shape\n",
    "#y_train = np.reshape(y_train,(y_train.size,1))\n",
    "#y_test = np.reshape(y_test,(y_test.size,1))\n",
    "#y_test = np.reshape(y_test,(y_test.size,1))\n",
    "\n",
    "\n",
    "print('X_train size=',X_train.shape)\n",
    "print('X_test size=',X_test.shape)\n",
    "print('y_train size=',y_train.shape)\n",
    "print('y_test size=',y_test.shape)\n",
    "\n",
    "#scaling between 0 and 1\n",
    "min_max_scaler = preprocessing.MinMaxScaler()\n",
    "\n",
    "X_train = min_max_scaler.fit_transform(X_train)\n",
    "\n",
    "X_test = min_max_scaler.transform(X_test)\n"
   ]
  },
  {
   "cell_type": "markdown",
   "metadata": {},
   "source": [
    "# 4. Parameter Tuning "
   ]
  },
  {
   "cell_type": "markdown",
   "metadata": {},
   "source": [
    "###  Parameter Tuning for Random Forest "
   ]
  },
  {
   "cell_type": "code",
   "execution_count": 73,
   "metadata": {
    "collapsed": false
   },
   "outputs": [
    {
     "name": "stdout",
     "output_type": "stream",
     "text": [
      "Automatically created module for IPython interactive environment\n",
      "RandomizedSearchCV took 272.73 seconds for 20 candidates parameter settings.\n",
      "Model with rank: 1\n",
      "Mean validation score: 0.978 (std: 0.003)\n",
      "Parameters: {'criterion': 'entropy', 'bootstrap': False, 'min_samples_split': 9, 'min_samples_leaf': 9, 'max_features': 3, 'max_depth': None}\n",
      "\n",
      "Model with rank: 2\n",
      "Mean validation score: 0.976 (std: 0.004)\n",
      "Parameters: {'criterion': 'entropy', 'bootstrap': False, 'min_samples_split': 13, 'min_samples_leaf': 5, 'max_features': 2, 'max_depth': None}\n",
      "\n",
      "Model with rank: 3\n",
      "Mean validation score: 0.969 (std: 0.003)\n",
      "Parameters: {'criterion': 'gini', 'bootstrap': True, 'min_samples_split': 4, 'min_samples_leaf': 8, 'max_features': 10, 'max_depth': None}\n",
      "\n"
     ]
    }
   ],
   "source": [
    "print(__doc__)\n",
    "\n",
    "import numpy as np\n",
    "\n",
    "from time import time\n",
    "from scipy.stats import randint as sp_randint\n",
    "\n",
    "from sklearn.model_selection import GridSearchCV\n",
    "from sklearn.model_selection import RandomizedSearchCV\n",
    "from sklearn.datasets import load_digits\n",
    "from sklearn.ensemble import RandomForestClassifier\n",
    "from sklearn.ensemble import AdaBoostClassifier\n",
    "\n",
    "# build a classifier\n",
    "clf = RandomForestClassifier(n_estimators=20)\n",
    "\n",
    "\n",
    "# Utility function to report best scores\n",
    "def report(results, n_top=3):\n",
    "    for i in range(1, n_top + 1):\n",
    "        candidates = np.flatnonzero(results['rank_test_score'] == i)\n",
    "        for candidate in candidates:\n",
    "            print(\"Model with rank: {0}\".format(i))\n",
    "            print(\"Mean validation score: {0:.3f} (std: {1:.3f})\".format(\n",
    "                  results['mean_test_score'][candidate],\n",
    "                  results['std_test_score'][candidate]))\n",
    "            print(\"Parameters: {0}\".format(results['params'][candidate]))\n",
    "            print(\"\")\n",
    "\n",
    "\n",
    "# specify parameters and distributions to sample from\n",
    "param_dist = {\"max_depth\": [3, None],\n",
    "              \"max_features\": sp_randint(1, 11),\n",
    "              \"min_samples_split\": sp_randint(2, 16),\n",
    "              \"min_samples_leaf\": sp_randint(1, 11),\n",
    "              \"bootstrap\": [True, False],\n",
    "              \"criterion\": [\"gini\", \"entropy\"]}\n",
    "\n",
    "# run randomized search\n",
    "n_iter_search = 20\n",
    "random_search = RandomizedSearchCV(clf, param_distributions=param_dist,\n",
    "                                   n_iter=n_iter_search)\n",
    "\n",
    "start = time()\n",
    "random_search.fit(X_train,y_train)\n",
    "print(\"RandomizedSearchCV took %.2f seconds for %d candidates\"\n",
    "      \" parameter settings.\" % ((time() - start), n_iter_search))\n",
    "report(random_search.cv_results_)\n",
    "\n"
   ]
  },
  {
   "cell_type": "markdown",
   "metadata": {},
   "source": [
    "### Parameter Search for Ada Boost"
   ]
  },
  {
   "cell_type": "code",
   "execution_count": 94,
   "metadata": {
    "collapsed": false
   },
   "outputs": [
    {
     "name": "stdout",
     "output_type": "stream",
     "text": [
      "Automatically created module for IPython interactive environment\n"
     ]
    },
    {
     "data": {
      "image/png": "[encoded data removed]",
      "text/plain": [
       "<matplotlib.figure.Figure at 0x110b09278>"
      ]
     },
     "metadata": {},
     "output_type": "display_data"
    }
   ],
   "source": [
    "print(__doc__)\n",
    "\n",
    "# Ada boost showing error plot and parameter estimation\n",
    "\n",
    "\n",
    "from sklearn.externals.six.moves import zip\n",
    "\n",
    "import matplotlib.pyplot as plt\n",
    "\n",
    "from sklearn.datasets import make_gaussian_quantiles\n",
    "from sklearn.ensemble import AdaBoostClassifier\n",
    "from sklearn.metrics import accuracy_score\n",
    "from sklearn.tree import DecisionTreeClassifier\n",
    "\n",
    "\n",
    "#X, y = make_gaussian_quantiles(n_samples=13000, n_features=10,\n",
    "#                               n_classes=3, random_state=1)\n",
    "\n",
    "n_split = 3000\n",
    "\n",
    "#X_train, X_test = X[:n_split], X[n_split:]\n",
    "#y_train, y_test = y[:n_split], y[n_split:]\n",
    "\n",
    "bdt_real = AdaBoostClassifier(\n",
    "    DecisionTreeClassifier(max_depth=2),\n",
    "    n_estimators=600,\n",
    "    learning_rate=1)\n",
    "\n",
    "bdt_discrete = AdaBoostClassifier(\n",
    "    DecisionTreeClassifier(max_depth=2),\n",
    "    n_estimators=600,\n",
    "    learning_rate=1.5,\n",
    "    algorithm=\"SAMME\")\n",
    "\n",
    "bdt_real.fit(X_train, y_train)\n",
    "bdt_discrete.fit(X_train, y_train)\n",
    "\n",
    "real_test_errors = []\n",
    "discrete_test_errors = []\n",
    "\n",
    "for real_test_predict, discrete_train_predict in zip(\n",
    "        bdt_real.staged_predict(X_test), bdt_discrete.staged_predict(X_test)):\n",
    "    real_test_errors.append(\n",
    "        1. - accuracy_score(real_test_predict, y_test))\n",
    "    discrete_test_errors.append(\n",
    "        1. - accuracy_score(discrete_train_predict, y_test))\n",
    "\n",
    "n_trees_discrete = len(bdt_discrete)\n",
    "n_trees_real = len(bdt_real)\n",
    "\n",
    "# Boosting might terminate early, but the following arrays are always\n",
    "# n_estimators long. We crop them to the actual number of trees here:\n",
    "discrete_estimator_errors = bdt_discrete.estimator_errors_[:n_trees_discrete]\n",
    "real_estimator_errors = bdt_real.estimator_errors_[:n_trees_real]\n",
    "discrete_estimator_weights = bdt_discrete.estimator_weights_[:n_trees_discrete]\n",
    "\n",
    "plt.figure(figsize=(15, 5))\n",
    "\n",
    "plt.subplot(131)\n",
    "plt.plot(range(1, n_trees_discrete + 1),\n",
    "         discrete_test_errors, c='black', label='SAMME')\n",
    "plt.plot(range(1, n_trees_real + 1),\n",
    "         real_test_errors, c='black',\n",
    "         linestyle='dashed', label='SAMME.R')\n",
    "plt.legend()\n",
    "plt.ylim(0.18, 0.62)\n",
    "plt.ylabel('Test Error')\n",
    "plt.xlabel('Number of Trees')\n",
    "\n",
    "plt.subplot(132)\n",
    "plt.plot(range(1, n_trees_discrete + 1), discrete_estimator_errors,\n",
    "         \"b\", label='SAMME', alpha=.5)\n",
    "plt.plot(range(1, n_trees_real + 1), real_estimator_errors,\n",
    "         \"r\", label='SAMME.R', alpha=.5)\n",
    "plt.legend()\n",
    "plt.ylabel('Error')\n",
    "plt.xlabel('Number of Trees')\n",
    "plt.ylim((.2,\n",
    "         max(real_estimator_errors.max(),\n",
    "             discrete_estimator_errors.max()) * 1.2))\n",
    "plt.xlim((-20, len(bdt_discrete) + 20))\n",
    "\n",
    "plt.subplot(133)\n",
    "plt.plot(range(1, n_trees_discrete + 1), discrete_estimator_weights,\n",
    "         \"b\", label='SAMME')\n",
    "plt.legend()\n",
    "plt.ylabel('Weight')\n",
    "plt.xlabel('Number of Trees')\n",
    "plt.ylim((0, discrete_estimator_weights.max() * 1.2))\n",
    "plt.xlim((-20, n_trees_discrete + 20))\n",
    "\n",
    "# prevent overlapping y-axis labels\n",
    "plt.subplots_adjust(wspace=0.25)\n",
    "plt.show()"
   ]
  },
  {
   "cell_type": "code",
   "execution_count": 101,
   "metadata": {
    "collapsed": false
   },
   "outputs": [
    {
     "data": {
      "image/png": "[encoded data removed]",
      "text/plain": [
       "<matplotlib.figure.Figure at 0x113768080>"
      ]
     },
     "metadata": {},
     "output_type": "display_data"
    }
   ],
   "source": [
    "plt.plot(discrete_test_errors,label='SAMME',c='deepskyblue')\n",
    "plt.plot(real_test_errors,label = 'SAMME.R', c= 'orange')\n",
    "plt.ylabel('test error', fontweight ='bold')\n",
    "plt.xlabel('Number of Trees',fontweight = 'bold')\n",
    "plt.legend()\n",
    "plt.show()"
   ]
  },
  {
   "cell_type": "markdown",
   "metadata": {},
   "source": [
    "# Using Optimised parameters search in random forest"
   ]
  },
  {
   "cell_type": "code",
   "execution_count": 112,
   "metadata": {
    "collapsed": true
   },
   "outputs": [],
   "source": [
    "def generic_mlo():\n",
    "    classifier, song_train_accuracy,song_test_accuracy,fscore_train,fscore_test ,segment_train_accuracy, segment_test_accuracy, exec_time= [],[],[],[],[], [], [], []\n",
    "    \n",
    "\n",
    "    #classifier.append(sklearn.svm.LinearSVC()) \n",
    "    #classifier.append(sklearn.linear_model.RidgeClassifier())\n",
    "    #classifier.append(sklearn.ensemble.AdaBoostClassifier())\n",
    "    #classifier.append(sklearn.naive_bayes.MultinomialNB())\n",
    "    classifier.append(sklearn.ensemble.RandomForestClassifier(criterion='entropy', bootstrap=False, min_samples_split= 9, min_samples_leaf= 9, max_features= 30))\n",
    "\n",
    "    for i in range(len(classifier)):\n",
    "        c=classifier[i]\n",
    "        t_start = time.process_time()\n",
    "        c.fit(X_train, y_train)\n",
    "        train_pred = c.predict(X_train)\n",
    "        test_pred = c.predict(X_test)\n",
    "        test_predictor.append(test_pred)\n",
    "        segment_train_accuracy.append('{:5.2f}'.format(100*sklearn.metrics.accuracy_score(y_train, train_pred)))\n",
    "        segment_test_accuracy.append('{:5.2f}'.format(100*sklearn.metrics.accuracy_score(y_test, test_pred)))\n",
    "        fscore_train.append('{:5.2f}'.format(f1_score(y_train, train_pred, average='macro')))\n",
    "        fscore_test.append('{:5.2f}'.format(f1_score(y_test, test_pred, average='macro')))\n",
    "\n",
    "        exec_time.append('{:5.2f}'.format(time.process_time() - t_start))\n",
    "\n",
    "\n",
    "\n",
    "    print('Song Segment train accuracy:      {}'.format(' '.join(segment_train_accuracy)))\n",
    "    print('Song Segment test accuracy:       {}'.format(' '.join(segment_test_accuracy)))\n",
    "\n",
    "    print('Execution time:              {}'.format(' '.join(exec_time)))\n",
    "    \n",
    "    \n",
    "    #col_names = df.loc[:,out_feature_col].columns\n",
    "    #col_length = len(col_names)\n",
    "    #feature_importance_graph(c.feature_importances_, col_length, col_names)\n",
    "    #feature_importance_graph(c.feature_importances_,len(df.loc[:,out_feature_col].columns),df.loc[:,out_feature_col].columns)\n",
    "    #plt.show()\n",
    "    return test_pred"
   ]
  },
  {
   "cell_type": "code",
   "execution_count": 114,
   "metadata": {
    "collapsed": false
   },
   "outputs": [
    {
     "name": "stdout",
     "output_type": "stream",
     "text": [
      "Song Segment train accuracy:      99.97\n",
      "Song Segment test accuracy:       33.10\n",
      "Execution time:              84.23\n"
     ]
    }
   ],
   "source": [
    "test_pred_o = generic_mlo()"
   ]
  },
  {
   "cell_type": "markdown",
   "metadata": {},
   "source": [
    "# Unoptimized Algorithm Run"
   ]
  },
  {
   "cell_type": "code",
   "execution_count": 26,
   "metadata": {
    "collapsed": true
   },
   "outputs": [],
   "source": [
    "def feature_importance_graph(feat_imp, col_length,col_names):\n",
    "    imp_df = pd.DataFrame([feat_imp], columns = col_names)\n",
    " \n",
    "    fig, ax = plt.subplots(figsize = (20,10))\n",
    "    ax.bar(range(len(imp_df)), imp_df)\n",
    "    ax.set_xticks(np.arange(0.4, col_length+0.4, 1))\n",
    "    ax.set_xticklabels(imp_df.columns, rotation=90)\n",
    "\n",
    "    return ax"
   ]
  },
  {
   "cell_type": "code",
   "execution_count": 27,
   "metadata": {
    "collapsed": true
   },
   "outputs": [],
   "source": [
    "def feature_importance_graph(imp, col_length, col_names):\n",
    "    imp_df = pd.DataFrame([imp], columns =col_names)\n",
    "  \n",
    "\n",
    "    # graph\n",
    "    fig, ax = plt.subplots(figsize = (20,10))\n",
    "    ax.bar(range(len(imp)), imp)\n",
    "    ax.set_xticks(np.arange(0.5, col_length+0.5, 1))\n",
    "    ax.set_xticklabels(imp_df.columns, rotation=90)"
   ]
  },
  {
   "cell_type": "code",
   "execution_count": 63,
   "metadata": {
    "collapsed": true
   },
   "outputs": [],
   "source": [
    "#test_predictor=[]; # store the outcome of prediction\n",
    "                       # y_test\n",
    "    \n",
    "def generic_ml():\n",
    "    classifier, song_train_accuracy,song_test_accuracy,fscore_train,fscore_test ,segment_train_accuracy, segment_test_accuracy, exec_time= [],[],[],[],[], [], [], []\n",
    "    \n",
    "\n",
    "    classifier.append(sklearn.svm.LinearSVC()) \n",
    "    classifier.append(sklearn.linear_model.RidgeClassifier())\n",
    "    classifier.append(sklearn.ensemble.AdaBoostClassifier())\n",
    "    classifier.append(sklearn.naive_bayes.MultinomialNB())\n",
    "    classifier.append(sklearn.ensemble.RandomForestClassifier())\n",
    "\n",
    "    for i in range(len(classifier)):\n",
    "        c=classifier[i]\n",
    "        t_start = time.process_time()\n",
    "        c.fit(X_train, y_train)\n",
    "        train_pred = c.predict(X_train)\n",
    "        test_pred = c.predict(X_test)\n",
    "        test_predictor.append(test_pred)\n",
    "        segment_train_accuracy.append('{:5.2f}'.format(100*sklearn.metrics.accuracy_score(y_train, train_pred)))\n",
    "        segment_test_accuracy.append('{:5.2f}'.format(100*sklearn.metrics.accuracy_score(y_test, test_pred)))\n",
    "        fscore_train.append('{:5.2f}'.format(f1_score(y_train, train_pred, average='macro')))\n",
    "        fscore_test.append('{:5.2f}'.format(f1_score(y_test, test_pred, average='macro')))\n",
    "\n",
    "        exec_time.append('{:5.2f}'.format(time.process_time() - t_start))\n",
    "\n",
    "\n",
    "\n",
    "    print('Song Segment train accuracy:      {}'.format(' '.join(segment_train_accuracy)))\n",
    "    print('Song Segment test accuracy:       {}'.format(' '.join(segment_test_accuracy)))\n",
    "\n",
    "    print('Execution time:              {}'.format(' '.join(exec_time)))\n",
    "    \n",
    "    \n",
    "    col_names = df.loc[:,out_feature_col].columns\n",
    "    col_length = len(col_names)\n",
    "    feature_importance_graph(c.feature_importances_, col_length, col_names)\n",
    "    #feature_importance_graph(c.feature_importances_,len(df.loc[:,out_feature_col].columns),df.loc[:,out_feature_col].columns)\n",
    "    plt.show()\n",
    "    return c.feature_importances_,test_pred"
   ]
  },
  {
   "cell_type": "code",
   "execution_count": 64,
   "metadata": {
    "collapsed": false
   },
   "outputs": [
    {
     "name": "stdout",
     "output_type": "stream",
     "text": [
      "Song Segment train accuracy:      45.29 43.92 33.60 36.38 99.97\n",
      "Song Segment test accuracy:       36.84 36.68 32.95 33.88 31.79\n",
      "Execution time:              44.57  0.26 20.00  0.12  4.31\n"
     ]
    },
    {
     "data": {
      "image/png": "[encoded data removed]",
      "text/plain": [
       "<matplotlib.figure.Figure at 0x1133b54e0>"
      ]
     },
     "metadata": {},
     "output_type": "display_data"
    }
   ],
   "source": [
    "slim_generic,test_pred = generic_ml()"
   ]
  },
  {
   "cell_type": "code",
   "execution_count": 52,
   "metadata": {
    "collapsed": false
   },
   "outputs": [
    {
     "data": {
      "text/plain": [
       "array([ 0.00074427,  0.01176472,  0.04305582,  0.03355958,  0.03437136,\n",
       "        0.04738288,  0.03443426,  0.04015361,  0.04906566,  0.03962624,\n",
       "        0.03302114,  0.02949637,  0.02618172,  0.03385937,  0.02985249,\n",
       "        0.02377709,  0.02322544,  0.02524702,  0.02442904,  0.02802523,\n",
       "        0.02053574,  0.01907071,  0.01867348,  0.01622191,  0.01682716,\n",
       "        0.01895666,  0.01884943,  0.01934071,  0.01844986,  0.01840807,\n",
       "        0.01352643,  0.0123902 ,  0.01245261,  0.01056706,  0.010563  ,\n",
       "        0.00975416,  0.00845743,  0.00891311,  0.01443613,  0.01368416,\n",
       "        0.01174915,  0.01263956,  0.01089017,  0.01048418,  0.00814316,\n",
       "        0.00617951,  0.00657486,  0.00713162,  0.00631693,  0.0054472 ,\n",
       "        0.00076514,  0.00074033,  0.00074443,  0.00084245])"
      ]
     },
     "execution_count": 52,
     "metadata": {},
     "output_type": "execute_result"
    }
   ],
   "source": [
    "slim_generic"
   ]
  },
  {
   "cell_type": "markdown",
   "metadata": {},
   "source": [
    "In this project, it is used to clearly detect similar genres that are commonly misclassified together"
   ]
  },
  {
   "cell_type": "code",
   "execution_count": 66,
   "metadata": {
    "collapsed": false
   },
   "outputs": [
    {
     "data": {
      "text/plain": [
       "8000"
      ]
     },
     "execution_count": 66,
     "metadata": {},
     "output_type": "execute_result"
    }
   ],
   "source": [
    "confusion_matrix(y_test,test_pred).sum()"
   ]
  },
  {
   "cell_type": "code",
   "execution_count": 76,
   "metadata": {
    "collapsed": false
   },
   "outputs": [
    {
     "name": "stdout",
     "output_type": "stream",
     "text": [
      "(8000, 2)\n"
     ]
    },
    {
     "data": {
      "text/html": [
       "<div>\n",
       "<table border=\"1\" class=\"dataframe\">\n",
       "  <thead>\n",
       "    <tr style=\"text-align: right;\">\n",
       "      <th></th>\n",
       "      <th>y_test</th>\n",
       "      <th>test_pred</th>\n",
       "    </tr>\n",
       "  </thead>\n",
       "  <tbody>\n",
       "    <tr>\n",
       "      <th>0</th>\n",
       "      <td>2</td>\n",
       "      <td>4</td>\n",
       "    </tr>\n",
       "    <tr>\n",
       "      <th>1</th>\n",
       "      <td>9</td>\n",
       "      <td>8</td>\n",
       "    </tr>\n",
       "    <tr>\n",
       "      <th>2</th>\n",
       "      <td>2</td>\n",
       "      <td>8</td>\n",
       "    </tr>\n",
       "    <tr>\n",
       "      <th>3</th>\n",
       "      <td>9</td>\n",
       "      <td>6</td>\n",
       "    </tr>\n",
       "    <tr>\n",
       "      <th>4</th>\n",
       "      <td>0</td>\n",
       "      <td>1</td>\n",
       "    </tr>\n",
       "  </tbody>\n",
       "</table>\n",
       "</div>"
      ],
      "text/plain": [
       "   y_test  test_pred\n",
       "0       2          4\n",
       "1       9          8\n",
       "2       2          8\n",
       "3       9          6\n",
       "4       0          1"
      ]
     },
     "execution_count": 76,
     "metadata": {},
     "output_type": "execute_result"
    }
   ],
   "source": [
    "test_arr = np.concatenate((y_test.values.reshape((len(y_test),1)),np.reshape(test_pred,(len(test_pred),1))),axis=1)\n",
    "test_df= pd.DataFrame(test_arr,columns=['y_test','test_pred'])\n",
    "print(test_df.shape)\n",
    "test_df.head()"
   ]
  },
  {
   "cell_type": "code",
   "execution_count": 77,
   "metadata": {
    "collapsed": false
   },
   "outputs": [
    {
     "data": {
      "text/html": [
       "<div>\n",
       "<table border=\"1\" class=\"dataframe\">\n",
       "  <thead>\n",
       "    <tr style=\"text-align: right;\">\n",
       "      <th></th>\n",
       "      <th>y_test</th>\n",
       "      <th>test_pred</th>\n",
       "      <th>correct_output</th>\n",
       "    </tr>\n",
       "  </thead>\n",
       "  <tbody>\n",
       "    <tr>\n",
       "      <th>0</th>\n",
       "      <td>2</td>\n",
       "      <td>4</td>\n",
       "      <td>False</td>\n",
       "    </tr>\n",
       "    <tr>\n",
       "      <th>1</th>\n",
       "      <td>9</td>\n",
       "      <td>8</td>\n",
       "      <td>False</td>\n",
       "    </tr>\n",
       "    <tr>\n",
       "      <th>2</th>\n",
       "      <td>2</td>\n",
       "      <td>8</td>\n",
       "      <td>False</td>\n",
       "    </tr>\n",
       "    <tr>\n",
       "      <th>3</th>\n",
       "      <td>9</td>\n",
       "      <td>6</td>\n",
       "      <td>False</td>\n",
       "    </tr>\n",
       "    <tr>\n",
       "      <th>4</th>\n",
       "      <td>0</td>\n",
       "      <td>1</td>\n",
       "      <td>False</td>\n",
       "    </tr>\n",
       "  </tbody>\n",
       "</table>\n",
       "</div>"
      ],
      "text/plain": [
       "   y_test  test_pred correct_output\n",
       "0       2          4          False\n",
       "1       9          8          False\n",
       "2       2          8          False\n",
       "3       9          6          False\n",
       "4       0          1          False"
      ]
     },
     "execution_count": 77,
     "metadata": {},
     "output_type": "execute_result"
    }
   ],
   "source": [
    "test_df['correct_output'] = test_df['y_test'] ==test_df['test_pred']\n",
    "test_df.head()"
   ]
  },
  {
   "cell_type": "code",
   "execution_count": 82,
   "metadata": {
    "collapsed": false
   },
   "outputs": [
    {
     "data": {
      "text/plain": [
       "{0: 'Electronic',\n",
       " 1: 'Folk',\n",
       " 2: 'Hip-Hop',\n",
       " 3: 'Indie-Rock',\n",
       " 4: 'Jazz',\n",
       " 5: 'Old-Time',\n",
       " 6: 'Pop',\n",
       " 7: 'Psych-Rock',\n",
       " 8: 'Punk',\n",
       " 9: 'Rock'}"
      ]
     },
     "execution_count": 82,
     "metadata": {},
     "output_type": "execute_result"
    }
   ],
   "source": [
    "genre_pairs = {} \n",
    "for encoded_genre, genre in zip(original_encoded_order,original_genre_order):\n",
    "    genre_pairs[encoded_genre] = genre\n",
    "    \n",
    "genre_pairs"
   ]
  },
  {
   "cell_type": "code",
   "execution_count": 83,
   "metadata": {
    "collapsed": true
   },
   "outputs": [],
   "source": [
    "def checker(x):\n",
    "    if x[0]==x[1]:\n",
    "        return genre_pairs[x[0]]\n",
    "    else :\n",
    "        return 999999"
   ]
  },
  {
   "cell_type": "code",
   "execution_count": 84,
   "metadata": {
    "collapsed": false
   },
   "outputs": [
    {
     "data": {
      "text/html": [
       "<div>\n",
       "<table border=\"1\" class=\"dataframe\">\n",
       "  <thead>\n",
       "    <tr style=\"text-align: right;\">\n",
       "      <th></th>\n",
       "      <th>y_test</th>\n",
       "      <th>test_pred</th>\n",
       "      <th>correct_output</th>\n",
       "      <th>individual_correct_predict</th>\n",
       "    </tr>\n",
       "  </thead>\n",
       "  <tbody>\n",
       "    <tr>\n",
       "      <th>0</th>\n",
       "      <td>2</td>\n",
       "      <td>4</td>\n",
       "      <td>False</td>\n",
       "      <td>999999</td>\n",
       "    </tr>\n",
       "    <tr>\n",
       "      <th>1</th>\n",
       "      <td>9</td>\n",
       "      <td>8</td>\n",
       "      <td>False</td>\n",
       "      <td>999999</td>\n",
       "    </tr>\n",
       "    <tr>\n",
       "      <th>2</th>\n",
       "      <td>2</td>\n",
       "      <td>8</td>\n",
       "      <td>False</td>\n",
       "      <td>999999</td>\n",
       "    </tr>\n",
       "    <tr>\n",
       "      <th>3</th>\n",
       "      <td>9</td>\n",
       "      <td>6</td>\n",
       "      <td>False</td>\n",
       "      <td>999999</td>\n",
       "    </tr>\n",
       "    <tr>\n",
       "      <th>4</th>\n",
       "      <td>0</td>\n",
       "      <td>1</td>\n",
       "      <td>False</td>\n",
       "      <td>999999</td>\n",
       "    </tr>\n",
       "  </tbody>\n",
       "</table>\n",
       "</div>"
      ],
      "text/plain": [
       "   y_test  test_pred correct_output individual_correct_predict\n",
       "0       2          4          False                     999999\n",
       "1       9          8          False                     999999\n",
       "2       2          8          False                     999999\n",
       "3       9          6          False                     999999\n",
       "4       0          1          False                     999999"
      ]
     },
     "execution_count": 84,
     "metadata": {},
     "output_type": "execute_result"
    }
   ],
   "source": [
    "test_df['individual_correct_predict'] = test_df.apply(checker,axis =1)\n",
    "test_df.head()"
   ]
  },
  {
   "cell_type": "code",
   "execution_count": 85,
   "metadata": {
    "collapsed": false
   },
   "outputs": [
    {
     "data": {
      "text/plain": [
       "999999        5457\n",
       "Old-Time       710\n",
       "Hip-Hop        459\n",
       "Folk           317\n",
       "Electronic     313\n",
       "Jazz           170\n",
       "Punk           155\n",
       "Psych-Rock     152\n",
       "Indie-Rock      91\n",
       "Rock            90\n",
       "Pop             86\n",
       "Name: individual_correct_predict, dtype: int64"
      ]
     },
     "execution_count": 85,
     "metadata": {},
     "output_type": "execute_result"
    }
   ],
   "source": [
    "test_df['individual_correct_predict'].value_counts()"
   ]
  },
  {
   "cell_type": "code",
   "execution_count": 86,
   "metadata": {
    "collapsed": false
   },
   "outputs": [
    {
     "data": {
      "text/html": [
       "<div>\n",
       "<table border=\"1\" class=\"dataframe\">\n",
       "  <thead>\n",
       "    <tr style=\"text-align: right;\">\n",
       "      <th></th>\n",
       "      <th>Hip-Hop</th>\n",
       "      <th>Pop</th>\n",
       "      <th>Psych-Rock</th>\n",
       "      <th>Rock</th>\n",
       "      <th>Indie-Rock</th>\n",
       "      <th>Jazz</th>\n",
       "      <th>Electronic</th>\n",
       "      <th>Old-Time</th>\n",
       "      <th>Folk</th>\n",
       "      <th>Punk</th>\n",
       "    </tr>\n",
       "  </thead>\n",
       "  <tbody>\n",
       "    <tr>\n",
       "      <th>Hip-Hop</th>\n",
       "      <td>313</td>\n",
       "      <td>83</td>\n",
       "      <td>142</td>\n",
       "      <td>41</td>\n",
       "      <td>71</td>\n",
       "      <td>4</td>\n",
       "      <td>45</td>\n",
       "      <td>18</td>\n",
       "      <td>54</td>\n",
       "      <td>29</td>\n",
       "    </tr>\n",
       "    <tr>\n",
       "      <th>Pop</th>\n",
       "      <td>66</td>\n",
       "      <td>317</td>\n",
       "      <td>54</td>\n",
       "      <td>62</td>\n",
       "      <td>132</td>\n",
       "      <td>46</td>\n",
       "      <td>47</td>\n",
       "      <td>29</td>\n",
       "      <td>11</td>\n",
       "      <td>36</td>\n",
       "    </tr>\n",
       "    <tr>\n",
       "      <th>Psych-Rock</th>\n",
       "      <td>93</td>\n",
       "      <td>46</td>\n",
       "      <td>459</td>\n",
       "      <td>37</td>\n",
       "      <td>15</td>\n",
       "      <td>0</td>\n",
       "      <td>55</td>\n",
       "      <td>51</td>\n",
       "      <td>28</td>\n",
       "      <td>16</td>\n",
       "    </tr>\n",
       "    <tr>\n",
       "      <th>Rock</th>\n",
       "      <td>116</td>\n",
       "      <td>151</td>\n",
       "      <td>104</td>\n",
       "      <td>91</td>\n",
       "      <td>66</td>\n",
       "      <td>17</td>\n",
       "      <td>85</td>\n",
       "      <td>72</td>\n",
       "      <td>43</td>\n",
       "      <td>55</td>\n",
       "    </tr>\n",
       "    <tr>\n",
       "      <th>Indie-Rock</th>\n",
       "      <td>183</td>\n",
       "      <td>121</td>\n",
       "      <td>112</td>\n",
       "      <td>44</td>\n",
       "      <td>170</td>\n",
       "      <td>0</td>\n",
       "      <td>82</td>\n",
       "      <td>45</td>\n",
       "      <td>21</td>\n",
       "      <td>22</td>\n",
       "    </tr>\n",
       "    <tr>\n",
       "      <th>Jazz</th>\n",
       "      <td>3</td>\n",
       "      <td>37</td>\n",
       "      <td>2</td>\n",
       "      <td>4</td>\n",
       "      <td>33</td>\n",
       "      <td>710</td>\n",
       "      <td>8</td>\n",
       "      <td>2</td>\n",
       "      <td>0</td>\n",
       "      <td>1</td>\n",
       "    </tr>\n",
       "    <tr>\n",
       "      <th>Electronic</th>\n",
       "      <td>131</td>\n",
       "      <td>99</td>\n",
       "      <td>158</td>\n",
       "      <td>97</td>\n",
       "      <td>61</td>\n",
       "      <td>10</td>\n",
       "      <td>86</td>\n",
       "      <td>67</td>\n",
       "      <td>37</td>\n",
       "      <td>54</td>\n",
       "    </tr>\n",
       "    <tr>\n",
       "      <th>Old-Time</th>\n",
       "      <td>82</td>\n",
       "      <td>147</td>\n",
       "      <td>26</td>\n",
       "      <td>108</td>\n",
       "      <td>80</td>\n",
       "      <td>1</td>\n",
       "      <td>35</td>\n",
       "      <td>152</td>\n",
       "      <td>86</td>\n",
       "      <td>83</td>\n",
       "    </tr>\n",
       "    <tr>\n",
       "      <th>Folk</th>\n",
       "      <td>67</td>\n",
       "      <td>80</td>\n",
       "      <td>16</td>\n",
       "      <td>115</td>\n",
       "      <td>42</td>\n",
       "      <td>5</td>\n",
       "      <td>52</td>\n",
       "      <td>189</td>\n",
       "      <td>155</td>\n",
       "      <td>79</td>\n",
       "    </tr>\n",
       "    <tr>\n",
       "      <th>Punk</th>\n",
       "      <td>97</td>\n",
       "      <td>92</td>\n",
       "      <td>37</td>\n",
       "      <td>110</td>\n",
       "      <td>60</td>\n",
       "      <td>0</td>\n",
       "      <td>63</td>\n",
       "      <td>113</td>\n",
       "      <td>138</td>\n",
       "      <td>90</td>\n",
       "    </tr>\n",
       "  </tbody>\n",
       "</table>\n",
       "</div>"
      ],
      "text/plain": [
       "            Hip-Hop  Pop  Psych-Rock  Rock  Indie-Rock  Jazz  Electronic  \\\n",
       "Hip-Hop         313   83         142    41          71     4          45   \n",
       "Pop              66  317          54    62         132    46          47   \n",
       "Psych-Rock       93   46         459    37          15     0          55   \n",
       "Rock            116  151         104    91          66    17          85   \n",
       "Indie-Rock      183  121         112    44         170     0          82   \n",
       "Jazz              3   37           2     4          33   710           8   \n",
       "Electronic      131   99         158    97          61    10          86   \n",
       "Old-Time         82  147          26   108          80     1          35   \n",
       "Folk             67   80          16   115          42     5          52   \n",
       "Punk             97   92          37   110          60     0          63   \n",
       "\n",
       "            Old-Time  Folk  Punk  \n",
       "Hip-Hop           18    54    29  \n",
       "Pop               29    11    36  \n",
       "Psych-Rock        51    28    16  \n",
       "Rock              72    43    55  \n",
       "Indie-Rock        45    21    22  \n",
       "Jazz               2     0     1  \n",
       "Electronic        67    37    54  \n",
       "Old-Time         152    86    83  \n",
       "Folk             189   155    79  \n",
       "Punk             113   138    90  "
      ]
     },
     "execution_count": 86,
     "metadata": {},
     "output_type": "execute_result"
    }
   ],
   "source": [
    "confusion_matrix_df = pd.DataFrame(confusion_matrix(test_df['y_test'].values,test_df['test_pred'].values), index = original_genre_order, columns=original_genre_order)\n",
    "confusion_matrix_df\n"
   ]
  },
  {
   "cell_type": "code",
   "execution_count": 90,
   "metadata": {
    "collapsed": true
   },
   "outputs": [],
   "source": [
    "def feature_importance_graph(feat_imp, col_length,col_names):\n",
    "    importance = pd.DataFrame([feat_imp], columns = col_names)\n",
    " \n",
    "    fig, ax = plt.subplots(figsize = (20,10))\n",
    "    ax.bar(range(1,len(imp)+1), imp)\n",
    "    ax.set_xticks(np.arange(0.4, col_length+0.4, 1))\n",
    "    ax.set_xticklabels(importance.columns, rotation=90)\n",
    "\n",
    "    return ax"
   ]
  },
  {
   "cell_type": "markdown",
   "metadata": {},
   "source": [
    "out of bag error"
   ]
  },
  {
   "cell_type": "code",
   "execution_count": 37,
   "metadata": {
    "collapsed": false
   },
   "outputs": [
    {
     "name": "stderr",
     "output_type": "stream",
     "text": [
      "  0%|          | 0/19 [00:00<?, ?it/s]\n"
     ]
    },
    {
     "ename": "TypeError",
     "evalue": "__init__() got an unexpected keyword argument 'auto'",
     "output_type": "error",
     "traceback": [
      "\u001b[0;31m---------------------------------------------------------------------------\u001b[0m",
      "\u001b[0;31mTypeError\u001b[0m                                 Traceback (most recent call last)",
      "\u001b[0;32m<ipython-input-37-d56eff0c90ea>\u001b[0m in \u001b[0;36m<module>\u001b[0;34m()\u001b[0m\n\u001b[1;32m      4\u001b[0m \u001b[0moob_step_size\u001b[0m \u001b[0;34m=\u001b[0m \u001b[0;36m10\u001b[0m\u001b[0;34m\u001b[0m\u001b[0m\n\u001b[1;32m      5\u001b[0m \u001b[0;32mfor\u001b[0m \u001b[0mi\u001b[0m \u001b[0;32min\u001b[0m \u001b[0mtqdm\u001b[0m\u001b[0;34m(\u001b[0m\u001b[0mrange\u001b[0m\u001b[0;34m(\u001b[0m\u001b[0mstart\u001b[0m\u001b[0;34m,\u001b[0m\u001b[0mstop\u001b[0m\u001b[0;34m,\u001b[0m \u001b[0moob_step_size\u001b[0m\u001b[0;34m)\u001b[0m\u001b[0;34m)\u001b[0m\u001b[0;34m:\u001b[0m\u001b[0;34m\u001b[0m\u001b[0m\n\u001b[0;32m----> 6\u001b[0;31m     \u001b[0mrf\u001b[0m\u001b[0;34m=\u001b[0m \u001b[0mRandomForestClassifier\u001b[0m\u001b[0;34m(\u001b[0m\u001b[0mn_estimators\u001b[0m \u001b[0;34m=\u001b[0m \u001b[0mi\u001b[0m\u001b[0;34m,\u001b[0m \u001b[0mmax_features\u001b[0m\u001b[0;34m=\u001b[0m\u001b[0;36m0.33\u001b[0m\u001b[0;34m,\u001b[0m \u001b[0mmax_depth\u001b[0m\u001b[0;34m=\u001b[0m\u001b[0;36m10\u001b[0m\u001b[0;34m,\u001b[0m \u001b[0mn_jobs\u001b[0m\u001b[0;34m=\u001b[0m\u001b[0;34m-\u001b[0m\u001b[0;36m1\u001b[0m\u001b[0;34m,\u001b[0m \u001b[0moob_score\u001b[0m\u001b[0;34m=\u001b[0m\u001b[0;32mTrue\u001b[0m\u001b[0;34m,\u001b[0m\u001b[0mauto\u001b[0m\u001b[0;34m=\u001b[0m\u001b[0;32mTrue\u001b[0m\u001b[0;34m)\u001b[0m\u001b[0;34m\u001b[0m\u001b[0m\n\u001b[0m\u001b[1;32m      7\u001b[0m     \u001b[0mrf\u001b[0m\u001b[0;34m.\u001b[0m\u001b[0mfit\u001b[0m\u001b[0;34m(\u001b[0m\u001b[0mX_train\u001b[0m\u001b[0;34m,\u001b[0m \u001b[0my_train\u001b[0m\u001b[0;34m)\u001b[0m\u001b[0;34m\u001b[0m\u001b[0m\n\u001b[1;32m      8\u001b[0m     \u001b[0mrf_train_pred\u001b[0m \u001b[0;34m=\u001b[0m \u001b[0mrf\u001b[0m\u001b[0;34m.\u001b[0m\u001b[0mpredict\u001b[0m\u001b[0;34m(\u001b[0m\u001b[0mX_train\u001b[0m\u001b[0;34m)\u001b[0m\u001b[0;34m\u001b[0m\u001b[0m\n",
      "\u001b[0;31mTypeError\u001b[0m: __init__() got an unexpected keyword argument 'auto'"
     ]
    }
   ],
   "source": [
    "oob = []\n",
    "start = 10\n",
    "stop = 200\n",
    "oob_step_size = 10\n",
    "for i in tqdm(range(start,stop, oob_step_size)):\n",
    "    rf= RandomForestClassifier(n_estimators = i, max_features=0.33, max_depth=10, n_jobs=-1, oob_score=True)\n",
    "    rf.fit(X_train, y_train)\n",
    "    rf_train_pred = rf.predict(X_train)\n",
    "    rf_test_pred = rf.predict(X_test)\n",
    "    oob.append(1-rf.oob_score_)\n",
    "\n"
   ]
  },
  {
   "cell_type": "code",
   "execution_count": 38,
   "metadata": {
    "collapsed": false
   },
   "outputs": [
    {
     "ename": "NameError",
     "evalue": "name 'end' is not defined",
     "output_type": "error",
     "traceback": [
      "\u001b[0;31m---------------------------------------------------------------------------\u001b[0m",
      "\u001b[0;31mNameError\u001b[0m                                 Traceback (most recent call last)",
      "\u001b[0;32m<ipython-input-38-dee155bd7814>\u001b[0m in \u001b[0;36m<module>\u001b[0;34m()\u001b[0m\n\u001b[0;32m----> 1\u001b[0;31m \u001b[0mplt\u001b[0m\u001b[0;34m.\u001b[0m\u001b[0mplot\u001b[0m\u001b[0;34m(\u001b[0m\u001b[0mrange\u001b[0m\u001b[0;34m(\u001b[0m\u001b[0mstart\u001b[0m\u001b[0;34m,\u001b[0m \u001b[0mend\u001b[0m\u001b[0;34m,\u001b[0m \u001b[0moob_step_size\u001b[0m\u001b[0;34m)\u001b[0m\u001b[0;34m,\u001b[0m \u001b[0moob\u001b[0m\u001b[0;34m,\u001b[0m \u001b[0;34m'-'\u001b[0m\u001b[0;34m)\u001b[0m\u001b[0;34m\u001b[0m\u001b[0m\n\u001b[0m\u001b[1;32m      2\u001b[0m \u001b[0mplt\u001b[0m\u001b[0;34m.\u001b[0m\u001b[0mxlabel\u001b[0m\u001b[0;34m(\u001b[0m\u001b[0;34m'Number of estimators'\u001b[0m\u001b[0;34m)\u001b[0m\u001b[0;34m\u001b[0m\u001b[0m\n\u001b[1;32m      3\u001b[0m \u001b[0mplt\u001b[0m\u001b[0;34m.\u001b[0m\u001b[0mylabel\u001b[0m\u001b[0;34m(\u001b[0m\u001b[0;34m'Out of bags score'\u001b[0m\u001b[0;34m)\u001b[0m\u001b[0;34m\u001b[0m\u001b[0m\n\u001b[1;32m      4\u001b[0m \u001b[0mplt\u001b[0m\u001b[0;34m.\u001b[0m\u001b[0mshow\u001b[0m\u001b[0;34m(\u001b[0m\u001b[0;34m)\u001b[0m\u001b[0;34m\u001b[0m\u001b[0m\n",
      "\u001b[0;31mNameError\u001b[0m: name 'end' is not defined"
     ]
    }
   ],
   "source": [
    "plt.plot(range(start, stop, oob_step_size), oob, '-')\n",
    "plt.xlabel('Number of estimators')\n",
    "plt.ylabel('Out of bags score')\n",
    "plt.show()"
   ]
  }
 ],
 "metadata": {
  "anaconda-cloud": {},
  "kernelspec": {
   "display_name": "Python 3",
   "language": "python",
   "name": "python3"
  },
  "language_info": {
   "codemirror_mode": {
    "name": "ipython",
    "version": 3
   },
   "file_extension": ".py",
   "mimetype": "text/x-python",
   "name": "python",
   "nbconvert_exporter": "python",
   "pygments_lexer": "ipython3",
   "version": "3.6.0"
  }
 },
 "nbformat": 4,
 "nbformat_minor": 2
}
