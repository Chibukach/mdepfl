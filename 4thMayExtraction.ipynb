{
 "cells": [
  {
   "cell_type": "code",
   "execution_count": 1,
   "metadata": {
    "collapsed": false
   },
   "outputs": [],
   "source": [
    "%matplotlib inline\n",
    "import numpy as np\n",
    "import matplotlib.pyplot as plt\n",
    "import pandas as pd\n",
    "import os,IPython, librosa, mir_eval\n",
    "from sys import platform\n",
    "from os import listdir\n",
    "from os.path import isfile, join,isdir\n",
    "from IPython.display import Audio\n",
    "from librosa.display import waveplot,specshow\n",
    "from librosa.onset import onset_strength, onset_detect\n",
    "from librosa.feature import melspectrogram, mfcc\n",
    "from librosa import load\n",
    "\n",
    "from collections import defaultdict,OrderedDict\n",
    "import sklearn\n",
    "from sklearn.preprocessing import StandardScaler,LabelEncoder\n",
    "import scipy\n",
    "from pandas import HDFStore,DataFrame\n",
    "\n"
   ]
  },
  {
   "cell_type": "markdown",
   "metadata": {},
   "source": [
    "# Song Extraction from fma_small\n",
    "\n",
    "1. Find the song folder path relative to the current computer\n",
    "2. Retrieve the different genre classifications\n",
    "3. Identify each song via its full path to song using index, to guarantee one-to-one mapping \n",
    "4. Sort in alphabetical order"
   ]
  },
  {
   "cell_type": "code",
   "execution_count": 2,
   "metadata": {
    "collapsed": false
   },
   "outputs": [
    {
     "name": "stdout",
     "output_type": "stream",
     "text": [
      "/home/chib/Documents/fma_small\n",
      "/home/chib/Documents/fma_small/fma_small.json\n"
     ]
    }
   ],
   "source": [
    "#retrieving path to the fma_small directory and the corresponding meta data\n",
    "HOME_DIR = IPython.utils.path.get_home_dir()\n",
    "\n",
    "temp = join(HOME_DIR, 'Documents')\n",
    "path_to_small_fma = join(temp, 'fma_small')\n",
    "json_file = join(path_to_small_fma,'fma_small.json')\n",
    "#locate meta_dta\n",
    "print(path_to_small_fma)\n",
    "df = pd.read_json(json_file)\n",
    "print(json_file)\n"
   ]
  },
  {
   "cell_type": "code",
   "execution_count": 3,
   "metadata": {
    "collapsed": false
   },
   "outputs": [
    {
     "data": {
      "text/html": [
       "<div>\n",
       "<table border=\"1\" class=\"dataframe\">\n",
       "  <thead>\n",
       "    <tr style=\"text-align: right;\">\n",
       "      <th></th>\n",
       "      <th>top_genre</th>\n",
       "      <th>full_path_to_song</th>\n",
       "    </tr>\n",
       "  </thead>\n",
       "  <tbody>\n",
       "    <tr>\n",
       "      <th>100538</th>\n",
       "      <td>Electronic</td>\n",
       "      <td>/home/chib/Documents/fma_small/Electronic/1005...</td>\n",
       "    </tr>\n",
       "    <tr>\n",
       "      <th>43206</th>\n",
       "      <td>Electronic</td>\n",
       "      <td>/home/chib/Documents/fma_small/Electronic/4320...</td>\n",
       "    </tr>\n",
       "    <tr>\n",
       "      <th>43199</th>\n",
       "      <td>Electronic</td>\n",
       "      <td>/home/chib/Documents/fma_small/Electronic/4319...</td>\n",
       "    </tr>\n",
       "    <tr>\n",
       "      <th>43153</th>\n",
       "      <td>Electronic</td>\n",
       "      <td>/home/chib/Documents/fma_small/Electronic/4315...</td>\n",
       "    </tr>\n",
       "    <tr>\n",
       "      <th>43124</th>\n",
       "      <td>Electronic</td>\n",
       "      <td>/home/chib/Documents/fma_small/Electronic/4312...</td>\n",
       "    </tr>\n",
       "  </tbody>\n",
       "</table>\n",
       "</div>"
      ],
      "text/plain": [
       "         top_genre                                  full_path_to_song\n",
       "100538  Electronic  /home/chib/Documents/fma_small/Electronic/1005...\n",
       "43206   Electronic  /home/chib/Documents/fma_small/Electronic/4320...\n",
       "43199   Electronic  /home/chib/Documents/fma_small/Electronic/4319...\n",
       "43153   Electronic  /home/chib/Documents/fma_small/Electronic/4315...\n",
       "43124   Electronic  /home/chib/Documents/fma_small/Electronic/4312..."
      ]
     },
     "execution_count": 3,
     "metadata": {},
     "output_type": "execute_result"
    }
   ],
   "source": [
    "#only choose top genre as the label\n",
    "df = df.loc[:,['top_genre']]\n",
    "\n",
    "#ensure that the genre name matches file name in fma_small, \n",
    "#i.e Oldtime / Historian conflict issue\n",
    "df['top_genre']=df['top_genre'].apply(lambda y: y.split(os.sep)[0].strip())\n",
    "#locate each individual song by its full path\n",
    "df['temp'] = path_to_small_fma\n",
    "str_index = [\"%.2d\" % x for x in df.index]\n",
    "complete_genre_list = df['top_genre'].unique()\n",
    "\n",
    "#create full path to file and store as a single array\n",
    "df['full_path_to_song'] = df.temp.map(str)+ \"/\"+ df['top_genre'].values+ \"/\"+ str_index+ \".mp3\"\n",
    "del df['temp']\n",
    "#keep songs according to alphabetical order of songs \n",
    "df.sort_values(by = 'top_genre', inplace = True)\n",
    "df.head()\n"
   ]
  },
  {
   "cell_type": "code",
   "execution_count": 4,
   "metadata": {
    "collapsed": false
   },
   "outputs": [],
   "source": [
    "complete_genre_list_df = pd.DataFrame(complete_genre_list, columns = ['Genre'])"
   ]
  },
  {
   "cell_type": "code",
   "execution_count": 5,
   "metadata": {
    "collapsed": false
   },
   "outputs": [
    {
     "name": "stdout",
     "output_type": "stream",
     "text": [
      "Electronic    400\n",
      "Folk          400\n",
      "Hip-Hop       400\n",
      "Indie-Rock    400\n",
      "Jazz          400\n",
      "Old-Time      400\n",
      "Pop           400\n",
      "Psych-Rock    400\n",
      "Punk          400\n",
      "Rock          400\n",
      "Name: top_genre, dtype: int64\n"
     ]
    }
   ],
   "source": [
    "#retrieve number of songs per genre\n",
    "genre_and_count = df['top_genre'].value_counts().sort_index()\n",
    "all_songs_path = df['full_path_to_song'].values  \n",
    "print(genre_and_count)"
   ]
  },
  {
   "cell_type": "code",
   "execution_count": 6,
   "metadata": {
    "collapsed": false
   },
   "outputs": [
    {
     "name": "stdout",
     "output_type": "stream",
     "text": [
      "The number of genres is: 10\n"
     ]
    },
    {
     "data": {
      "text/plain": [
       "{'Electronic': 400,\n",
       " 'Folk': 400,\n",
       " 'Hip-Hop': 400,\n",
       " 'Indie-Rock': 400,\n",
       " 'Jazz': 400,\n",
       " 'Old-Time': 400,\n",
       " 'Pop': 400,\n",
       " 'Psych-Rock': 400,\n",
       " 'Punk': 400,\n",
       " 'Rock': 400}"
      ]
     },
     "execution_count": 6,
     "metadata": {},
     "output_type": "execute_result"
    }
   ],
   "source": [
    "song_counts = [] \n",
    "ordered_genres = [] \n",
    "full_song_df = OrderedDict()\n",
    "genre_to_song_dict = {}\n",
    "\n",
    "\n",
    "#retrieve number of songs per genre with the order preserved in two lists\n",
    "#ordered_genres\n",
    "#song_counts\n",
    "for i,genre in enumerate(genre_and_count.index):\n",
    "    ordered_genres.append(genre)\n",
    "    temp = df['top_genre'].value_counts()[genre]\n",
    "    song_counts.append(temp)\n",
    "\n",
    "genre_to_song_zipped = zip(ordered_genres,song_counts)\n",
    "\n",
    "num_of_genre = np.shape(genre_and_count)[0]\n",
    "print(\"The number of genres is:\", num_of_genre)\n",
    "\n",
    "#dictionary with each song count and its corresponding genre\n",
    "for genre,song_count in genre_to_song_zipped:\n",
    "    genre_to_song_dict[genre] = song_count\n",
    "\n",
    "genre_to_song_dict"
   ]
  },
  {
   "cell_type": "code",
   "execution_count": 7,
   "metadata": {
    "collapsed": false
   },
   "outputs": [
    {
     "name": "stdout",
     "output_type": "stream",
     "text": [
      "{'Electronic_paths:[array_of_all_electronic_paths]}\n"
     ]
    }
   ],
   "source": [
    "num_of_genre = np.shape(genre_and_count)[0]\n",
    "all_songs_path = df['full_path_to_song'].values\n",
    "\n",
    "paths_dict = OrderedDict()\n",
    "\n",
    "#prepend zero so we have a start point for all_songs_path \n",
    "#and avoid messing with indices\n",
    "\n",
    "#use the cumulative sum to find none uniform ranges\n",
    "song_counts.insert(0,0)\n",
    "cumulative_sum = np.cumsum(song_counts,dtype=int)\n",
    "\n",
    "#creates a dictionary of the genres and its corresponding path\n",
    "for i,genre in enumerate(ordered_genres):\n",
    "    str1=genre\n",
    "    str2 = \"_paths\"\n",
    "    genre_paths = \"\".join((str1,str2))\n",
    "    paths_dict[genre_paths] = all_songs_path[cumulative_sum[i]:cumulative_sum[i+1]]\n",
    "\n",
    "#paths_dict\n",
    "#{genre_path_name: genre_paths}\n",
    "print(\"{'Electronic_paths:[array_of_all_electronic_paths]}\")"
   ]
  },
  {
   "cell_type": "code",
   "execution_count": 8,
   "metadata": {
    "collapsed": false
   },
   "outputs": [
    {
     "name": "stdout",
     "output_type": "stream",
     "text": [
      "{'Electronic_signals:[array_of_all_electronic_paths]}\n",
      "CPU times: user 2.81 s, sys: 1.09 s, total: 3.9 s\n",
      "Wall time: 6.8 s\n"
     ]
    }
   ],
   "source": [
    "%%time\n",
    "num_of_songs = 3\n",
    "sampling_rate = 44100\n",
    "\n",
    "genre_signals_dict = OrderedDict()\n",
    "#creates a dictionary of the signals in a genre and their raw file\n",
    "for genre_path_name,genre_paths in paths_dict.items():\n",
    "    str1=genre_path_name[:-5]\n",
    "    str2 = \"signals\"\n",
    "    genre_signals = \"\".join((str1,str2))       \n",
    "    try:\n",
    "        first_three = genre_paths[:num_of_songs]\n",
    "        genre_signals_dict[genre_signals] = [\n",
    "        load(p,sr=None)[0] for p in first_three]\n",
    "    except IOError as exc:\n",
    "        print(\"Unable to locate folder\")\n",
    "        #raise IOError(\"%s: %s\" % (genre_paths, exc.strerror))\n",
    "        \n",
    "#genre_signals_dict\n",
    "#{genre_signals_name:genre_signals_paths}\n",
    "print(\"{'Electronic_signals:[array_of_all_electronic_paths]}\")"
   ]
  },
  {
   "cell_type": "code",
   "execution_count": 9,
   "metadata": {
    "collapsed": false
   },
   "outputs": [
    {
     "data": {
      "image/png": "[encoded data removed]",
      "text/plain": [
       "<matplotlib.figure.Figure at 0x7f495b3b6ac8>"
      ]
     },
     "metadata": {},
     "output_type": "display_data"
    },
    {
     "data": {
      "image/png": "[encoded data removed]",
      "text/plain": [
       "<matplotlib.figure.Figure at 0x7f495b3b6f98>"
      ]
     },
     "metadata": {},
     "output_type": "display_data"
    },
    {
     "data": {
      "image/png": "[encoded data removed]",
      "text/plain": [
       "<matplotlib.figure.Figure at 0x7f495b33be48>"
      ]
     },
     "metadata": {},
     "output_type": "display_data"
    },
    {
     "data": {
      "image/png": "[encoded data removed]",
      "text/plain": [
       "<matplotlib.figure.Figure at 0x7f495b4d8d30>"
      ]
     },
     "metadata": {},
     "output_type": "display_data"
    },
    {
     "data": {
      "image/png": "[encoded data removed]",
      "text/plain": [
       "<matplotlib.figure.Figure at 0x7f495baf6518>"
      ]
     },
     "metadata": {},
     "output_type": "display_data"
    },
    {
     "data": {
      "image/png": "[encoded data removed]",
      "text/plain": [
       "<matplotlib.figure.Figure at 0x7f495b62b128>"
      ]
     },
     "metadata": {},
     "output_type": "display_data"
    },
    {
     "data": {
      "image/png": "[encoded data removed]",
      "text/plain": [
       "<matplotlib.figure.Figure at 0x7f4955e81a90>"
      ]
     },
     "metadata": {},
     "output_type": "display_data"
    },
    {
     "data": {
      "image/png": "[encoded data removed]",
      "text/plain": [
       "<matplotlib.figure.Figure at 0x7f4956750cc0>"
      ]
     },
     "metadata": {},
     "output_type": "display_data"
    },
    {
     "data": {
      "image/png": "[encoded data removed]",
      "text/plain": [
       "<matplotlib.figure.Figure at 0x7f495617a470>"
      ]
     },
     "metadata": {},
     "output_type": "display_data"
    },
    {
     "data": {
      "image/png": "[encoded data removed]",
      "text/plain": [
       "<matplotlib.figure.Figure at 0x7f4955fe3588>"
      ]
     },
     "metadata": {},
     "output_type": "display_data"
    },
    {
     "data": {
      "text/plain": [
       "<matplotlib.figure.Figure at 0x7f49565d4fd0>"
      ]
     },
     "metadata": {},
     "output_type": "display_data"
    }
   ],
   "source": [
    "#plot the time series for each song according to the genres\n",
    "\n",
    "#sig_lengths = []\n",
    "for genre_signal_name,genre_signals in genre_signals_dict.items(): \n",
    "    for i, sig_amp in enumerate(genre_signals):\n",
    "        plt.subplot(1, num_of_songs, i+1)\n",
    "#        sig_lengths.append(len(sig_amp))\n",
    "        waveplot(sig_amp)\n",
    "        plt.ylim(-1, 1)\n",
    "        plt.title(genre_signal_name)\n",
    "    plt.figure()\n",
    "        \n",
    "    "
   ]
  },
  {
   "cell_type": "markdown",
   "metadata": {},
   "source": [
    "## Testing the complete feature extraction on a single song"
   ]
  },
  {
   "cell_type": "code",
   "execution_count": 10,
   "metadata": {
    "collapsed": false
   },
   "outputs": [
    {
     "data": {
      "text/plain": [
       "'/home/chib/Documents/ChibuSemesterProject/fma-baselines'"
      ]
     },
     "execution_count": 10,
     "metadata": {},
     "output_type": "execute_result"
    }
   ],
   "source": [
    "pwd"
   ]
  },
  {
   "cell_type": "code",
   "execution_count": 37,
   "metadata": {
    "collapsed": false
   },
   "outputs": [
    {
     "data": {
      "text/plain": [
       "(660984,)"
      ]
     },
     "execution_count": 37,
     "metadata": {},
     "output_type": "execute_result"
    }
   ],
   "source": [
    "#home laptop\n",
    "if \"Ubuntu\" in os.uname().version:\n",
    "    song, sampling_rate = librosa.load(\"/home/chib/Documents/fma_small/Electronic/99289.mp3\")\n",
    "\n",
    "#lab macbook\n",
    "elif \"Darwin\" in os.uname().version:\n",
    "    song, sampling_rate = librosa.load(\"/Users/chibmac/Documents/fma_small/Electronic/99289.mp3\")\n",
    "\n",
    "else: \n",
    "    song, sampling_rate = librosa.load(librosa.util.example_audio_file())\n",
    "    \n",
    "song.shape\n"
   ]
  },
  {
   "cell_type": "code",
   "execution_count": 38,
   "metadata": {
    "collapsed": true
   },
   "outputs": [],
   "source": [
    "num_of_mfcc = 12"
   ]
  },
  {
   "cell_type": "code",
   "execution_count": 39,
   "metadata": {
    "collapsed": false
   },
   "outputs": [
    {
     "data": {
      "text/plain": [
       "1290"
      ]
     },
     "execution_count": 39,
     "metadata": {},
     "output_type": "execute_result"
    }
   ],
   "source": [
    "num_of_frames = int(np.floor((len(song)*4)/2048))\n",
    "num_of_frames"
   ]
  },
  {
   "cell_type": "code",
   "execution_count": 40,
   "metadata": {
    "collapsed": false
   },
   "outputs": [
    {
     "name": "stdout",
     "output_type": "stream",
     "text": [
      "Number of segments: 6\n"
     ]
    },
    {
     "data": {
      "text/plain": [
       "[1, 2, 3, 5, 6]"
      ]
     },
     "execution_count": 40,
     "metadata": {},
     "output_type": "execute_result"
    }
   ],
   "source": [
    "#should be a factor of the number of frames\n",
    "factor_list = []\n",
    "for i in range(1,10):\n",
    "    if (num_of_frames%i == 0) :\n",
    "        factor_list.append(i)\n",
    "num_of_segments = factor_list[-1]\n",
    "print(\"Number of segments: %d\"% num_of_segments)\n",
    "factor_list"
   ]
  },
  {
   "cell_type": "code",
   "execution_count": 41,
   "metadata": {
    "collapsed": false
   },
   "outputs": [
    {
     "data": {
      "text/plain": [
       "215"
      ]
     },
     "execution_count": 41,
     "metadata": {},
     "output_type": "execute_result"
    }
   ],
   "source": [
    "num_of_frames_per_segment = int(num_of_frames/num_of_segments)\n",
    "num_of_frames_per_segment"
   ]
  },
  {
   "cell_type": "code",
   "execution_count": 42,
   "metadata": {
    "collapsed": false
   },
   "outputs": [
    {
     "data": {
      "text/plain": [
       "(6, 110080)"
      ]
     },
     "execution_count": 42,
     "metadata": {},
     "output_type": "execute_result"
    }
   ],
   "source": [
    "#2048 is default for n_fft\n",
    "#4 as hopsize is 2048/4\n",
    "song_f = song[:int((num_of_frames*2048/4) -1)] \n",
    "song_t = song[:int(num_of_frames*2048/4)] \n",
    "ind_song_into_segment = int(len(song_t)/num_of_segments)\n",
    "song_into_segments = np.reshape(song_t,(num_of_segments,ind_song_into_segment))\n",
    "song_into_segments.shape\n"
   ]
  },
  {
   "cell_type": "markdown",
   "metadata": {},
   "source": [
    "# Time Domain Features\n",
    "- \n",
    "## Zero Crossing Rate (ZCR) \n",
    "- \n",
    "## Onsets \n"
   ]
  },
  {
   "cell_type": "code",
   "execution_count": 43,
   "metadata": {
    "collapsed": false
   },
   "outputs": [
    {
     "name": "stdout",
     "output_type": "stream",
     "text": [
      "Segment number 1: has 8059 zero crossings\n",
      "Segment number 2: has 9050 zero crossings\n",
      "Segment number 3: has 10114 zero crossings\n",
      "Segment number 4: has 11070 zero crossings\n",
      "Segment number 5: has 12419 zero crossings\n",
      "Segment number 6: has 12633 zero crossings\n"
     ]
    },
    {
     "data": {
      "text/plain": [
       "(6, 1)"
      ]
     },
     "execution_count": 43,
     "metadata": {},
     "output_type": "execute_result"
    }
   ],
   "source": [
    "zcr_per_segment = np.sum(librosa.core.zero_crossings(song_into_segments),axis = 1) #zero crossings returns boolean values\n",
    "zcr_per_segment = np.reshape(zcr_per_segment,(zcr_per_segment.shape[0],1))\n",
    "for i in range (len(factor_list)+1):\n",
    "    print(\"Segment number %d: has %d zero crossings\"%(i+1,zcr_per_segment[i]))\n",
    "\n",
    "zcr_per_segment.shape"
   ]
  },
  {
   "cell_type": "code",
   "execution_count": 44,
   "metadata": {
    "collapsed": false
   },
   "outputs": [
    {
     "data": {
      "text/plain": [
       "array([  1536,   5120,   6144,   7680,  11264,  14336,  17920,  20480,\n",
       "        23552,  27136,  30208,  33280,  36864,  39936,  43520,  46080,\n",
       "        49664,  52736,  56320,  58880,  62464,  65536,  71680,  75776,\n",
       "        78336,  84992,  91136,  97280, 100864, 103936, 110592, 113664,\n",
       "       120320, 122880, 126976, 130560, 136704, 142848, 148992, 152576,\n",
       "       155648, 158720, 162304, 165376, 168448, 174080, 177664, 182784,\n",
       "       187904, 192512, 194048, 198656, 204288, 206848, 210432, 213504,\n",
       "       217088, 219648, 226304, 229376, 232448, 236032, 239104, 245248,\n",
       "       248832, 251904, 254976, 258048, 264704, 268288, 274944, 283648,\n",
       "       296960, 303104, 309760, 316416, 319488, 322560, 328704, 335360,\n",
       "       341504, 348160, 354816, 360960, 367616, 370688, 373760, 380416,\n",
       "       386560, 393216, 399360, 406016, 412160, 418816, 422400, 424448,\n",
       "       425472, 431616, 435200, 438272, 444416, 451072, 457216, 463872,\n",
       "       470528, 474112, 476672, 482816, 489472, 495616, 502272, 508928,\n",
       "       515072, 521728, 525312, 527872, 534528, 540672, 547328, 553472,\n",
       "       560128, 566272, 572928, 576512, 579072, 585728, 592384, 598528,\n",
       "       604672, 611328, 617984, 624640, 627712, 630784, 636928, 643584,\n",
       "       649728, 656384])"
      ]
     },
     "execution_count": 44,
     "metadata": {},
     "output_type": "execute_result"
    }
   ],
   "source": [
    "onset_frames = librosa.onset.onset_detect(y=song_t, sr=sampling_rate, units='samples')\n",
    "onset_length = len(onset_frames)\n",
    "onset_frames"
   ]
  },
  {
   "cell_type": "code",
   "execution_count": 45,
   "metadata": {
    "collapsed": false
   },
   "outputs": [
    {
     "data": {
      "text/plain": [
       "array([     0, 110080, 220160, 330240, 440320, 550400, 660480])"
      ]
     },
     "execution_count": 45,
     "metadata": {},
     "output_type": "execute_result"
    }
   ],
   "source": [
    "song_splitter = np.arange(0,len(song_t)+1, ind_song_into_segment,dtype=int)\n",
    "split_length = len(song_splitter)\n",
    "song_splitter"
   ]
  },
  {
   "cell_type": "code",
   "execution_count": 46,
   "metadata": {
    "collapsed": false
   },
   "outputs": [
    {
     "data": {
      "text/plain": [
       "[0, 30, 58, 79, 100, 119, 138]"
      ]
     },
     "execution_count": 46,
     "metadata": {},
     "output_type": "execute_result"
    }
   ],
   "source": [
    "total_onsets = [0]\n",
    "for i in range(1,len(song_splitter)):\n",
    "    total_onsets.append(np.sum(onset_frames<song_splitter[i]))\n",
    "\n",
    "total_onsets"
   ]
  },
  {
   "cell_type": "code",
   "execution_count": 47,
   "metadata": {
    "collapsed": false
   },
   "outputs": [
    {
     "name": "stdout",
     "output_type": "stream",
     "text": [
      "Segment number 1: has 30 onsets\n",
      "Segment number 2: has 28 onsets\n",
      "Segment number 3: has 21 onsets\n",
      "Segment number 4: has 21 onsets\n",
      "Segment number 5: has 19 onsets\n",
      "Segment number 6: has 19 onsets\n"
     ]
    },
    {
     "data": {
      "text/plain": [
       "(6, 1)"
      ]
     },
     "execution_count": 47,
     "metadata": {},
     "output_type": "execute_result"
    }
   ],
   "source": [
    "total_onset_diff = np.diff(total_onsets)\n",
    "onsets_per_segment = np.reshape(total_onset_diff,(len(total_onset_diff),1))\n",
    "for i in range (len(factor_list)+1):\n",
    "    print(\"Segment number %d: has %d onsets\"%(i+1,onsets_per_segment[i]))\n",
    "\n",
    "onsets_per_segment.shape"
   ]
  },
  {
   "cell_type": "markdown",
   "metadata": {},
   "source": [
    "# Frequency Domain Features\n",
    "- \n",
    "## MFCC \n",
    "- \n",
    "## Spectral Centroid\n",
    "\n"
   ]
  },
  {
   "cell_type": "code",
   "execution_count": 48,
   "metadata": {
    "collapsed": false
   },
   "outputs": [
    {
     "name": "stdout",
     "output_type": "stream",
     "text": [
      "The number of frames is 1290\n",
      "Number of Segments: 6, Number of frames per segment: 215, Number of mfccs:12\n"
     ]
    },
    {
     "data": {
      "text/plain": [
       "(6, 215, 12)"
      ]
     },
     "execution_count": 48,
     "metadata": {},
     "output_type": "execute_result"
    }
   ],
   "source": [
    "mfcc_per_segment = librosa.feature.mfcc(y=song_f, sr=sampling_rate,\n",
    "                                     n_mfcc=num_of_mfcc).T\n",
    "print(\"The number of frames is %d\" % mfcc_per_segment.shape[0])\n",
    "mfcc_per_segment = np.reshape(mfcc_per_segment,(num_of_segments,num_of_frames_per_segment,num_of_mfcc))\n",
    "mps_seg,mps_fps,mps_mfccs = mfcc_per_segment.shape\n",
    "\n",
    "print(\"Number of Segments: %d, Number of frames per segment: %d, Number of mfccs:%d\" %(mps_seg,mps_fps, mps_mfccs))  \n",
    "\n",
    "mfcc_per_segment.shape\n"
   ]
  },
  {
   "cell_type": "code",
   "execution_count": 49,
   "metadata": {
    "collapsed": false
   },
   "outputs": [],
   "source": [
    "mean_mfcc_per_segment = np.mean(mfcc_per_segment,axis=1)\n",
    "mean_mfcc_per_segment = np.reshape(mean_mfcc_per_segment,(mean_mfcc_per_segment.shape[0],1,mean_mfcc_per_segment.shape[1]))\n",
    "var_mfcc_per_segment = np.var(mfcc_per_segment,axis =1)\n",
    "var_mfcc_per_segment = np.reshape(var_mfcc_per_segment,(var_mfcc_per_segment.shape[0],1,var_mfcc_per_segment.shape[1]))\n",
    "skew_mfcc_per_segment = scipy.stats.skew(mfcc_per_segment,axis =1)\n",
    "skew_mfcc_per_segment = np.reshape(skew_mfcc_per_segment,(skew_mfcc_per_segment.shape[0],1,skew_mfcc_per_segment.shape[1]))\n",
    "kurtosis_mfcc_per_segment = scipy.stats.kurtosis(mfcc_per_segment,axis =1)\n",
    "kurtosis_mfcc_per_segment = np.reshape(kurtosis_mfcc_per_segment,(kurtosis_mfcc_per_segment.shape[0],1,kurtosis_mfcc_per_segment.shape[1]))\n"
   ]
  },
  {
   "cell_type": "code",
   "execution_count": 50,
   "metadata": {
    "collapsed": false
   },
   "outputs": [
    {
     "data": {
      "text/plain": [
       "(6, 4, 12)"
      ]
     },
     "execution_count": 50,
     "metadata": {},
     "output_type": "execute_result"
    }
   ],
   "source": [
    "mfcc_features_per_segment = np.concatenate((mean_mfcc_per_segment,var_mfcc_per_segment,skew_mfcc_per_segment,kurtosis_mfcc_per_segment),axis = 1)\n",
    "\n",
    "mfcc_features_per_segment.shape"
   ]
  },
  {
   "cell_type": "code",
   "execution_count": 51,
   "metadata": {
    "collapsed": false
   },
   "outputs": [
    {
     "name": "stdout",
     "output_type": "stream",
     "text": [
      "(1290, 1)\n"
     ]
    },
    {
     "data": {
      "text/plain": [
       "(6, 215)"
      ]
     },
     "execution_count": 51,
     "metadata": {},
     "output_type": "execute_result"
    }
   ],
   "source": [
    "spectral_centroid = librosa.feature.spectral_centroid(y=song_f, sr=sampling_rate).T\n",
    "print(spectral_centroid.shape)\n",
    "spc_per_segment = np.reshape(spectral_centroid, (num_of_segments,num_of_frames_per_segment))\n",
    "spc_per_segment.shape\n",
    "#mean_spc_per_segment.shape"
   ]
  },
  {
   "cell_type": "code",
   "execution_count": 52,
   "metadata": {
    "collapsed": false
   },
   "outputs": [
    {
     "data": {
      "text/plain": [
       "(6, 1)"
      ]
     },
     "execution_count": 52,
     "metadata": {},
     "output_type": "execute_result"
    }
   ],
   "source": [
    "mean_spc_per_segment = np.mean(spc_per_segment,axis=1)\n",
    "mean_spc_per_segment = np.reshape(mean_spc_per_segment,(len(mean_spc_per_segment),1))\n",
    "var_spc_per_segment = np.var(spc_per_segment,axis =1)\n",
    "var_spc_per_segment = np.reshape(var_spc_per_segment,(len(var_spc_per_segment),1))\n",
    "skew_spc_per_segment = scipy.stats.skew(spc_per_segment,axis =1)\n",
    "skew_spc_per_segment = np.reshape(skew_spc_per_segment,(len(skew_spc_per_segment),1))\n",
    "kurtosis_spc_per_segment = scipy.stats.kurtosis(spc_per_segment,axis =1)\n",
    "kurtosis_spc_per_segment = np.reshape(kurtosis_spc_per_segment,(len(kurtosis_spc_per_segment),1))\n",
    "\n",
    "mean_spc_per_segment.shape"
   ]
  },
  {
   "cell_type": "code",
   "execution_count": 53,
   "metadata": {
    "collapsed": false
   },
   "outputs": [
    {
     "data": {
      "text/plain": [
       "(6, 4)"
      ]
     },
     "execution_count": 53,
     "metadata": {},
     "output_type": "execute_result"
    }
   ],
   "source": [
    "spc_features_per_segment = np.concatenate((mean_spc_per_segment,var_spc_per_segment,skew_spc_per_segment,kurtosis_spc_per_segment),axis = 1)\n",
    "\n",
    "spc_features_per_segment.shape"
   ]
  },
  {
   "cell_type": "code",
   "execution_count": 54,
   "metadata": {
    "collapsed": false
   },
   "outputs": [
    {
     "data": {
      "text/plain": [
       "(6, 4, 12)"
      ]
     },
     "execution_count": 54,
     "metadata": {},
     "output_type": "execute_result"
    }
   ],
   "source": [
    "mfcc_features_per_segment.shape"
   ]
  },
  {
   "cell_type": "code",
   "execution_count": 55,
   "metadata": {
    "collapsed": false
   },
   "outputs": [
    {
     "data": {
      "text/plain": [
       "(6, 4)"
      ]
     },
     "execution_count": 55,
     "metadata": {},
     "output_type": "execute_result"
    }
   ],
   "source": [
    "spc_features_per_segment.shape"
   ]
  },
  {
   "cell_type": "code",
   "execution_count": 56,
   "metadata": {
    "collapsed": false
   },
   "outputs": [
    {
     "data": {
      "text/plain": [
       "(6, 1)"
      ]
     },
     "execution_count": 56,
     "metadata": {},
     "output_type": "execute_result"
    }
   ],
   "source": [
    "zcr_per_segment.shape"
   ]
  },
  {
   "cell_type": "code",
   "execution_count": 57,
   "metadata": {
    "collapsed": false
   },
   "outputs": [
    {
     "data": {
      "text/plain": [
       "(6, 1)"
      ]
     },
     "execution_count": 57,
     "metadata": {},
     "output_type": "execute_result"
    }
   ],
   "source": [
    "onsets_per_segment.shape"
   ]
  },
  {
   "cell_type": "code",
   "execution_count": null,
   "metadata": {
    "collapsed": true
   },
   "outputs": [],
   "source": []
  },
  {
   "cell_type": "code",
   "execution_count": null,
   "metadata": {
    "collapsed": true
   },
   "outputs": [],
   "source": []
  },
  {
   "cell_type": "code",
   "execution_count": null,
   "metadata": {
    "collapsed": true
   },
   "outputs": [],
   "source": [
    "features_per_section = np.concatenate((mfcc_features_per_segment, spc_features_per_segment, zcr_per_segment, onsets_per_segment),axis =3)\n",
    "\n",
    "fps_song,fps_sect,fps_hops,fps_per_hop= features_per_section.shape\n",
    "\n",
    "features_per_section.shape"
   ]
  },
  {
   "cell_type": "code",
   "execution_count": null,
   "metadata": {
    "collapsed": true
   },
   "outputs": [],
   "source": []
  },
  {
   "cell_type": "code",
   "execution_count": null,
   "metadata": {
    "collapsed": false
   },
   "outputs": [],
   "source": [
    "print(\"MFCC Per section: \",mfcc_per_section.shape,\"ZCR per section:\",zcr_per_section.shape,\n",
    "      \"SPC Per section: \",spectral_centroid_per_section.shape,\"Onsets Per section: \",onsets_per_section.shape,\n",
    "      \"AC global Per section: \",ac_global.shape\n",
    "     )"
   ]
  },
  {
   "cell_type": "code",
   "execution_count": null,
   "metadata": {
    "collapsed": false
   },
   "outputs": [],
   "source": [
    "features_per_section = np.concatenate((mfcc_per_section,zcr_per_section,onsets_per_section,spectral_centroid_per_section,ac_global),axis =3)\n",
    "\n",
    "fps_song,fps_sect,fps_hops,fps_per_hop= features_per_section.shape\n",
    "\n",
    "features_per_section.shape"
   ]
  },
  {
   "cell_type": "code",
   "execution_count": null,
   "metadata": {
    "collapsed": false
   },
   "outputs": [],
   "source": [
    "features_per_section = np.reshape(features_per_section,(1,1,fps_hops*fps_per_hop))\n",
    "features_per_section.shape"
   ]
  },
  {
   "cell_type": "code",
   "execution_count": null,
   "metadata": {
    "collapsed": false
   },
   "outputs": [],
   "source": [
    "def complete_extract_features(song,num_of_sections,num_of_hops_per_section,num_of_mfcc,num_of_features,genre):\n",
    "    total_num_of_features = (num_of_features-1 + num_of_mfcc)* num_of_hops_per_section\n",
    "    song_length = len(song)\n",
    "    tot_num_of_hops = num_of_hops_per_section*num_of_sections\n",
    "    hop_width = int(np.floor(song_length/tot_num_of_hops))\n",
    "    section_width = hop_width*num_of_hops_per_section\n",
    "    song = song[:(hop_width*tot_num_of_hops)]\n",
    "    section_per_song = np.reshape(song,(1,num_of_sections,section_width))\n",
    "    sps_song,sps_sect,sps_width =  section_per_song.shape\n",
    "    \n",
    "    #print(section_per_song.shape)\n",
    "    try:\n",
    "        for i in range(sps_sect):\n",
    "            #print(i)\n",
    "            complete_n_fft = hop_width+1\n",
    "            one_song_section =section_per_song[0,i,:]\n",
    "            one_song_section = np.reshape(one_song_section,(1,1,one_song_section.shape[0]))\n",
    "            #print(one_song_section.shape)\n",
    "            hop_per_section = np.reshape(one_song_section,(1,1,num_of_hops_per_section,hop_width))\n",
    "            #print(hop_per_section.shape)\n",
    "            one_song_section_squeezed = np.squeeze(one_song_section)\n",
    "            #print(one_song_section_squeezed.shape)\n",
    "\n",
    "            mfcc_per_section = librosa.feature.mfcc(y=one_song_section_squeezed, sr=sampling_rate,\n",
    "                                        n_fft = complete_n_fft, n_mfcc=num_of_mfcc,hop_length = hop_width).T\n",
    "            mfcc_per_section = np.reshape(mfcc_per_section,(1,1,mfcc_per_section.shape[0],mfcc_per_section.shape[1]))\n",
    "            #print(\"mfcc\",mfcc_per_section.shape)\n",
    "            zcr_per_section = np.sum(librosa.core.zero_crossings(np.squeeze(hop_per_section)),axis =1 )\n",
    "            #print(zcr_per_section.shape)\n",
    "            zcr_per_section= np.reshape(zcr_per_section,(1,1,len(zcr_per_section),1))\n",
    "            #print(\"zcr\",zcr_per_section.shape)\n",
    "            onset_frames = librosa.onset.onset_detect(y=one_song_section_squeezed, sr=sampling_rate,units = 'samples')\n",
    "            song_splitter = np.arange(0,len(one_song_section_squeezed)+1, hop_width,dtype=int)\n",
    "            total_onsets = [0]\n",
    "            for j in range(1,len(song_splitter)):\n",
    "                total_onsets.append(np.sum(onset_frames<song_splitter[j]))\n",
    "            onsets_per_section = np.reshape(np.diff(total_onsets),(1,1,len(np.diff(total_onsets)),1))\n",
    "            #print(\"onset\",onsets_per_section.shape)\n",
    "            spectral_centroid_per_section = librosa.feature.spectral_centroid(y=one_song_section_squeezed, sr=sampling_rate, hop_length= hop_width,n_fft=complete_n_fft).T\n",
    "            spectral_centroid_per_section = np.reshape(spectral_centroid_per_section,(one_song_section.shape[0],one_song_section.shape[1],spectral_centroid_per_section.shape[0],spectral_centroid_per_section.shape[1]))\n",
    "            #print(\"spectral centroid\",spectral_centroid_per_section.shape)\n",
    "            #oenv = librosa.onset.onset_strength(y=one_song_section_squeezed, sr=sampling_rate, hop_length=hop_width, n_fft = (2*hop_width))\n",
    "            #tempogram = librosa.feature.tempogram(onset_envelope=oenv, sr=sampling_rate,\n",
    "            #                              hop_length=hop_width)\n",
    "            #ac_global_temp = librosa.autocorrelate(oenv, max_size=tempogram.shape[0])\n",
    "            #ac_global = np.reshape(ac_global_temp, (one_song_section.shape[0],one_song_section.shape[1],len(ac_global_temp),1))\n",
    "            #print(\"ac glob\",ac_global.shape)\n",
    "            feats_per_section = np.concatenate((mfcc_per_section,zcr_per_section,onsets_per_section,spectral_centroid_per_section),axis =3)\n",
    "            fps_song,fps_sect,fps_hops,fps_per_hop= feats_per_section.shape\n",
    "            #print(\"fps\",feats_per_section.shape)\n",
    "            feats_per_section = np.reshape(feats_per_section,(1,1,fps_hops*fps_per_hop))\n",
    "            feats_per_section= np.squeeze(feats_per_section,axis = 0)\n",
    "            #print()\n",
    "\n",
    "    except:\n",
    "        feats_per_section = np.zeros((1,total_num_of_features))\n",
    "        print(\"There was an error whilst computing the features\")\n",
    "    return feats_per_section\n",
    "    "
   ]
  },
  {
   "cell_type": "code",
   "execution_count": null,
   "metadata": {
    "collapsed": false
   },
   "outputs": [],
   "source": [
    "test_out = complete_extract_features(song,num_of_sections,num_of_hops_per_section,num_of_mfcc,num_of_features,10)\n",
    "\n",
    "test_out.shape\n"
   ]
  },
  {
   "cell_type": "markdown",
   "metadata": {},
   "source": [
    "## Generalisation of feature extraction for all the songs in the fma_small dataset\n"
   ]
  },
  {
   "cell_type": "code",
   "execution_count": null,
   "metadata": {
    "collapsed": false
   },
   "outputs": [],
   "source": [
    "song_num = 0\n",
    "tot_num_of_songs = cumulative_sum[-1]\n",
    "indiv_song_path= []\n",
    "for genre_path_name,genre_paths in paths_dict.items(): \n",
    "    song_num=song_num+1\n",
    "    indiv_song_path.append(genre_paths)\n",
    "  \n",
    "\n",
    "indiv_song_path_list = np.array(indiv_song_path).reshape(tot_num_of_songs,)"
   ]
  },
  {
   "cell_type": "code",
   "execution_count": null,
   "metadata": {
    "collapsed": false
   },
   "outputs": [],
   "source": [
    "indiv_song_path_list\n"
   ]
  },
  {
   "cell_type": "code",
   "execution_count": null,
   "metadata": {
    "collapsed": false
   },
   "outputs": [],
   "source": [
    "genres = []\n",
    "for song_num in range(len(indiv_song_path_list)):\n",
    "    temp = indiv_song_path_list[song_num].split(os.sep)[-2]\n",
    "    genres.append(temp)\n",
    "        "
   ]
  },
  {
   "cell_type": "code",
   "execution_count": null,
   "metadata": {
    "collapsed": false
   },
   "outputs": [],
   "source": [
    "le = LabelEncoder()\n",
    "encoded_genres= le.fit(genres)\n",
    "encoded_genres\n",
    "\n",
    "#Label Encoding Mapping\n",
    "encoder_df= pd.DataFrame(data= {'Genre':genres,\n",
    "                   'Encoded_Genre':le.transform(genres)})\n",
    "encoder_df.head()"
   ]
  },
  {
   "cell_type": "code",
   "execution_count": null,
   "metadata": {
    "collapsed": false
   },
   "outputs": [],
   "source": [
    "print(\"I AM HERE\")"
   ]
  },
  {
   "cell_type": "code",
   "execution_count": null,
   "metadata": {
    "collapsed": false
   },
   "outputs": [],
   "source": [
    "%%time\n",
    "\n",
    "tot_num_of_songs = cumulative_sum[-1]\n",
    "final_d = np.zeros((tot_num_of_songs,test_out.shape[1]))\n",
    "print(final_d.shape)\n",
    "\n",
    "for song_num in range(len(indiv_song_path_list)):\n",
    "    try:\n",
    "        indiv_song_path = indiv_song_path_list[song_num]\n",
    "        song_signal = librosa.load(indiv_song_path,sr=None)[0]\n",
    "        curr_song_genre = encoder_df['Encoded_Genre'][song_num]\n",
    "        final_d[song_num]= complete_extract_features(song_signal,num_of_sections,num_of_hops_per_section,num_of_mfcc,num_of_features,curr_song_genre)\n",
    "                \n",
    "        print(complete_extract_features(song_signal,num_of_sections,num_of_hops_per_section,num_of_mfcc,num_of_features,curr_song_genre).shape)\n",
    "        \n",
    "        \n",
    "        \n",
    "    except IOError as exc:\n",
    "        print(\"Unable to locate folder\")\n",
    "    \n",
    "\n",
    "\n",
    "            "
   ]
  },
  {
   "cell_type": "code",
   "execution_count": null,
   "metadata": {
    "collapsed": false
   },
   "outputs": [],
   "source": [
    "final_d.shape"
   ]
  },
  {
   "cell_type": "code",
   "execution_count": null,
   "metadata": {
    "collapsed": false
   },
   "outputs": [],
   "source": [
    "print(\"I AM HERE\")"
   ]
  },
  {
   "cell_type": "code",
   "execution_count": null,
   "metadata": {
    "collapsed": false
   },
   "outputs": [],
   "source": [
    "\n",
    "complete_df = pd.DataFrame(data=final_d.T,index =range(final_d.shape[1]))\n",
    "complete_df = complete_df.T\n",
    "\n",
    "complete_df.head()"
   ]
  },
  {
   "cell_type": "code",
   "execution_count": null,
   "metadata": {
    "collapsed": false
   },
   "outputs": [],
   "source": [
    "complete_df.shape"
   ]
  },
  {
   "cell_type": "code",
   "execution_count": null,
   "metadata": {
    "collapsed": false
   },
   "outputs": [],
   "source": [
    "encoder_df.head()"
   ]
  },
  {
   "cell_type": "code",
   "execution_count": null,
   "metadata": {
    "collapsed": false
   },
   "outputs": [],
   "source": [
    "encoder_df.shape"
   ]
  },
  {
   "cell_type": "code",
   "execution_count": null,
   "metadata": {
    "collapsed": false
   },
   "outputs": [],
   "source": [
    "final_df = pd.concat([complete_df,encoder_df],axis =1)\n",
    "final_df.head()\n"
   ]
  },
  {
   "cell_type": "code",
   "execution_count": null,
   "metadata": {
    "collapsed": false
   },
   "outputs": [],
   "source": [
    "final_df.shape"
   ]
  },
  {
   "cell_type": "code",
   "execution_count": null,
   "metadata": {
    "collapsed": true
   },
   "outputs": [],
   "source": [
    "final_df.to_csv(\"FullSongFeatureExtraction28.csv\",sep=',')"
   ]
  },
  {
   "cell_type": "code",
   "execution_count": null,
   "metadata": {
    "collapsed": true
   },
   "outputs": [],
   "source": []
  }
 ],
 "metadata": {
  "kernelspec": {
   "display_name": "Python 3",
   "language": "python",
   "name": "python3"
  },
  "language_info": {
   "codemirror_mode": {
    "name": "ipython",
    "version": 3
   },
   "file_extension": ".py",
   "mimetype": "text/x-python",
   "name": "python",
   "nbconvert_exporter": "python",
   "pygments_lexer": "ipython3",
   "version": "3.6.0"
  }
 },
 "nbformat": 4,
 "nbformat_minor": 2
}
