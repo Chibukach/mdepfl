{
 "cells": [
  {
   "cell_type": "raw",
   "metadata": {
    "collapsed": false
   },
   "source": [
    "''' genre and number of elements in genre'''\n",
    "genre_count = []\n",
    "for genre in genre_list:\n",
    "    genre_count.append(df['top_genre'].value_counts()[genre])\n",
    "    \n",
    "genre_count\n",
    "zipped = zip(genre_sorted_list,genre_count)\n",
    "for genre,num_of_songs in zipped:\n",
    "    print(genre,num_of_songs)\n",
    "    for i in range(num_of_songs):\n",
    "        song =  join(full_path_to_genre, file[df.index[i]])'''\n",
    "        "
   ]
  },
  {
   "cell_type": "raw",
   "metadata": {
    "collapsed": true
   },
   "source": [
    "#4d feature vector of signal\n",
    "\n",
    "#Perceptually, \n",
    "#it has a robust connection with the impression of \"brightness\" of a sound.\n",
    "def extract_features(signal):\n",
    "    from librosa.feature import (zero_crossing_rate,spectral_centroid,\n",
    "    spectral_bandwidth, spectral_constrast)\n",
    "    return [\n",
    "        zero_crossing_rate(signal)[0],\n",
    "        spectral_centroid(signal)[0, 0],\n",
    "        spectral_bandwidth(signal)[0, 0],\n",
    "        spectral_contrast(signal)[0, 0]\n",
    "    ]\n",
    "    \n",
    "    num_of_songs = 3# stesigs - signal to each song in genre_signal\n",
    "for genre_signal,stesigs in genre_signals_dict.items(): \n",
    "    demo_features = np.array([extract_features(x) for x in stesigs])\n",
    "\n",
    "plt.hist(demo_features[:,0], color='b', range=(0, 0.1))\n",
    "plt.xlabel('Zero Crossing Rate')\n",
    "plt.ylabel('Count')  \n",
    "\n",
    "plt.hist(demo_features[:,1], color='b', range=(0, 4000), bins=40, alpha=0.5)\n",
    "plt.legend(('demo',))\n",
    "plt.xlabel('Spectral Centroid (Frequency bin)')\n",
    "plt.ylabel('Count')\n",
    "\n",
    "#feature scaling\n",
    "feature_table = np.vstack((demo_features))\n",
    "print (feature_table.shape)"
   ]
  },
  {
   "cell_type": "raw",
   "metadata": {},
   "source": [
    "scaler = sklearn.preprocessing.MinMaxScaler(feature_range=(-1, 1))\n",
    "training_features = scaler.fit_transform(feature_table)\n",
    "print (training_features.min(axis=0))\n",
    "print (training_features.max(axis=0))\n",
    "\n",
    "plt.scatter(training_features[:10,0], training_features[:10,1], c='b')\n",
    "plt.scatter(training_features[10:,0], training_features[10:,1], c='r')\n",
    "plt.xlabel('Zero Crossing Rate')\n",
    "plt.ylabel('Spectral Centroid')\n",
    "\n",
    "sig_fft = scipy.fft(sig_amp)\n",
    "sig_fft_mag = np.absolute(sig_fft)\n",
    "\n",
    "\n",
    "plt.plot(sig_fft_mag[:len(sig_fft)]) # magnitude spectrum"
   ]
  },
  {
   "cell_type": "raw",
   "metadata": {},
   "source": [
    "\n",
    "\n",
    "onset_envelope = onset_strength(y,sr)\n",
    "\n",
    "onsets = onset_detect(onset_envelope=onset_envelope)\n",
    "\n",
    "plt.subplot(2,1,1)\n",
    "plt.plot(onset_envelope[:2000],label = \"Onset strengh\")\n",
    "plt.vlines(onsets, 0,onset_envelope.max(), color = 'r', alpha = 0.25)\n",
    "plt.xticks([]),plt.yticks([])\n",
    "plt.legend(frameon = True)\n",
    "\n",
    "tempo,beats = librosa.beat.beat_track(onset_envelope=onset_envelope)"
   ]
  },
  {
   "cell_type": "raw",
   "metadata": {
    "collapsed": true
   },
   "source": [
    "#remember- mir_eval is a separate module\n",
    "beat_times = librosa.frames_to_time(beats)\n",
    "y_click = mir_eval.sonify.clicks(beat_times, sr,length = len(y))\n",
    "\n",
    "Audio(data= y + y_click, rate = sr)"
   ]
  },
  {
   "cell_type": "raw",
   "metadata": {},
   "source": [
    "df.loc['Genre',:]=df.loc['Genre',:].apply(lambda x: x[0]).values\n"
   ]
  }
 ],
 "metadata": {
  "kernelspec": {
   "display_name": "Python 3",
   "language": "python",
   "name": "python3"
  },
  "language_info": {
   "codemirror_mode": {
    "name": "ipython",
    "version": 3
   },
   "file_extension": ".py",
   "mimetype": "text/x-python",
   "name": "python",
   "nbconvert_exporter": "python",
   "pygments_lexer": "ipython3",
   "version": "3.6.0"
  }
 },
 "nbformat": 4,
 "nbformat_minor": 2
}
