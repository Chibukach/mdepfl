{
 "cells": [
  {
   "cell_type": "code",
   "execution_count": 1,
   "metadata": {
    "collapsed": false
   },
   "outputs": [],
   "source": [
    "%matplotlib inline\n",
    "import numpy as np\n",
    "import matplotlib.pyplot as plt\n",
    "import pandas as pd\n",
    "import os,IPython, librosa, mir_eval\n",
    "from sys import platform\n",
    "from os import listdir\n",
    "from os.path import isfile, join,isdir\n",
    "from IPython.display import Audio\n",
    "from librosa.display import waveplot,specshow\n",
    "from librosa.onset import onset_strength, onset_detect\n",
    "from librosa.feature import melspectrogram, mfcc\n",
    "from librosa import load\n",
    "\n",
    "from collections import defaultdict,OrderedDict\n",
    "import sklearn\n",
    "from sklearn.preprocessing import StandardScaler,LabelEncoder\n",
    "import scipy\n",
    "from pandas import HDFStore,DataFrame\n",
    "\n"
   ]
  },
  {
   "cell_type": "markdown",
   "metadata": {},
   "source": [
    "# Song Extraction from fma_small\n",
    "\n",
    "1. Find the song folder path relative to the current computer\n",
    "2. Retrieve the different genre classifications\n",
    "3. Identify each song via its full path to song using index, to guarantee one-to-one mapping \n",
    "4. Sort in alphabetical order"
   ]
  },
  {
   "cell_type": "code",
   "execution_count": 2,
   "metadata": {
    "collapsed": false
   },
   "outputs": [
    {
     "name": "stdout",
     "output_type": "stream",
     "text": [
      "/Users/chibmac/Documents/fma_small\n",
      "/Users/chibmac/Documents/fma_small/fma_small.json\n"
     ]
    }
   ],
   "source": [
    "#retrieving path to the fma_small directory and the corresponding meta data\n",
    "HOME_DIR = IPython.utils.path.get_home_dir()\n",
    "\n",
    "temp = join(HOME_DIR, 'Documents')\n",
    "path_to_small_fma = join(temp, 'fma_small')\n",
    "json_file = join(path_to_small_fma,'fma_small.json')\n",
    "#locate meta_dta\n",
    "print(path_to_small_fma)\n",
    "df = pd.read_json(json_file)\n",
    "print(json_file)\n"
   ]
  },
  {
   "cell_type": "code",
   "execution_count": 3,
   "metadata": {
    "collapsed": false
   },
   "outputs": [
    {
     "data": {
      "text/html": [
       "<div>\n",
       "<table border=\"1\" class=\"dataframe\">\n",
       "  <thead>\n",
       "    <tr style=\"text-align: right;\">\n",
       "      <th></th>\n",
       "      <th>top_genre</th>\n",
       "      <th>train</th>\n",
       "      <th>full_path_to_song</th>\n",
       "    </tr>\n",
       "  </thead>\n",
       "  <tbody>\n",
       "    <tr>\n",
       "      <th>100538</th>\n",
       "      <td>Electronic</td>\n",
       "      <td>True</td>\n",
       "      <td>/Users/chibmac/Documents/fma_small/Electronic/...</td>\n",
       "    </tr>\n",
       "    <tr>\n",
       "      <th>43206</th>\n",
       "      <td>Electronic</td>\n",
       "      <td>True</td>\n",
       "      <td>/Users/chibmac/Documents/fma_small/Electronic/...</td>\n",
       "    </tr>\n",
       "    <tr>\n",
       "      <th>43199</th>\n",
       "      <td>Electronic</td>\n",
       "      <td>True</td>\n",
       "      <td>/Users/chibmac/Documents/fma_small/Electronic/...</td>\n",
       "    </tr>\n",
       "    <tr>\n",
       "      <th>43153</th>\n",
       "      <td>Electronic</td>\n",
       "      <td>True</td>\n",
       "      <td>/Users/chibmac/Documents/fma_small/Electronic/...</td>\n",
       "    </tr>\n",
       "    <tr>\n",
       "      <th>43124</th>\n",
       "      <td>Electronic</td>\n",
       "      <td>True</td>\n",
       "      <td>/Users/chibmac/Documents/fma_small/Electronic/...</td>\n",
       "    </tr>\n",
       "  </tbody>\n",
       "</table>\n",
       "</div>"
      ],
      "text/plain": [
       "         top_genre train                                  full_path_to_song\n",
       "100538  Electronic  True  /Users/chibmac/Documents/fma_small/Electronic/...\n",
       "43206   Electronic  True  /Users/chibmac/Documents/fma_small/Electronic/...\n",
       "43199   Electronic  True  /Users/chibmac/Documents/fma_small/Electronic/...\n",
       "43153   Electronic  True  /Users/chibmac/Documents/fma_small/Electronic/...\n",
       "43124   Electronic  True  /Users/chibmac/Documents/fma_small/Electronic/..."
      ]
     },
     "execution_count": 3,
     "metadata": {},
     "output_type": "execute_result"
    }
   ],
   "source": [
    "#only choose top genre as the label\n",
    "df = df.loc[:,['top_genre','train']]\n",
    "\n",
    "#ensure that the genre name matches file name in fma_small, \n",
    "#i.e Oldtime / Historian conflict issue\n",
    "df['top_genre']=df['top_genre'].apply(lambda y: y.split(os.sep)[0].strip())\n",
    "#locate each individual song by its full path\n",
    "df['temp'] = path_to_small_fma\n",
    "str_index = [\"%.2d\" % x for x in df.index]\n",
    "complete_genre_list = df['top_genre'].unique()\n",
    "\n",
    "#create full path to file and store as a single array\n",
    "df['full_path_to_song'] = df.temp.map(str)+ \"/\"+ df['top_genre'].values+ \"/\"+ str_index+ \".mp3\"\n",
    "del df['temp']\n",
    "#keep songs according to alphabetical order of songs \n",
    "df.sort_values(by = 'top_genre', inplace = True)\n",
    "df.head()\n"
   ]
  },
  {
   "cell_type": "code",
   "execution_count": 4,
   "metadata": {
    "collapsed": false
   },
   "outputs": [
    {
     "data": {
      "text/html": [
       "<div>\n",
       "<table border=\"1\" class=\"dataframe\">\n",
       "  <thead>\n",
       "    <tr style=\"text-align: right;\">\n",
       "      <th></th>\n",
       "      <th>Genre</th>\n",
       "    </tr>\n",
       "  </thead>\n",
       "  <tbody>\n",
       "    <tr>\n",
       "      <th>0</th>\n",
       "      <td>Electronic</td>\n",
       "    </tr>\n",
       "    <tr>\n",
       "      <th>1</th>\n",
       "      <td>Rock</td>\n",
       "    </tr>\n",
       "    <tr>\n",
       "      <th>2</th>\n",
       "      <td>Old-Time</td>\n",
       "    </tr>\n",
       "    <tr>\n",
       "      <th>3</th>\n",
       "      <td>Indie-Rock</td>\n",
       "    </tr>\n",
       "    <tr>\n",
       "      <th>4</th>\n",
       "      <td>Jazz</td>\n",
       "    </tr>\n",
       "    <tr>\n",
       "      <th>5</th>\n",
       "      <td>Folk</td>\n",
       "    </tr>\n",
       "    <tr>\n",
       "      <th>6</th>\n",
       "      <td>Pop</td>\n",
       "    </tr>\n",
       "    <tr>\n",
       "      <th>7</th>\n",
       "      <td>Psych-Rock</td>\n",
       "    </tr>\n",
       "    <tr>\n",
       "      <th>8</th>\n",
       "      <td>Punk</td>\n",
       "    </tr>\n",
       "    <tr>\n",
       "      <th>9</th>\n",
       "      <td>Hip-Hop</td>\n",
       "    </tr>\n",
       "  </tbody>\n",
       "</table>\n",
       "</div>"
      ],
      "text/plain": [
       "        Genre\n",
       "0  Electronic\n",
       "1        Rock\n",
       "2    Old-Time\n",
       "3  Indie-Rock\n",
       "4        Jazz\n",
       "5        Folk\n",
       "6         Pop\n",
       "7  Psych-Rock\n",
       "8        Punk\n",
       "9     Hip-Hop"
      ]
     },
     "execution_count": 4,
     "metadata": {},
     "output_type": "execute_result"
    }
   ],
   "source": [
    "complete_genre_list_df = pd.DataFrame(complete_genre_list, columns = ['Genre'])\n",
    "complete_genre_list_df"
   ]
  },
  {
   "cell_type": "code",
   "execution_count": 5,
   "metadata": {
    "collapsed": false
   },
   "outputs": [
    {
     "name": "stdout",
     "output_type": "stream",
     "text": [
      "Electronic    400\n",
      "Folk          400\n",
      "Hip-Hop       400\n",
      "Indie-Rock    400\n",
      "Jazz          400\n",
      "Old-Time      400\n",
      "Pop           400\n",
      "Psych-Rock    400\n",
      "Punk          400\n",
      "Rock          400\n",
      "Name: top_genre, dtype: int64\n"
     ]
    }
   ],
   "source": [
    "#retrieve number of songs per genre\n",
    "genre_and_count = df['top_genre'].value_counts().sort_index()\n",
    "all_songs_path = df['full_path_to_song'].values  \n",
    "print(genre_and_count)"
   ]
  },
  {
   "cell_type": "code",
   "execution_count": 6,
   "metadata": {
    "collapsed": false
   },
   "outputs": [
    {
     "name": "stdout",
     "output_type": "stream",
     "text": [
      "The number of genres is: 10\n"
     ]
    },
    {
     "data": {
      "text/plain": [
       "{'Electronic': 400,\n",
       " 'Folk': 400,\n",
       " 'Hip-Hop': 400,\n",
       " 'Indie-Rock': 400,\n",
       " 'Jazz': 400,\n",
       " 'Old-Time': 400,\n",
       " 'Pop': 400,\n",
       " 'Psych-Rock': 400,\n",
       " 'Punk': 400,\n",
       " 'Rock': 400}"
      ]
     },
     "execution_count": 6,
     "metadata": {},
     "output_type": "execute_result"
    }
   ],
   "source": [
    "song_counts = [] \n",
    "ordered_genres = [] \n",
    "full_song_df = OrderedDict()\n",
    "genre_to_song_dict = {}\n",
    "\n",
    "\n",
    "#retrieve number of songs per genre with the order preserved in two lists\n",
    "#ordered_genres\n",
    "#song_counts\n",
    "for i,genre in enumerate(genre_and_count.index):\n",
    "    ordered_genres.append(genre)\n",
    "    temp = df['top_genre'].value_counts()[genre]\n",
    "    song_counts.append(temp)\n",
    "\n",
    "genre_to_song_zipped = zip(ordered_genres,song_counts)\n",
    "\n",
    "num_of_genre = np.shape(genre_and_count)[0]\n",
    "print(\"The number of genres is:\", num_of_genre)\n",
    "\n",
    "#dictionary with each song count and its corresponding genre\n",
    "for genre,song_count in genre_to_song_zipped:\n",
    "    genre_to_song_dict[genre] = song_count\n",
    "\n",
    "genre_to_song_dict"
   ]
  },
  {
   "cell_type": "code",
   "execution_count": 7,
   "metadata": {
    "collapsed": false
   },
   "outputs": [
    {
     "name": "stdout",
     "output_type": "stream",
     "text": [
      "{'Electronic_paths:[array_of_all_electronic_paths]}\n"
     ]
    }
   ],
   "source": [
    "num_of_genre = np.shape(genre_and_count)[0]\n",
    "all_songs_path = df['full_path_to_song'].values\n",
    "\n",
    "paths_dict = OrderedDict()\n",
    "\n",
    "#prepend zero so we have a start point for all_songs_path \n",
    "#and avoid messing with indices\n",
    "\n",
    "#use the cumulative sum to find none uniform ranges\n",
    "song_counts.insert(0,0)\n",
    "cumulative_sum = np.cumsum(song_counts,dtype=int)\n",
    "\n",
    "#creates a dictionary of the genres and its corresponding path\n",
    "for i,genre in enumerate(ordered_genres):\n",
    "    str1=genre\n",
    "    str2 = \"_paths\"\n",
    "    genre_paths = \"\".join((str1,str2))\n",
    "    paths_dict[genre_paths] = all_songs_path[cumulative_sum[i]:cumulative_sum[i+1]]\n",
    "\n",
    "#paths_dict\n",
    "#{genre_path_name: genre_paths}\n",
    "print(\"{'Electronic_paths:[array_of_all_electronic_paths]}\")"
   ]
  },
  {
   "cell_type": "code",
   "execution_count": 8,
   "metadata": {
    "collapsed": false
   },
   "outputs": [
    {
     "name": "stdout",
     "output_type": "stream",
     "text": [
      "{'Electronic_signals:[array_of_all_electronic_paths]}\n",
      "CPU times: user 10.9 s, sys: 445 ms, total: 11.3 s\n",
      "Wall time: 11.3 s\n"
     ]
    }
   ],
   "source": [
    "%%time\n",
    "num_of_songs = 3\n",
    "sampling_rate = 44100\n",
    "\n",
    "genre_signals_dict = OrderedDict()\n",
    "#creates a dictionary of the signals in a genre and their raw file\n",
    "for genre_path_name,genre_paths in paths_dict.items():\n",
    "    str1=genre_path_name[:-5]\n",
    "    str2 = \"signals\"\n",
    "    genre_signals = \"\".join((str1,str2))       \n",
    "    try:\n",
    "        first_three = genre_paths[:num_of_songs]\n",
    "        genre_signals_dict[genre_signals] = [\n",
    "        load(p,sr=sampling_rate)[0] for p in first_three]\n",
    "    except IOError as exc:\n",
    "        print(\"Unable to locate folder\")\n",
    "        #raise IOError(\"%s: %s\" % (genre_paths, exc.strerror))\n",
    "        \n",
    "#genre_signals_dict\n",
    "#{genre_signals_name:genre_signals_paths}\n",
    "print(\"{'Electronic_signals:[array_of_all_electronic_paths]}\")"
   ]
  },
  {
   "cell_type": "code",
   "execution_count": 9,
   "metadata": {
    "collapsed": false
   },
   "outputs": [
    {
     "data": {
      "image/png": "[encoded data removed]",
      "text/plain": [
       "<matplotlib.figure.Figure at 0x1201814a8>"
      ]
     },
     "metadata": {},
     "output_type": "display_data"
    },
    {
     "data": {
      "image/png": "[encoded data removed]",
      "text/plain": [
       "<matplotlib.figure.Figure at 0x12014a278>"
      ]
     },
     "metadata": {},
     "output_type": "display_data"
    },
    {
     "data": {
      "image/png": "[encoded data removed]",
      "text/plain": [
       "<matplotlib.figure.Figure at 0x1201e7390>"
      ]
     },
     "metadata": {},
     "output_type": "display_data"
    },
    {
     "data": {
      "image/png": "[encoded data removed]",
      "text/plain": [
       "<matplotlib.figure.Figure at 0x11f704780>"
      ]
     },
     "metadata": {},
     "output_type": "display_data"
    },
    {
     "data": {
      "image/png": "[encoded data removed]",
      "text/plain": [
       "<matplotlib.figure.Figure at 0x11f8db0b8>"
      ]
     },
     "metadata": {},
     "output_type": "display_data"
    },
    {
     "data": {
      "image/png": "[encoded data removed]",
      "text/plain": [
       "<matplotlib.figure.Figure at 0x11fea1080>"
      ]
     },
     "metadata": {},
     "output_type": "display_data"
    },
    {
     "data": {
      "image/png": "[encoded data removed]",
      "text/plain": [
       "<matplotlib.figure.Figure at 0x121567d30>"
      ]
     },
     "metadata": {},
     "output_type": "display_data"
    },
    {
     "data": {
      "image/png": "[encoded data removed]",
      "text/plain": [
       "<matplotlib.figure.Figure at 0x120b907f0>"
      ]
     },
     "metadata": {},
     "output_type": "display_data"
    },
    {
     "data": {
      "image/png": "[encoded data removed]",
      "text/plain": [
       "<matplotlib.figure.Figure at 0x1210f0710>"
      ]
     },
     "metadata": {},
     "output_type": "display_data"
    },
    {
     "data": {
      "image/png": "[encoded data removed]",
      "text/plain": [
       "<matplotlib.figure.Figure at 0x1214547f0>"
      ]
     },
     "metadata": {},
     "output_type": "display_data"
    },
    {
     "data": {
      "text/plain": [
       "<matplotlib.figure.Figure at 0x120d1fbe0>"
      ]
     },
     "metadata": {},
     "output_type": "display_data"
    }
   ],
   "source": [
    "#plot the time series for each song according to the genres\n",
    "\n",
    "#sig_lengths = []\n",
    "for genre_signal_name,genre_signals in genre_signals_dict.items(): \n",
    "    for i, sig_amp in enumerate(genre_signals):\n",
    "        plt.subplot(1, num_of_songs, i+1)\n",
    "#        sig_lengths.append(len(sig_amp))\n",
    "        waveplot(sig_amp)\n",
    "        plt.ylim(-1, 1)\n",
    "        plt.title(genre_signal_name)\n",
    "    plt.figure()\n",
    "        \n",
    "    "
   ]
  },
  {
   "cell_type": "markdown",
   "metadata": {},
   "source": [
    "## Testing the complete feature extraction on a single song"
   ]
  },
  {
   "cell_type": "code",
   "execution_count": 10,
   "metadata": {
    "collapsed": false
   },
   "outputs": [
    {
     "data": {
      "text/plain": [
       "'/Users/chibmac/Documents/FinalSemesterProject/fma-baselines'"
      ]
     },
     "execution_count": 10,
     "metadata": {},
     "output_type": "execute_result"
    }
   ],
   "source": [
    "pwd"
   ]
  },
  {
   "cell_type": "code",
   "execution_count": 11,
   "metadata": {
    "collapsed": false
   },
   "outputs": [
    {
     "data": {
      "text/plain": [
       "(661248,)"
      ]
     },
     "execution_count": 11,
     "metadata": {},
     "output_type": "execute_result"
    }
   ],
   "source": [
    "#home laptop\n",
    "if \"Ubuntu\" in os.uname().version:\n",
    "    song, sampling_rate = librosa.load(\"/home/chib/Documents/fma_small/Electronic/99289.mp3\")\n",
    "\n",
    "#lab macbook\n",
    "elif \"Darwin\" in os.uname().version:\n",
    "    song, sampling_rate = librosa.load(\"/Users/chibmac/Documents/fma_small/Electronic/99289.mp3\")\n",
    "\n",
    "else: \n",
    "    song, sampling_rate = librosa.load(librosa.util.example_audio_file())\n",
    "    \n",
    "song.shape\n"
   ]
  },
  {
   "cell_type": "code",
   "execution_count": 12,
   "metadata": {
    "collapsed": false
   },
   "outputs": [
    {
     "data": {
      "text/plain": [
       "1320960"
      ]
     },
     "execution_count": 12,
     "metadata": {},
     "output_type": "execute_result"
    }
   ],
   "source": [
    "short_song_length = 1322496\n",
    "#short_song_length = int(min_song_length/2)\n",
    "short_song_length = short_song_length-(short_song_length%2048)\n",
    "short_song_length"
   ]
  },
  {
   "cell_type": "code",
   "execution_count": 13,
   "metadata": {
    "collapsed": false
   },
   "outputs": [
    {
     "data": {
      "text/plain": [
       "640"
      ]
     },
     "execution_count": 13,
     "metadata": {},
     "output_type": "execute_result"
    }
   ],
   "source": [
    "num_of_frames = int(short_song_length/2048)\n",
    "#number of frames to nearest 10 \n",
    "num_of_frames = num_of_frames-(num_of_frames%10)\n",
    "num_of_frames"
   ]
  },
  {
   "cell_type": "code",
   "execution_count": 14,
   "metadata": {
    "collapsed": false
   },
   "outputs": [
    {
     "data": {
      "text/plain": [
       "10"
      ]
     },
     "execution_count": 14,
     "metadata": {},
     "output_type": "execute_result"
    }
   ],
   "source": [
    "#the number of frames will always be a factor of 2048 and in addition 5,10 since it ends is rounded to nearest 10\n",
    "segments_list = [1,2,4,5,8,10]\n",
    "num_of_segments = segments_list[-1]\n",
    "num_of_segments"
   ]
  },
  {
   "cell_type": "code",
   "execution_count": 15,
   "metadata": {
    "collapsed": false
   },
   "outputs": [
    {
     "data": {
      "text/plain": [
       "64"
      ]
     },
     "execution_count": 15,
     "metadata": {},
     "output_type": "execute_result"
    }
   ],
   "source": [
    "num_of_frames_per_segment = int(num_of_frames/num_of_segments)\n",
    "num_of_frames_per_segment"
   ]
  },
  {
   "cell_type": "code",
   "execution_count": 16,
   "metadata": {
    "collapsed": false
   },
   "outputs": [
    {
     "data": {
      "text/plain": [
       "1310720"
      ]
     },
     "execution_count": 16,
     "metadata": {},
     "output_type": "execute_result"
    }
   ],
   "source": [
    "shortest_song_length = num_of_frames *2048\n",
    "shortest_song_length"
   ]
  },
  {
   "cell_type": "code",
   "execution_count": 17,
   "metadata": {
    "collapsed": true
   },
   "outputs": [],
   "source": [
    "num_of_mfcc = 12"
   ]
  },
  {
   "cell_type": "code",
   "execution_count": null,
   "metadata": {
    "collapsed": true
   },
   "outputs": [],
   "source": []
  },
  {
   "cell_type": "code",
   "execution_count": 18,
   "metadata": {
    "collapsed": false
   },
   "outputs": [
    {
     "data": {
      "text/plain": [
       "2560"
      ]
     },
     "execution_count": 18,
     "metadata": {},
     "output_type": "execute_result"
    }
   ],
   "source": [
    "int(np.floor((shortest_song_length*4)/2048))"
   ]
  },
  {
   "cell_type": "code",
   "execution_count": 19,
   "metadata": {
    "collapsed": false
   },
   "outputs": [
    {
     "data": {
      "text/plain": [
       "256"
      ]
     },
     "execution_count": 19,
     "metadata": {},
     "output_type": "execute_result"
    }
   ],
   "source": [
    "num_of_subframes = int(np.floor((shortest_song_length*4)/2048))\n",
    "#num_of_frames = num_of_frames-(num_of_frames%10)\n",
    "num_of_subframes_per_segment = int(num_of_subframes/num_of_segments)\n",
    "num_of_subframes_per_segment"
   ]
  },
  {
   "cell_type": "markdown",
   "metadata": {
    "collapsed": false
   },
   "source": [
    "#should be a factor of the number of frames\n",
    "factor_list = []\n",
    "for i in range(1,10):\n",
    "    if (num_of_frames%i == 0) :\n",
    "        factor_list.append(i)\n",
    "num_of_segments = factor_list[-1]\n",
    "print(\"Number of segments: %d\"% num_of_segments)\n",
    "factor_list"
   ]
  },
  {
   "cell_type": "markdown",
   "metadata": {
    "collapsed": false
   },
   "source": [
    "#2048 is default for n_fft\n",
    "#4 as hopsize is 2048/4\n",
    "song_length = int(num_of_frames*2048/4 - (num_of_frames*2048/4 %10))\n",
    "song_length"
   ]
  },
  {
   "cell_type": "code",
   "execution_count": null,
   "metadata": {
    "collapsed": true
   },
   "outputs": [],
   "source": []
  },
  {
   "cell_type": "code",
   "execution_count": 34,
   "metadata": {
    "collapsed": false
   },
   "outputs": [],
   "source": [
    "song_f = song[:shortest_song_length -1] \n",
    "song_t = song[:shortest_song_length] \n",
    "ind_song_into_segment = int(len(song_t)/num_of_segments)\n",
    "\n"
   ]
  },
  {
   "cell_type": "code",
   "execution_count": 35,
   "metadata": {
    "collapsed": false
   },
   "outputs": [
    {
     "data": {
      "text/plain": [
       "66124"
      ]
     },
     "execution_count": 35,
     "metadata": {},
     "output_type": "execute_result"
    }
   ],
   "source": [
    "ind_song_into_segment"
   ]
  },
  {
   "cell_type": "code",
   "execution_count": 36,
   "metadata": {
    "collapsed": false
   },
   "outputs": [
    {
     "data": {
      "text/plain": [
       "(661248,)"
      ]
     },
     "execution_count": 36,
     "metadata": {},
     "output_type": "execute_result"
    }
   ],
   "source": [
    "song_t.shape"
   ]
  },
  {
   "cell_type": "code",
   "execution_count": 37,
   "metadata": {
    "collapsed": false
   },
   "outputs": [
    {
     "data": {
      "text/plain": [
       "10"
      ]
     },
     "execution_count": 37,
     "metadata": {},
     "output_type": "execute_result"
    }
   ],
   "source": [
    "num_of_segments"
   ]
  },
  {
   "cell_type": "code",
   "execution_count": 38,
   "metadata": {
    "collapsed": false
   },
   "outputs": [
    {
     "ename": "ValueError",
     "evalue": "total size of new array must be unchanged",
     "output_type": "error",
     "traceback": [
      "\u001b[0;31m---------------------------------------------------------------------------\u001b[0m",
      "\u001b[0;31mValueError\u001b[0m                                Traceback (most recent call last)",
      "\u001b[0;32m<ipython-input-38-27d7fc18661a>\u001b[0m in \u001b[0;36m<module>\u001b[0;34m()\u001b[0m\n\u001b[0;32m----> 1\u001b[0;31m \u001b[0msong_into_segments\u001b[0m \u001b[0;34m=\u001b[0m \u001b[0mnp\u001b[0m\u001b[0;34m.\u001b[0m\u001b[0mreshape\u001b[0m\u001b[0;34m(\u001b[0m\u001b[0msong_t\u001b[0m\u001b[0;34m,\u001b[0m\u001b[0;34m(\u001b[0m\u001b[0mnum_of_segments\u001b[0m\u001b[0;34m,\u001b[0m\u001b[0mind_song_into_segment\u001b[0m\u001b[0;34m)\u001b[0m\u001b[0;34m)\u001b[0m\u001b[0;34m\u001b[0m\u001b[0m\n\u001b[0m\u001b[1;32m      2\u001b[0m \u001b[0msong_into_segments\u001b[0m\u001b[0;34m.\u001b[0m\u001b[0mshape\u001b[0m\u001b[0;34m\u001b[0m\u001b[0m\n",
      "\u001b[0;32m/Users/chibmac/anaconda3/lib/python3.6/site-packages/numpy/core/fromnumeric.py\u001b[0m in \u001b[0;36mreshape\u001b[0;34m(a, newshape, order)\u001b[0m\n\u001b[1;32m    222\u001b[0m     \u001b[0;32mexcept\u001b[0m \u001b[0mAttributeError\u001b[0m\u001b[0;34m:\u001b[0m\u001b[0;34m\u001b[0m\u001b[0m\n\u001b[1;32m    223\u001b[0m         \u001b[0;32mreturn\u001b[0m \u001b[0m_wrapit\u001b[0m\u001b[0;34m(\u001b[0m\u001b[0ma\u001b[0m\u001b[0;34m,\u001b[0m \u001b[0;34m'reshape'\u001b[0m\u001b[0;34m,\u001b[0m \u001b[0mnewshape\u001b[0m\u001b[0;34m,\u001b[0m \u001b[0morder\u001b[0m\u001b[0;34m=\u001b[0m\u001b[0morder\u001b[0m\u001b[0;34m)\u001b[0m\u001b[0;34m\u001b[0m\u001b[0m\n\u001b[0;32m--> 224\u001b[0;31m     \u001b[0;32mreturn\u001b[0m \u001b[0mreshape\u001b[0m\u001b[0;34m(\u001b[0m\u001b[0mnewshape\u001b[0m\u001b[0;34m,\u001b[0m \u001b[0morder\u001b[0m\u001b[0;34m=\u001b[0m\u001b[0morder\u001b[0m\u001b[0;34m)\u001b[0m\u001b[0;34m\u001b[0m\u001b[0m\n\u001b[0m\u001b[1;32m    225\u001b[0m \u001b[0;34m\u001b[0m\u001b[0m\n\u001b[1;32m    226\u001b[0m \u001b[0;34m\u001b[0m\u001b[0m\n",
      "\u001b[0;31mValueError\u001b[0m: total size of new array must be unchanged"
     ]
    }
   ],
   "source": [
    "song_into_segments = np.reshape(song_t,(num_of_segments,ind_song_into_segment))\n",
    "song_into_segments.shape"
   ]
  },
  {
   "cell_type": "markdown",
   "metadata": {},
   "source": [
    "# Time Domain Features\n",
    "- \n",
    "## Zero Crossing Rate (ZCR) \n",
    "- \n",
    "## Onsets \n"
   ]
  },
  {
   "cell_type": "code",
   "execution_count": null,
   "metadata": {
    "collapsed": false
   },
   "outputs": [],
   "source": [
    "zcr_features_per_segment = np.sum(librosa.core.zero_crossings(song_into_segments),axis = 1) #zero crossings returns boolean values\n",
    "zcr_features_per_segment = np.reshape(zcr_features_per_segment,(zcr_features_per_segment.shape[0],1))\n",
    "for i in range (num_of_segments):\n",
    "    print(\"Segment number %d: has %d zero crossings\"%(i+1,zcr_features_per_segment[i]))\n",
    "\n",
    "zcr_features_per_segment.shape"
   ]
  },
  {
   "cell_type": "code",
   "execution_count": null,
   "metadata": {
    "collapsed": false
   },
   "outputs": [],
   "source": [
    "onset_frames = librosa.onset.onset_detect(y=song_t, sr=sampling_rate, units='samples')\n",
    "onset_length = len(onset_frames)\n",
    "onset_frames"
   ]
  },
  {
   "cell_type": "code",
   "execution_count": null,
   "metadata": {
    "collapsed": false
   },
   "outputs": [],
   "source": [
    "song_splitter = np.arange(0,len(song_t)+1, ind_song_into_segment,dtype=int)\n",
    "split_length = len(song_splitter)\n",
    "song_splitter"
   ]
  },
  {
   "cell_type": "code",
   "execution_count": null,
   "metadata": {
    "collapsed": false
   },
   "outputs": [],
   "source": [
    "total_onsets = [0]\n",
    "for i in range(1,len(song_splitter)):\n",
    "    total_onsets.append(np.sum(onset_frames<song_splitter[i]))\n",
    "\n",
    "total_onsets"
   ]
  },
  {
   "cell_type": "code",
   "execution_count": null,
   "metadata": {
    "collapsed": false
   },
   "outputs": [],
   "source": [
    "total_onset_diff = np.diff(total_onsets)\n",
    "onsets_features_per_segment = np.reshape(total_onset_diff,(len(total_onset_diff),1))\n",
    "for i in range (num_of_segments):\n",
    "    print(\"Segment number %d: has %d onsets\"%(i+1,onsets_features_per_segment[i]))\n",
    "\n",
    "onsets_features_per_segment.shape"
   ]
  },
  {
   "cell_type": "code",
   "execution_count": null,
   "metadata": {
    "collapsed": false
   },
   "outputs": [],
   "source": [
    "time_domain_features = np.concatenate((zcr_features_per_segment,onsets_features_per_segment),axis =1)\n",
    "time_domain_features"
   ]
  },
  {
   "cell_type": "markdown",
   "metadata": {},
   "source": [
    "# Frequency Domain Features\n",
    "- \n",
    "## MFCC \n",
    "- \n",
    "## Spectral Centroid\n",
    "\n"
   ]
  },
  {
   "cell_type": "code",
   "execution_count": null,
   "metadata": {
    "collapsed": false
   },
   "outputs": [],
   "source": [
    "mfcc_per_segment = librosa.feature.mfcc(y=song_f, sr=sampling_rate,\n",
    "                                     n_mfcc=num_of_mfcc).T\n",
    "\n",
    "mfcc_per_segment.shape"
   ]
  },
  {
   "cell_type": "code",
   "execution_count": null,
   "metadata": {
    "collapsed": false
   },
   "outputs": [],
   "source": [
    "num_of_frames_per_segment"
   ]
  },
  {
   "cell_type": "code",
   "execution_count": null,
   "metadata": {
    "collapsed": false
   },
   "outputs": [],
   "source": [
    "num_of_mfcc"
   ]
  },
  {
   "cell_type": "code",
   "execution_count": null,
   "metadata": {
    "collapsed": false
   },
   "outputs": [],
   "source": [
    "num_of_segments"
   ]
  },
  {
   "cell_type": "code",
   "execution_count": null,
   "metadata": {
    "collapsed": false
   },
   "outputs": [],
   "source": [
    "mfcc_per_segment = librosa.feature.mfcc(y=song_f, sr=sampling_rate,\n",
    "                                     n_mfcc=num_of_mfcc).T\n",
    "print(\"The number of frames is %d\" % mfcc_per_segment.shape[0])"
   ]
  },
  {
   "cell_type": "code",
   "execution_count": null,
   "metadata": {
    "collapsed": false
   },
   "outputs": [],
   "source": [
    "mfcc_per_segment.shape"
   ]
  },
  {
   "cell_type": "code",
   "execution_count": null,
   "metadata": {
    "collapsed": false
   },
   "outputs": [],
   "source": [
    "mfcc_per_segment = librosa.feature.mfcc(y=song_f, sr=sampling_rate,\n",
    "                                     n_mfcc=num_of_mfcc).T\n",
    "print(\"The number of frames is %d\" % mfcc_per_segment.shape[0])\n",
    "mfcc_per_segment = np.reshape(mfcc_per_segment,(num_of_segments,num_of_subframes_per_segment,num_of_mfcc))\n",
    "mps_seg,mps_fps,mps_mfccs = mfcc_per_segment.shape\n",
    "\n",
    "print(\"Number of Segments: %d, Number of subframes per segment: %d, Number of mfccs:%d\" %(mps_seg,mps_fps, mps_mfccs))  \n",
    "\n",
    "mfcc_per_segment.shape\n"
   ]
  },
  {
   "cell_type": "code",
   "execution_count": null,
   "metadata": {
    "collapsed": false
   },
   "outputs": [],
   "source": [
    "mean_mfcc_per_segment = np.mean(mfcc_per_segment,axis=1)\n",
    "#mean_mfcc_per_segment = np.reshape(mean_mfcc_per_segment,(mean_mfcc_per_segment.shape[0],1,mean_mfcc_per_segment.shape[1]))\n",
    "var_mfcc_per_segment = np.var(mfcc_per_segment,axis =1)\n",
    "#var_mfcc_per_segment = np.reshape(var_mfcc_per_segment,(var_mfcc_per_segment.shape[0],1,var_mfcc_per_segment.shape[1]))\n",
    "skew_mfcc_per_segment = scipy.stats.skew(mfcc_per_segment,axis =1)\n",
    "#skew_mfcc_per_segment = np.reshape(skew_mfcc_per_segment,(skew_mfcc_per_segment.shape[0],1,skew_mfcc_per_segment.shape[1]))\n",
    "kurtosis_mfcc_per_segment = scipy.stats.kurtosis(mfcc_per_segment,axis =1)\n",
    "#kurtosis_mfcc_per_segment = np.reshape(kurtosis_mfcc_per_segment,(kurtosis_mfcc_per_segment.shape[0],1,kurtosis_mfcc_per_segment.shape[1]))\n"
   ]
  },
  {
   "cell_type": "code",
   "execution_count": null,
   "metadata": {
    "collapsed": false
   },
   "outputs": [],
   "source": [
    "mfcc_features_per_segment = np.concatenate((mean_mfcc_per_segment,var_mfcc_per_segment,skew_mfcc_per_segment,kurtosis_mfcc_per_segment),axis = 1)\n",
    "\n",
    "mfcc_features_per_segment.shape"
   ]
  },
  {
   "cell_type": "code",
   "execution_count": null,
   "metadata": {
    "collapsed": false
   },
   "outputs": [],
   "source": [
    "spectral_centroid = librosa.feature.spectral_centroid(y=song_f, sr=sampling_rate).T\n",
    "print(spectral_centroid.shape)\n",
    "spc_per_segment = np.reshape(spectral_centroid, (num_of_segments,num_of_subframes_per_segment))\n",
    "spc_per_segment.shape\n",
    "#mean_spc_per_segment.shape"
   ]
  },
  {
   "cell_type": "code",
   "execution_count": null,
   "metadata": {
    "collapsed": false
   },
   "outputs": [],
   "source": [
    "mean_spc_per_segment = np.mean(spc_per_segment,axis=1)\n",
    "mean_spc_per_segment = np.reshape(mean_spc_per_segment,(len(mean_spc_per_segment),1))\n",
    "var_spc_per_segment = np.var(spc_per_segment,axis =1)\n",
    "var_spc_per_segment = np.reshape(var_spc_per_segment,(len(var_spc_per_segment),1))\n",
    "skew_spc_per_segment = scipy.stats.skew(spc_per_segment,axis =1)\n",
    "skew_spc_per_segment = np.reshape(skew_spc_per_segment,(len(skew_spc_per_segment),1))\n",
    "kurtosis_spc_per_segment = scipy.stats.kurtosis(spc_per_segment,axis =1)\n",
    "kurtosis_spc_per_segment = np.reshape(kurtosis_spc_per_segment,(len(kurtosis_spc_per_segment),1))\n",
    "\n",
    "mean_spc_per_segment.shape"
   ]
  },
  {
   "cell_type": "code",
   "execution_count": null,
   "metadata": {
    "collapsed": false
   },
   "outputs": [],
   "source": [
    "spc_features_per_segment = np.concatenate((mean_spc_per_segment,var_spc_per_segment,skew_spc_per_segment,kurtosis_spc_per_segment),axis = 1)\n",
    "\n",
    "#spc_x,spc_y = spc_features_per_segment.shape\n",
    "\n",
    "#spc_features_per_segment = np.reshape(spc_features_per_segment,(spc_x,spc_y,1))\n",
    "spc_features_per_segment.shape"
   ]
  },
  {
   "cell_type": "code",
   "execution_count": null,
   "metadata": {
    "collapsed": false
   },
   "outputs": [],
   "source": [
    "mfcc_features_per_segment.shape"
   ]
  },
  {
   "cell_type": "code",
   "execution_count": null,
   "metadata": {
    "collapsed": false
   },
   "outputs": [],
   "source": [
    "spc_features_per_segment.shape"
   ]
  },
  {
   "cell_type": "code",
   "execution_count": null,
   "metadata": {
    "collapsed": false
   },
   "outputs": [],
   "source": [
    "freq_domain_feat_per_segment = np.concatenate((mfcc_features_per_segment,spc_features_per_segment),axis =1)\n",
    "freq_domain_feat_per_segment.shape"
   ]
  },
  {
   "cell_type": "code",
   "execution_count": null,
   "metadata": {
    "collapsed": false
   },
   "outputs": [],
   "source": [
    "time_domain_features.shape"
   ]
  },
  {
   "cell_type": "code",
   "execution_count": null,
   "metadata": {
    "collapsed": false
   },
   "outputs": [],
   "source": [
    "freq_domain_feat_per_segment.shape"
   ]
  },
  {
   "cell_type": "code",
   "execution_count": null,
   "metadata": {
    "collapsed": false
   },
   "outputs": [],
   "source": [
    "features_per_segment= np.concatenate((time_domain_features,freq_domain_feat_per_segment),axis =1)\n",
    "\n",
    "#fps_song,fps_sect,fps_hops,fps_per_hop= features_per_section.shape\n",
    "\n",
    "features_per_segment.shape"
   ]
  },
  {
   "cell_type": "code",
   "execution_count": null,
   "metadata": {
    "collapsed": false
   },
   "outputs": [],
   "source": [
    "print(\"MFCC Per Segment with 12 nfccs and 4 statistical moments: \",mfcc_features_per_segment.shape,\"ZCR Per Segment:\",zcr_features_per_segment.shape,\n",
    "      \"\\n SPC Per Segment with 4  statistical moments:\",spc_features_per_segment.shape,\"Onsets Per Segment: \",onsets_features_per_segment.shape)"
   ]
  },
  {
   "cell_type": "code",
   "execution_count": null,
   "metadata": {
    "collapsed": false
   },
   "outputs": [],
   "source": [
    "def complete_extract_features(song,num_of_mfcces,genre,train):\n",
    "    #print(\"i am here\",song.shape)\n",
    "    try:\n",
    "        short_song_length = 1322496\n",
    "        #short_song_length = int(min_song_length/2)\n",
    "        short_song_length = short_song_length-(short_song_length%2048)\n",
    "        #print(\"over here again\")\n",
    "        \n",
    "        num_of_frames = int(short_song_length/2048)\n",
    "        #number of frames to nearest 10 \n",
    "        num_of_frames = num_of_frames-(num_of_frames%10)\n",
    "        \n",
    "        #the number of frames will always be a factor of 2048 and in addition 5,10 since it ends is rounded to nearest 10\n",
    "        segments_list = [1,2,4,5,8,10]\n",
    "        num_of_segments = segments_list[-1]\n",
    "        \n",
    "        num_of_frames_per_segment = int(num_of_frames/num_of_segments)\n",
    "        \n",
    "        shortest_song_length = num_of_frames *2048\n",
    "        \n",
    "        num_of_subframes = int(np.floor((shortest_song_length*4)/2048))\n",
    "        #num_of_frames = num_of_frames-(num_of_frames%10)\n",
    "        num_of_subframes_per_segment = int(num_of_subframes/num_of_segments)\n",
    "\n",
    "        \n",
    "        song_f = song[:shortest_song_length -1] \n",
    "        song_t = song[:shortest_song_length] \n",
    "        ind_song_into_segment = int(len(song_t)/num_of_segments)\n",
    "        song_into_segments = np.reshape(song_t,(num_of_segments,ind_song_into_segment))\n",
    "\n",
    "        \n",
    "        zcr_features_per_segment = np.sum(librosa.core.zero_crossings(song_into_segments),axis = 1) #zero crossings returns boolean values\n",
    "        zcr_features_per_segment = np.reshape(zcr_features_per_segment,(zcr_features_per_segment.shape[0],1))\n",
    "\n",
    "        onset_frames = librosa.onset.onset_detect(y=song_t, sr=sampling_rate, units='samples')\n",
    "        onset_length = len(onset_frames)\n",
    "        song_splitter = np.arange(0,len(song_t)+1, ind_song_into_segment,dtype=int)\n",
    "        split_length = len(song_splitter)\n",
    "        total_onsets = [0]\n",
    "        \n",
    "        for i in range(1,len(song_splitter)):\n",
    "            total_onsets.append(np.sum(onset_frames<song_splitter[i]))\n",
    "\n",
    "        total_onset_diff = np.diff(total_onsets)\n",
    "        onsets_features_per_segment = np.reshape(total_onset_diff,(len(total_onset_diff),1))\n",
    "        time_domain_features = np.concatenate((zcr_features_per_segment,onsets_features_per_segment),axis =1)\n",
    "\n",
    "        #print(\"over here again1\")\n",
    "        mfcc_per_segment = librosa.feature.mfcc(y=song_f, sr=sampling_rate,\n",
    "                                         n_mfcc=num_of_mfcc).T\n",
    "        mfcc_per_segment = np.reshape(mfcc_per_segment,(num_of_segments,num_of_subframes_per_segment,num_of_mfcc))\n",
    "\n",
    "        mean_mfcc_per_segment = np.mean(mfcc_per_segment,axis=1)\n",
    "        var_mfcc_per_segment = np.var(mfcc_per_segment,axis =1)\n",
    "        skew_mfcc_per_segment = scipy.stats.skew(mfcc_per_segment,axis =1)\n",
    "        kurtosis_mfcc_per_segment = scipy.stats.kurtosis(mfcc_per_segment,axis =1)\n",
    "        #print(\"over here again2\")\n",
    "        spectral_centroid = librosa.feature.spectral_centroid(y=song_f, sr=sampling_rate).T\n",
    "        spc_per_segment = np.reshape(spectral_centroid, (num_of_segments,num_of_subframes_per_segment))\n",
    "\n",
    "        mean_spc_per_segment = np.mean(spc_per_segment,axis=1)\n",
    "        mean_spc_per_segment = np.reshape(mean_spc_per_segment,(len(mean_spc_per_segment),1))\n",
    "        var_spc_per_segment = np.var(spc_per_segment,axis =1)\n",
    "        var_spc_per_segment = np.reshape(var_spc_per_segment,(len(var_spc_per_segment),1))\n",
    "        skew_spc_per_segment = scipy.stats.skew(spc_per_segment,axis =1)\n",
    "        skew_spc_per_segment = np.reshape(skew_spc_per_segment,(len(skew_spc_per_segment),1))\n",
    "        kurtosis_spc_per_segment = scipy.stats.kurtosis(spc_per_segment,axis =1)\n",
    "        kurtosis_spc_per_segment = np.reshape(kurtosis_spc_per_segment,(len(kurtosis_spc_per_segment),1))\n",
    "\n",
    "        spc_features_per_segment = np.concatenate((mean_spc_per_segment,var_spc_per_segment,skew_spc_per_segment,kurtosis_spc_per_segment),axis = 1)\n",
    "        #print(\"over here again3\")\n",
    "        freq_domain_feat_per_segment = np.concatenate((mfcc_features_per_segment,spc_features_per_segment),axis =1)\n",
    "        \n",
    "        features_per_segment= np.concatenate((time_domain_features,freq_domain_feat_per_segment),axis =1)\n",
    "        \n",
    "        #fps_x,fps_y = features_per_segment.shape\n",
    "        #features_per_segment = np.reshape(features_per_segment,(1,fps_x*fps_y))\n",
    "\n",
    "    except:        \n",
    "        print(\"There was an error whilst computing the features\")\n",
    "    return features_per_segment\n",
    "    "
   ]
  },
  {
   "cell_type": "code",
   "execution_count": null,
   "metadata": {
    "collapsed": false
   },
   "outputs": [],
   "source": [
    "song.shape"
   ]
  },
  {
   "cell_type": "code",
   "execution_count": null,
   "metadata": {
    "collapsed": false
   },
   "outputs": [],
   "source": [
    "num_of_segments"
   ]
  },
  {
   "cell_type": "code",
   "execution_count": null,
   "metadata": {
    "collapsed": false
   },
   "outputs": [],
   "source": [
    "test_out = complete_extract_features(song,num_of_mfcc,10,'True')\n",
    "test_out.shape\n"
   ]
  },
  {
   "cell_type": "markdown",
   "metadata": {},
   "source": [
    "## Generalisation of feature extraction for all the songs in the fma_small dataset\n"
   ]
  },
  {
   "cell_type": "code",
   "execution_count": null,
   "metadata": {
    "collapsed": false
   },
   "outputs": [],
   "source": [
    "pwd"
   ]
  },
  {
   "cell_type": "code",
   "execution_count": null,
   "metadata": {
    "collapsed": false
   },
   "outputs": [],
   "source": [
    "song_num = 0\n",
    "tot_num_of_songs = cumulative_sum[-1]\n",
    "indiv_song_path= []\n",
    "for genre_path_name,genre_paths in paths_dict.items(): \n",
    "    song_num=song_num+1\n",
    "    indiv_song_path.append(genre_paths)\n",
    "  \n",
    "\n",
    "indiv_song_path_list = np.array(indiv_song_path).reshape(tot_num_of_songs,)"
   ]
  },
  {
   "cell_type": "code",
   "execution_count": null,
   "metadata": {
    "collapsed": false
   },
   "outputs": [],
   "source": [
    "indiv_song_path_list\n"
   ]
  },
  {
   "cell_type": "code",
   "execution_count": null,
   "metadata": {
    "collapsed": false
   },
   "outputs": [],
   "source": [
    "genres = []\n",
    "for song_num in range(len(indiv_song_path_list)):\n",
    "    temp = indiv_song_path_list[song_num].split(os.sep)[-2]\n",
    "    genres.append(temp)\n",
    "        "
   ]
  },
  {
   "cell_type": "code",
   "execution_count": null,
   "metadata": {
    "collapsed": false
   },
   "outputs": [],
   "source": [
    "type(genres)"
   ]
  },
  {
   "cell_type": "code",
   "execution_count": null,
   "metadata": {
    "collapsed": false
   },
   "outputs": [],
   "source": [
    "le = LabelEncoder()\n",
    "genres= np.repeat(np.array(genres),num_of_segments,axis=0)\n",
    "encoded_genres= le.fit(genres)"
   ]
  },
  {
   "cell_type": "code",
   "execution_count": null,
   "metadata": {
    "collapsed": false
   },
   "outputs": [],
   "source": [
    "num_of_segments"
   ]
  },
  {
   "cell_type": "code",
   "execution_count": null,
   "metadata": {
    "collapsed": false
   },
   "outputs": [],
   "source": [
    "genres"
   ]
  },
  {
   "cell_type": "code",
   "execution_count": null,
   "metadata": {
    "collapsed": false
   },
   "outputs": [],
   "source": [
    "le = LabelEncoder()\n",
    "genres= np.repeat(np.array(genres),num_of_segments,axis=0)\n",
    "print(genres.shape)\n",
    "encoded_genres= le.fit(genres)\n",
    "train_labels = np.repeat(np.squeeze(df.loc[:,['train']].values), num_of_segments,axis = 0)\n",
    "print(train_labels.shape)\n",
    "encoded_genres\n",
    "\n",
    "#Label Encoding Mapping\n",
    "encoder_df= pd.DataFrame(data= {'Genre':genres,\n",
    "                   'Encoded_Genre':le.transform(genres),\n",
    "                               'Train': train_labels})\n",
    "encoder_df.head()"
   ]
  },
  {
   "cell_type": "code",
   "execution_count": null,
   "metadata": {
    "collapsed": false
   },
   "outputs": [],
   "source": [
    "encoder_df.shape"
   ]
  },
  {
   "cell_type": "code",
   "execution_count": null,
   "metadata": {
    "collapsed": false
   },
   "outputs": [],
   "source": [
    "print(\"I AM HERE\")"
   ]
  },
  {
   "cell_type": "code",
   "execution_count": null,
   "metadata": {
    "collapsed": true
   },
   "outputs": [],
   "source": [
    "encoder_df.shape()"
   ]
  },
  {
   "cell_type": "code",
   "execution_count": null,
   "metadata": {
    "collapsed": false
   },
   "outputs": [],
   "source": [
    "%%time\n",
    "\n",
    "final_d = np.zeros((encoder_df.shape[0],test_out.shape[1]))\n",
    "print(final_d.shape)\n",
    "\n",
    "for song_num in range(len(indiv_song_path_list)):\n",
    "    try:\n",
    "        indiv_song_path = indiv_song_path_list[song_num]\n",
    "        song_signal = librosa.load(indiv_song_path,sr=sampling_rate)[0]\n",
    "        curr_song_genre = encoder_df['Encoded_Genre'][song_num]\n",
    "        train_song = encoder_df['Train'][song_num]\n",
    "        complete_extract_features(song,num_of_mfcc,curr_song_genre,train_song)\n",
    "        indiv_song = complete_extract_features(song_signal,num_of_mfcc,curr_song_genre,train_song)\n",
    "        for i in range(num_of_segments):\n",
    "            final_d[song_num,:] = indiv_song[i,:]\n",
    "            \n",
    "        #final_d[song_num]= complete_extract_features(song_signal,num_of_mfcc,curr_song_genre,train_song)\n",
    "        #print(complete_extract_features(song_signal,num_of_sections,num_of_hops_per_section,num_of_mfcc,num_of_features,curr_song_genre).shape)\n",
    "        \n",
    "        \n",
    "    except IOError as exc:\n",
    "        print(\"Unable to locate folder\")\n",
    "    \n",
    "\n",
    "\n",
    "            "
   ]
  },
  {
   "cell_type": "code",
   "execution_count": null,
   "metadata": {
    "collapsed": false
   },
   "outputs": [],
   "source": [
    "final_d.shape"
   ]
  },
  {
   "cell_type": "code",
   "execution_count": null,
   "metadata": {
    "collapsed": false
   },
   "outputs": [],
   "source": [
    "print(\"I AM HERE\")"
   ]
  },
  {
   "cell_type": "code",
   "execution_count": null,
   "metadata": {
    "collapsed": false
   },
   "outputs": [],
   "source": [
    "\n",
    "complete_df = pd.DataFrame(data=final_d.T,index =range(final_d.shape[1]))\n",
    "complete_df = complete_df.T\n",
    "\n",
    "complete_df.head()"
   ]
  },
  {
   "cell_type": "code",
   "execution_count": null,
   "metadata": {
    "collapsed": false
   },
   "outputs": [],
   "source": [
    "complete_df.shape"
   ]
  },
  {
   "cell_type": "code",
   "execution_count": null,
   "metadata": {
    "collapsed": false
   },
   "outputs": [],
   "source": [
    "encoder_df.head()"
   ]
  },
  {
   "cell_type": "code",
   "execution_count": null,
   "metadata": {
    "collapsed": false
   },
   "outputs": [],
   "source": [
    "encoder_df.shape"
   ]
  },
  {
   "cell_type": "code",
   "execution_count": null,
   "metadata": {
    "collapsed": false
   },
   "outputs": [],
   "source": [
    "final_df = pd.concat([complete_df,encoder_df],axis =1)\n",
    "final_df.head()\n"
   ]
  },
  {
   "cell_type": "code",
   "execution_count": null,
   "metadata": {
    "collapsed": false
   },
   "outputs": [],
   "source": [
    "final_df.shape"
   ]
  },
  {
   "cell_type": "code",
   "execution_count": null,
   "metadata": {
    "collapsed": false
   },
   "outputs": [],
   "source": [
    "final_df.head(53)"
   ]
  },
  {
   "cell_type": "code",
   "execution_count": null,
   "metadata": {
    "collapsed": true
   },
   "outputs": [],
   "source": [
    "final_df.to_csv(\"FullSongFeatureExtraction2ndJune.csv\",sep=',')"
   ]
  },
  {
   "cell_type": "code",
   "execution_count": null,
   "metadata": {
    "collapsed": true
   },
   "outputs": [],
   "source": []
  }
 ],
 "metadata": {
  "kernelspec": {
   "display_name": "Python 3",
   "language": "python",
   "name": "python3"
  },
  "language_info": {
   "codemirror_mode": {
    "name": "ipython",
    "version": 3
   },
   "file_extension": ".py",
   "mimetype": "text/x-python",
   "name": "python",
   "nbconvert_exporter": "python",
   "pygments_lexer": "ipython3",
   "version": "3.6.0"
  }
 },
 "nbformat": 4,
 "nbformat_minor": 2
}
